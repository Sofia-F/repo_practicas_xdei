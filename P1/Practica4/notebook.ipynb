{
 "cells": [
  {
   "cell_type": "code",
   "execution_count": 1,
   "metadata": {},
   "outputs": [],
   "source": [
    "import pandas as pd"
   ]
  },
  {
   "cell_type": "code",
   "execution_count": 2,
   "metadata": {},
   "outputs": [],
   "source": [
    "animals = pd.read_csv(\"animals.csv\")\n",
    "tractors = pd.read_csv(\"tractors.csv\")\n",
    "soil = pd.read_csv(\"soilsensor.csv\")\n",
    "filling = pd.read_csv(\"fillingsensor.csv\")"
   ]
  },
  {
   "cell_type": "markdown",
   "metadata": {},
   "source": [
    "Porcentaje de status de cada animal de la granja con un barplot"
   ]
  },
  {
   "cell_type": "code",
   "execution_count": 3,
   "metadata": {},
   "outputs": [
    {
     "name": "stdout",
     "output_type": "stream",
     "text": [
      "entity_id                  time_index                        heartrate  location               status\n",
      "urn:ngsi-ld:Device:cow001  2024-05-08T16:53:56.870000+00:00  51         POINT (13.41 52.469)   0         0.047619\n",
      "                           2024-05-08T16:54:11.767000+00:00  52         POINT (13.41 52.469)   0         0.047619\n",
      "                           2024-05-08T16:54:21.794000+00:00  51         POINT (13.41 52.469)   0         0.047619\n",
      "                           2024-05-08T16:54:26.912000+00:00  52         POINT (13.41 52.469)   0         0.047619\n",
      "                           2024-05-08T16:54:36.993000+00:00  51         POINT (13.41 52.469)   0         0.047619\n",
      "                                                                                                           ...   \n",
      "urn:ngsi-ld:Device:pig004  2024-05-08T16:56:06.899000+00:00  65         POINT (13.354 52.514)  3         0.040000\n",
      "                           2024-05-08T16:56:11.841000+00:00  66         POINT (13.353 52.513)  3         0.040000\n",
      "                           2024-05-08T16:56:16.817000+00:00  66         POINT (13.352 52.514)  3         0.040000\n",
      "                           2024-05-08T16:56:21.871000+00:00  65         POINT (13.352 52.514)  5         0.040000\n",
      "                           2024-05-08T16:56:26.833000+00:00  64         POINT (13.353 52.515)  5         0.040000\n",
      "Name: proportion, Length: 194, dtype: float64\n"
     ]
    }
   ],
   "source": [
    "status_perc = animals.groupby(\"entity_id\").value_counts(normalize=True)\n",
    "print(status_perc)"
   ]
  }
 ],
 "metadata": {
  "kernelspec": {
   "display_name": ".venv",
   "language": "python",
   "name": "python3"
  },
  "language_info": {
   "codemirror_mode": {
    "name": "ipython",
    "version": 3
   },
   "file_extension": ".py",
   "mimetype": "text/x-python",
   "name": "python",
   "nbconvert_exporter": "python",
   "pygments_lexer": "ipython3",
   "version": "3.12.3"
  }
 },
 "nbformat": 4,
 "nbformat_minor": 2
}
