{
 "cells": [
  {
   "cell_type": "code",
   "execution_count": 210,
   "metadata": {},
   "outputs": [],
   "source": [
    "import pandas as pd\n",
    "import plotly\n",
    "import json\n",
    "import plotly.express as px\n",
    "import geopandas\n",
    "import folium"
   ]
  },
  {
   "cell_type": "code",
   "execution_count": 247,
   "metadata": {},
   "outputs": [],
   "source": [
    "animals = pd.read_csv(\"animals.csv\")\n",
    "animals[\"entity_id\"] = animals[\"entity_id\"].str.split(\":\").str[3]\n",
    "animals[\"location\"] = geopandas.GeoSeries.from_wkt(animals[\"location\"])\n",
    "tractors = pd.read_csv(\"tractors.csv\")\n",
    "soil = pd.read_csv(\"soilsensor.csv\")\n",
    "filling = pd.read_csv(\"fillingsensor.csv\")"
   ]
  },
  {
   "cell_type": "markdown",
   "metadata": {},
   "source": [
    "# Graficas propias"
   ]
  },
  {
   "cell_type": "markdown",
   "metadata": {},
   "source": [
    "Porcentaje de status de cada animal de la granja con un barplot"
   ]
  },
  {
   "cell_type": "code",
   "execution_count": 74,
   "metadata": {},
   "outputs": [
    {
     "data": {
      "application/vnd.plotly.v1+json": {
       "config": {
        "plotlyServerURL": "https://plot.ly"
       },
       "data": [
        {
         "alignmentgroup": "True",
         "hovertemplate": "entity_id=%{x}<br>count=%{y}<br>status=%{marker.color}<extra></extra>",
         "legendgroup": "",
         "marker": {
          "color": [
           0,
           6,
           0,
           6,
           0,
           0,
           5,
           6,
           0,
           3,
           5,
           0,
           3,
           5,
           0,
           3,
           0,
           3,
           5
          ],
          "coloraxis": "coloraxis",
          "pattern": {
           "shape": ""
          }
         },
         "name": "",
         "offsetgroup": "",
         "orientation": "v",
         "showlegend": false,
         "textposition": "auto",
         "type": "bar",
         "x": [
          "cow001",
          "cow001",
          "cow002",
          "cow002",
          "cow003",
          "cow004",
          "cow004",
          "cow004",
          "pig001",
          "pig001",
          "pig001",
          "pig002",
          "pig002",
          "pig002",
          "pig003",
          "pig003",
          "pig004",
          "pig004",
          "pig004"
         ],
         "xaxis": "x",
         "y": [
          20,
          1,
          3,
          23,
          18,
          19,
          1,
          7,
          15,
          1,
          6,
          13,
          9,
          5,
          11,
          17,
          8,
          10,
          7
         ],
         "yaxis": "y"
        }
       ],
       "layout": {
        "barmode": "relative",
        "coloraxis": {
         "colorbar": {
          "title": {
           "text": "status"
          }
         },
         "colorscale": [
          [
           0,
           "#0d0887"
          ],
          [
           0.1111111111111111,
           "#46039f"
          ],
          [
           0.2222222222222222,
           "#7201a8"
          ],
          [
           0.3333333333333333,
           "#9c179e"
          ],
          [
           0.4444444444444444,
           "#bd3786"
          ],
          [
           0.5555555555555556,
           "#d8576b"
          ],
          [
           0.6666666666666666,
           "#ed7953"
          ],
          [
           0.7777777777777778,
           "#fb9f3a"
          ],
          [
           0.8888888888888888,
           "#fdca26"
          ],
          [
           1,
           "#f0f921"
          ]
         ]
        },
        "legend": {
         "tracegroupgap": 0
        },
        "margin": {
         "t": 60
        },
        "template": {
         "data": {
          "bar": [
           {
            "error_x": {
             "color": "#2a3f5f"
            },
            "error_y": {
             "color": "#2a3f5f"
            },
            "marker": {
             "line": {
              "color": "#E5ECF6",
              "width": 0.5
             },
             "pattern": {
              "fillmode": "overlay",
              "size": 10,
              "solidity": 0.2
             }
            },
            "type": "bar"
           }
          ],
          "barpolar": [
           {
            "marker": {
             "line": {
              "color": "#E5ECF6",
              "width": 0.5
             },
             "pattern": {
              "fillmode": "overlay",
              "size": 10,
              "solidity": 0.2
             }
            },
            "type": "barpolar"
           }
          ],
          "carpet": [
           {
            "aaxis": {
             "endlinecolor": "#2a3f5f",
             "gridcolor": "white",
             "linecolor": "white",
             "minorgridcolor": "white",
             "startlinecolor": "#2a3f5f"
            },
            "baxis": {
             "endlinecolor": "#2a3f5f",
             "gridcolor": "white",
             "linecolor": "white",
             "minorgridcolor": "white",
             "startlinecolor": "#2a3f5f"
            },
            "type": "carpet"
           }
          ],
          "choropleth": [
           {
            "colorbar": {
             "outlinewidth": 0,
             "ticks": ""
            },
            "type": "choropleth"
           }
          ],
          "contour": [
           {
            "colorbar": {
             "outlinewidth": 0,
             "ticks": ""
            },
            "colorscale": [
             [
              0,
              "#0d0887"
             ],
             [
              0.1111111111111111,
              "#46039f"
             ],
             [
              0.2222222222222222,
              "#7201a8"
             ],
             [
              0.3333333333333333,
              "#9c179e"
             ],
             [
              0.4444444444444444,
              "#bd3786"
             ],
             [
              0.5555555555555556,
              "#d8576b"
             ],
             [
              0.6666666666666666,
              "#ed7953"
             ],
             [
              0.7777777777777778,
              "#fb9f3a"
             ],
             [
              0.8888888888888888,
              "#fdca26"
             ],
             [
              1,
              "#f0f921"
             ]
            ],
            "type": "contour"
           }
          ],
          "contourcarpet": [
           {
            "colorbar": {
             "outlinewidth": 0,
             "ticks": ""
            },
            "type": "contourcarpet"
           }
          ],
          "heatmap": [
           {
            "colorbar": {
             "outlinewidth": 0,
             "ticks": ""
            },
            "colorscale": [
             [
              0,
              "#0d0887"
             ],
             [
              0.1111111111111111,
              "#46039f"
             ],
             [
              0.2222222222222222,
              "#7201a8"
             ],
             [
              0.3333333333333333,
              "#9c179e"
             ],
             [
              0.4444444444444444,
              "#bd3786"
             ],
             [
              0.5555555555555556,
              "#d8576b"
             ],
             [
              0.6666666666666666,
              "#ed7953"
             ],
             [
              0.7777777777777778,
              "#fb9f3a"
             ],
             [
              0.8888888888888888,
              "#fdca26"
             ],
             [
              1,
              "#f0f921"
             ]
            ],
            "type": "heatmap"
           }
          ],
          "heatmapgl": [
           {
            "colorbar": {
             "outlinewidth": 0,
             "ticks": ""
            },
            "colorscale": [
             [
              0,
              "#0d0887"
             ],
             [
              0.1111111111111111,
              "#46039f"
             ],
             [
              0.2222222222222222,
              "#7201a8"
             ],
             [
              0.3333333333333333,
              "#9c179e"
             ],
             [
              0.4444444444444444,
              "#bd3786"
             ],
             [
              0.5555555555555556,
              "#d8576b"
             ],
             [
              0.6666666666666666,
              "#ed7953"
             ],
             [
              0.7777777777777778,
              "#fb9f3a"
             ],
             [
              0.8888888888888888,
              "#fdca26"
             ],
             [
              1,
              "#f0f921"
             ]
            ],
            "type": "heatmapgl"
           }
          ],
          "histogram": [
           {
            "marker": {
             "pattern": {
              "fillmode": "overlay",
              "size": 10,
              "solidity": 0.2
             }
            },
            "type": "histogram"
           }
          ],
          "histogram2d": [
           {
            "colorbar": {
             "outlinewidth": 0,
             "ticks": ""
            },
            "colorscale": [
             [
              0,
              "#0d0887"
             ],
             [
              0.1111111111111111,
              "#46039f"
             ],
             [
              0.2222222222222222,
              "#7201a8"
             ],
             [
              0.3333333333333333,
              "#9c179e"
             ],
             [
              0.4444444444444444,
              "#bd3786"
             ],
             [
              0.5555555555555556,
              "#d8576b"
             ],
             [
              0.6666666666666666,
              "#ed7953"
             ],
             [
              0.7777777777777778,
              "#fb9f3a"
             ],
             [
              0.8888888888888888,
              "#fdca26"
             ],
             [
              1,
              "#f0f921"
             ]
            ],
            "type": "histogram2d"
           }
          ],
          "histogram2dcontour": [
           {
            "colorbar": {
             "outlinewidth": 0,
             "ticks": ""
            },
            "colorscale": [
             [
              0,
              "#0d0887"
             ],
             [
              0.1111111111111111,
              "#46039f"
             ],
             [
              0.2222222222222222,
              "#7201a8"
             ],
             [
              0.3333333333333333,
              "#9c179e"
             ],
             [
              0.4444444444444444,
              "#bd3786"
             ],
             [
              0.5555555555555556,
              "#d8576b"
             ],
             [
              0.6666666666666666,
              "#ed7953"
             ],
             [
              0.7777777777777778,
              "#fb9f3a"
             ],
             [
              0.8888888888888888,
              "#fdca26"
             ],
             [
              1,
              "#f0f921"
             ]
            ],
            "type": "histogram2dcontour"
           }
          ],
          "mesh3d": [
           {
            "colorbar": {
             "outlinewidth": 0,
             "ticks": ""
            },
            "type": "mesh3d"
           }
          ],
          "parcoords": [
           {
            "line": {
             "colorbar": {
              "outlinewidth": 0,
              "ticks": ""
             }
            },
            "type": "parcoords"
           }
          ],
          "pie": [
           {
            "automargin": true,
            "type": "pie"
           }
          ],
          "scatter": [
           {
            "fillpattern": {
             "fillmode": "overlay",
             "size": 10,
             "solidity": 0.2
            },
            "type": "scatter"
           }
          ],
          "scatter3d": [
           {
            "line": {
             "colorbar": {
              "outlinewidth": 0,
              "ticks": ""
             }
            },
            "marker": {
             "colorbar": {
              "outlinewidth": 0,
              "ticks": ""
             }
            },
            "type": "scatter3d"
           }
          ],
          "scattercarpet": [
           {
            "marker": {
             "colorbar": {
              "outlinewidth": 0,
              "ticks": ""
             }
            },
            "type": "scattercarpet"
           }
          ],
          "scattergeo": [
           {
            "marker": {
             "colorbar": {
              "outlinewidth": 0,
              "ticks": ""
             }
            },
            "type": "scattergeo"
           }
          ],
          "scattergl": [
           {
            "marker": {
             "colorbar": {
              "outlinewidth": 0,
              "ticks": ""
             }
            },
            "type": "scattergl"
           }
          ],
          "scattermapbox": [
           {
            "marker": {
             "colorbar": {
              "outlinewidth": 0,
              "ticks": ""
             }
            },
            "type": "scattermapbox"
           }
          ],
          "scatterpolar": [
           {
            "marker": {
             "colorbar": {
              "outlinewidth": 0,
              "ticks": ""
             }
            },
            "type": "scatterpolar"
           }
          ],
          "scatterpolargl": [
           {
            "marker": {
             "colorbar": {
              "outlinewidth": 0,
              "ticks": ""
             }
            },
            "type": "scatterpolargl"
           }
          ],
          "scatterternary": [
           {
            "marker": {
             "colorbar": {
              "outlinewidth": 0,
              "ticks": ""
             }
            },
            "type": "scatterternary"
           }
          ],
          "surface": [
           {
            "colorbar": {
             "outlinewidth": 0,
             "ticks": ""
            },
            "colorscale": [
             [
              0,
              "#0d0887"
             ],
             [
              0.1111111111111111,
              "#46039f"
             ],
             [
              0.2222222222222222,
              "#7201a8"
             ],
             [
              0.3333333333333333,
              "#9c179e"
             ],
             [
              0.4444444444444444,
              "#bd3786"
             ],
             [
              0.5555555555555556,
              "#d8576b"
             ],
             [
              0.6666666666666666,
              "#ed7953"
             ],
             [
              0.7777777777777778,
              "#fb9f3a"
             ],
             [
              0.8888888888888888,
              "#fdca26"
             ],
             [
              1,
              "#f0f921"
             ]
            ],
            "type": "surface"
           }
          ],
          "table": [
           {
            "cells": {
             "fill": {
              "color": "#EBF0F8"
             },
             "line": {
              "color": "white"
             }
            },
            "header": {
             "fill": {
              "color": "#C8D4E3"
             },
             "line": {
              "color": "white"
             }
            },
            "type": "table"
           }
          ]
         },
         "layout": {
          "annotationdefaults": {
           "arrowcolor": "#2a3f5f",
           "arrowhead": 0,
           "arrowwidth": 1
          },
          "autotypenumbers": "strict",
          "coloraxis": {
           "colorbar": {
            "outlinewidth": 0,
            "ticks": ""
           }
          },
          "colorscale": {
           "diverging": [
            [
             0,
             "#8e0152"
            ],
            [
             0.1,
             "#c51b7d"
            ],
            [
             0.2,
             "#de77ae"
            ],
            [
             0.3,
             "#f1b6da"
            ],
            [
             0.4,
             "#fde0ef"
            ],
            [
             0.5,
             "#f7f7f7"
            ],
            [
             0.6,
             "#e6f5d0"
            ],
            [
             0.7,
             "#b8e186"
            ],
            [
             0.8,
             "#7fbc41"
            ],
            [
             0.9,
             "#4d9221"
            ],
            [
             1,
             "#276419"
            ]
           ],
           "sequential": [
            [
             0,
             "#0d0887"
            ],
            [
             0.1111111111111111,
             "#46039f"
            ],
            [
             0.2222222222222222,
             "#7201a8"
            ],
            [
             0.3333333333333333,
             "#9c179e"
            ],
            [
             0.4444444444444444,
             "#bd3786"
            ],
            [
             0.5555555555555556,
             "#d8576b"
            ],
            [
             0.6666666666666666,
             "#ed7953"
            ],
            [
             0.7777777777777778,
             "#fb9f3a"
            ],
            [
             0.8888888888888888,
             "#fdca26"
            ],
            [
             1,
             "#f0f921"
            ]
           ],
           "sequentialminus": [
            [
             0,
             "#0d0887"
            ],
            [
             0.1111111111111111,
             "#46039f"
            ],
            [
             0.2222222222222222,
             "#7201a8"
            ],
            [
             0.3333333333333333,
             "#9c179e"
            ],
            [
             0.4444444444444444,
             "#bd3786"
            ],
            [
             0.5555555555555556,
             "#d8576b"
            ],
            [
             0.6666666666666666,
             "#ed7953"
            ],
            [
             0.7777777777777778,
             "#fb9f3a"
            ],
            [
             0.8888888888888888,
             "#fdca26"
            ],
            [
             1,
             "#f0f921"
            ]
           ]
          },
          "colorway": [
           "#636efa",
           "#EF553B",
           "#00cc96",
           "#ab63fa",
           "#FFA15A",
           "#19d3f3",
           "#FF6692",
           "#B6E880",
           "#FF97FF",
           "#FECB52"
          ],
          "font": {
           "color": "#2a3f5f"
          },
          "geo": {
           "bgcolor": "white",
           "lakecolor": "white",
           "landcolor": "#E5ECF6",
           "showlakes": true,
           "showland": true,
           "subunitcolor": "white"
          },
          "hoverlabel": {
           "align": "left"
          },
          "hovermode": "closest",
          "mapbox": {
           "style": "light"
          },
          "paper_bgcolor": "white",
          "plot_bgcolor": "#E5ECF6",
          "polar": {
           "angularaxis": {
            "gridcolor": "white",
            "linecolor": "white",
            "ticks": ""
           },
           "bgcolor": "#E5ECF6",
           "radialaxis": {
            "gridcolor": "white",
            "linecolor": "white",
            "ticks": ""
           }
          },
          "scene": {
           "xaxis": {
            "backgroundcolor": "#E5ECF6",
            "gridcolor": "white",
            "gridwidth": 2,
            "linecolor": "white",
            "showbackground": true,
            "ticks": "",
            "zerolinecolor": "white"
           },
           "yaxis": {
            "backgroundcolor": "#E5ECF6",
            "gridcolor": "white",
            "gridwidth": 2,
            "linecolor": "white",
            "showbackground": true,
            "ticks": "",
            "zerolinecolor": "white"
           },
           "zaxis": {
            "backgroundcolor": "#E5ECF6",
            "gridcolor": "white",
            "gridwidth": 2,
            "linecolor": "white",
            "showbackground": true,
            "ticks": "",
            "zerolinecolor": "white"
           }
          },
          "shapedefaults": {
           "line": {
            "color": "#2a3f5f"
           }
          },
          "ternary": {
           "aaxis": {
            "gridcolor": "white",
            "linecolor": "white",
            "ticks": ""
           },
           "baxis": {
            "gridcolor": "white",
            "linecolor": "white",
            "ticks": ""
           },
           "bgcolor": "#E5ECF6",
           "caxis": {
            "gridcolor": "white",
            "linecolor": "white",
            "ticks": ""
           }
          },
          "title": {
           "x": 0.05
          },
          "xaxis": {
           "automargin": true,
           "gridcolor": "white",
           "linecolor": "white",
           "ticks": "",
           "title": {
            "standoff": 15
           },
           "zerolinecolor": "white",
           "zerolinewidth": 2
          },
          "yaxis": {
           "automargin": true,
           "gridcolor": "white",
           "linecolor": "white",
           "ticks": "",
           "title": {
            "standoff": 15
           },
           "zerolinecolor": "white",
           "zerolinewidth": 2
          }
         }
        },
        "xaxis": {
         "anchor": "y",
         "domain": [
          0,
          1
         ],
         "title": {
          "text": "entity_id"
         }
        },
        "yaxis": {
         "anchor": "x",
         "domain": [
          0,
          1
         ],
         "title": {
          "text": "count"
         }
        }
       }
      }
     },
     "metadata": {},
     "output_type": "display_data"
    }
   ],
   "source": [
    "# Status por animal de las granjas barchart\n",
    "count = animals[[\"entity_id\", \"status\"]].groupby([\"entity_id\", \"status\"]).size().reset_index(name = \"count\")\n",
    "fig_bar = px.bar(count, x=\"entity_id\", y = \"count\", color=\"status\")\n",
    "fig_bar.show()"
   ]
  },
  {
   "cell_type": "markdown",
   "metadata": {},
   "source": [
    "Boxplot de las pulsaciones de cerdos y vacas"
   ]
  },
  {
   "cell_type": "code",
   "execution_count": 53,
   "metadata": {},
   "outputs": [
    {
     "data": {
      "application/vnd.plotly.v1+json": {
       "config": {
        "plotlyServerURL": "https://plot.ly"
       },
       "data": [
        {
         "alignmentgroup": "True",
         "boxpoints": "all",
         "hovertemplate": "entity_id=%{x}<br>heartrate=%{y}<extra></extra>",
         "legendgroup": "pig003",
         "marker": {
          "color": "#636efa"
         },
         "name": "pig003",
         "notched": false,
         "offsetgroup": "pig003",
         "orientation": "v",
         "showlegend": true,
         "type": "box",
         "x": [
          "pig003",
          "pig003",
          "pig003",
          "pig003",
          "pig003",
          "pig003",
          "pig003",
          "pig003",
          "pig003",
          "pig003",
          "pig003",
          "pig003",
          "pig003",
          "pig003",
          "pig003",
          "pig003",
          "pig003",
          "pig003",
          "pig003",
          "pig003",
          "pig003",
          "pig003",
          "pig003",
          "pig003",
          "pig003",
          "pig003",
          "pig003",
          "pig003"
         ],
         "x0": " ",
         "xaxis": "x",
         "y": [
          60,
          61,
          62,
          63,
          64,
          65,
          66,
          67,
          66,
          65,
          66,
          67,
          67,
          66,
          66,
          65,
          64,
          65,
          64,
          63,
          62,
          61,
          60,
          61,
          62,
          63,
          62,
          62
         ],
         "y0": " ",
         "yaxis": "y"
        },
        {
         "alignmentgroup": "True",
         "boxpoints": "all",
         "hovertemplate": "entity_id=%{x}<br>heartrate=%{y}<extra></extra>",
         "legendgroup": "cow001",
         "marker": {
          "color": "#EF553B"
         },
         "name": "cow001",
         "notched": false,
         "offsetgroup": "cow001",
         "orientation": "v",
         "showlegend": true,
         "type": "box",
         "x": [
          "cow001",
          "cow001",
          "cow001",
          "cow001",
          "cow001",
          "cow001",
          "cow001",
          "cow001",
          "cow001",
          "cow001",
          "cow001",
          "cow001",
          "cow001",
          "cow001",
          "cow001",
          "cow001",
          "cow001",
          "cow001",
          "cow001",
          "cow001",
          "cow001"
         ],
         "x0": " ",
         "xaxis": "x",
         "y": [
          51,
          52,
          51,
          52,
          51,
          52,
          51,
          52,
          53,
          52,
          51,
          52,
          51,
          52,
          53,
          52,
          51,
          50,
          51,
          52,
          52
         ],
         "y0": " ",
         "yaxis": "y"
        },
        {
         "alignmentgroup": "True",
         "boxpoints": "all",
         "hovertemplate": "entity_id=%{x}<br>heartrate=%{y}<extra></extra>",
         "legendgroup": "cow003",
         "marker": {
          "color": "#00cc96"
         },
         "name": "cow003",
         "notched": false,
         "offsetgroup": "cow003",
         "orientation": "v",
         "showlegend": true,
         "type": "box",
         "x": [
          "cow003",
          "cow003",
          "cow003",
          "cow003",
          "cow003",
          "cow003",
          "cow003",
          "cow003",
          "cow003",
          "cow003",
          "cow003",
          "cow003",
          "cow003",
          "cow003",
          "cow003",
          "cow003",
          "cow003",
          "cow003"
         ],
         "x0": " ",
         "xaxis": "x",
         "y": [
          50,
          51,
          52,
          51,
          50,
          51,
          50,
          51,
          50,
          51,
          52,
          51,
          52,
          51,
          50,
          51,
          50,
          51
         ],
         "y0": " ",
         "yaxis": "y"
        },
        {
         "alignmentgroup": "True",
         "boxpoints": "all",
         "hovertemplate": "entity_id=%{x}<br>heartrate=%{y}<extra></extra>",
         "legendgroup": "cow002",
         "marker": {
          "color": "#ab63fa"
         },
         "name": "cow002",
         "notched": false,
         "offsetgroup": "cow002",
         "orientation": "v",
         "showlegend": true,
         "type": "box",
         "x": [
          "cow002",
          "cow002",
          "cow002",
          "cow002",
          "cow002",
          "cow002",
          "cow002",
          "cow002",
          "cow002",
          "cow002",
          "cow002",
          "cow002",
          "cow002",
          "cow002",
          "cow002",
          "cow002",
          "cow002",
          "cow002",
          "cow002",
          "cow002",
          "cow002",
          "cow002",
          "cow002",
          "cow002",
          "cow002",
          "cow002"
         ],
         "x0": " ",
         "xaxis": "x",
         "y": [
          51,
          50,
          51,
          52,
          53,
          52,
          51,
          50,
          51,
          52,
          53,
          52,
          51,
          52,
          51,
          52,
          51,
          51,
          52,
          53,
          52,
          52,
          51,
          52,
          52,
          51
         ],
         "y0": " ",
         "yaxis": "y"
        },
        {
         "alignmentgroup": "True",
         "boxpoints": "all",
         "hovertemplate": "entity_id=%{x}<br>heartrate=%{y}<extra></extra>",
         "legendgroup": "pig001",
         "marker": {
          "color": "#FFA15A"
         },
         "name": "pig001",
         "notched": false,
         "offsetgroup": "pig001",
         "orientation": "v",
         "showlegend": true,
         "type": "box",
         "x": [
          "pig001",
          "pig001",
          "pig001",
          "pig001",
          "pig001",
          "pig001",
          "pig001",
          "pig001",
          "pig001",
          "pig001",
          "pig001",
          "pig001",
          "pig001",
          "pig001",
          "pig001",
          "pig001",
          "pig001",
          "pig001",
          "pig001",
          "pig001",
          "pig001",
          "pig001"
         ],
         "x0": " ",
         "xaxis": "x",
         "y": [
          60,
          61,
          62,
          63,
          62,
          61,
          60,
          61,
          62,
          61,
          62,
          63,
          62,
          63,
          64,
          63,
          62,
          63,
          62,
          61,
          62,
          61
         ],
         "y0": " ",
         "yaxis": "y"
        },
        {
         "alignmentgroup": "True",
         "boxpoints": "all",
         "hovertemplate": "entity_id=%{x}<br>heartrate=%{y}<extra></extra>",
         "legendgroup": "pig002",
         "marker": {
          "color": "#19d3f3"
         },
         "name": "pig002",
         "notched": false,
         "offsetgroup": "pig002",
         "orientation": "v",
         "showlegend": true,
         "type": "box",
         "x": [
          "pig002",
          "pig002",
          "pig002",
          "pig002",
          "pig002",
          "pig002",
          "pig002",
          "pig002",
          "pig002",
          "pig002",
          "pig002",
          "pig002",
          "pig002",
          "pig002",
          "pig002",
          "pig002",
          "pig002",
          "pig002",
          "pig002",
          "pig002",
          "pig002",
          "pig002",
          "pig002",
          "pig002",
          "pig002",
          "pig002",
          "pig002"
         ],
         "x0": " ",
         "xaxis": "x",
         "y": [
          61,
          62,
          63,
          62,
          61,
          61,
          62,
          63,
          64,
          64,
          63,
          62,
          63,
          62,
          61,
          62,
          62,
          63,
          64,
          64,
          65,
          65,
          66,
          67,
          66,
          65,
          64
         ],
         "y0": " ",
         "yaxis": "y"
        },
        {
         "alignmentgroup": "True",
         "boxpoints": "all",
         "hovertemplate": "entity_id=%{x}<br>heartrate=%{y}<extra></extra>",
         "legendgroup": "pig004",
         "marker": {
          "color": "#FF6692"
         },
         "name": "pig004",
         "notched": false,
         "offsetgroup": "pig004",
         "orientation": "v",
         "showlegend": true,
         "type": "box",
         "x": [
          "pig004",
          "pig004",
          "pig004",
          "pig004",
          "pig004",
          "pig004",
          "pig004",
          "pig004",
          "pig004",
          "pig004",
          "pig004",
          "pig004",
          "pig004",
          "pig004",
          "pig004",
          "pig004",
          "pig004",
          "pig004",
          "pig004",
          "pig004",
          "pig004",
          "pig004",
          "pig004",
          "pig004",
          "pig004"
         ],
         "x0": " ",
         "xaxis": "x",
         "y": [
          61,
          60,
          60,
          61,
          62,
          61,
          62,
          61,
          62,
          63,
          64,
          65,
          64,
          63,
          63,
          64,
          65,
          65,
          65,
          66,
          65,
          66,
          66,
          65,
          64
         ],
         "y0": " ",
         "yaxis": "y"
        },
        {
         "alignmentgroup": "True",
         "boxpoints": "all",
         "hovertemplate": "entity_id=%{x}<br>heartrate=%{y}<extra></extra>",
         "legendgroup": "cow004",
         "marker": {
          "color": "#B6E880"
         },
         "name": "cow004",
         "notched": false,
         "offsetgroup": "cow004",
         "orientation": "v",
         "showlegend": true,
         "type": "box",
         "x": [
          "cow004",
          "cow004",
          "cow004",
          "cow004",
          "cow004",
          "cow004",
          "cow004",
          "cow004",
          "cow004",
          "cow004",
          "cow004",
          "cow004",
          "cow004",
          "cow004",
          "cow004",
          "cow004",
          "cow004",
          "cow004",
          "cow004",
          "cow004",
          "cow004",
          "cow004",
          "cow004",
          "cow004",
          "cow004",
          "cow004",
          "cow004"
         ],
         "x0": " ",
         "xaxis": "x",
         "y": [
          51,
          52,
          51,
          52,
          51,
          52,
          51,
          52,
          51,
          50,
          51,
          50,
          51,
          52,
          51,
          52,
          51,
          50,
          51,
          51,
          52,
          53,
          52,
          51,
          52,
          52,
          51
         ],
         "y0": " ",
         "yaxis": "y"
        }
       ],
       "layout": {
        "boxmode": "overlay",
        "legend": {
         "title": {
          "text": "entity_id"
         },
         "tracegroupgap": 0
        },
        "margin": {
         "t": 60
        },
        "template": {
         "data": {
          "bar": [
           {
            "error_x": {
             "color": "#2a3f5f"
            },
            "error_y": {
             "color": "#2a3f5f"
            },
            "marker": {
             "line": {
              "color": "#E5ECF6",
              "width": 0.5
             },
             "pattern": {
              "fillmode": "overlay",
              "size": 10,
              "solidity": 0.2
             }
            },
            "type": "bar"
           }
          ],
          "barpolar": [
           {
            "marker": {
             "line": {
              "color": "#E5ECF6",
              "width": 0.5
             },
             "pattern": {
              "fillmode": "overlay",
              "size": 10,
              "solidity": 0.2
             }
            },
            "type": "barpolar"
           }
          ],
          "carpet": [
           {
            "aaxis": {
             "endlinecolor": "#2a3f5f",
             "gridcolor": "white",
             "linecolor": "white",
             "minorgridcolor": "white",
             "startlinecolor": "#2a3f5f"
            },
            "baxis": {
             "endlinecolor": "#2a3f5f",
             "gridcolor": "white",
             "linecolor": "white",
             "minorgridcolor": "white",
             "startlinecolor": "#2a3f5f"
            },
            "type": "carpet"
           }
          ],
          "choropleth": [
           {
            "colorbar": {
             "outlinewidth": 0,
             "ticks": ""
            },
            "type": "choropleth"
           }
          ],
          "contour": [
           {
            "colorbar": {
             "outlinewidth": 0,
             "ticks": ""
            },
            "colorscale": [
             [
              0,
              "#0d0887"
             ],
             [
              0.1111111111111111,
              "#46039f"
             ],
             [
              0.2222222222222222,
              "#7201a8"
             ],
             [
              0.3333333333333333,
              "#9c179e"
             ],
             [
              0.4444444444444444,
              "#bd3786"
             ],
             [
              0.5555555555555556,
              "#d8576b"
             ],
             [
              0.6666666666666666,
              "#ed7953"
             ],
             [
              0.7777777777777778,
              "#fb9f3a"
             ],
             [
              0.8888888888888888,
              "#fdca26"
             ],
             [
              1,
              "#f0f921"
             ]
            ],
            "type": "contour"
           }
          ],
          "contourcarpet": [
           {
            "colorbar": {
             "outlinewidth": 0,
             "ticks": ""
            },
            "type": "contourcarpet"
           }
          ],
          "heatmap": [
           {
            "colorbar": {
             "outlinewidth": 0,
             "ticks": ""
            },
            "colorscale": [
             [
              0,
              "#0d0887"
             ],
             [
              0.1111111111111111,
              "#46039f"
             ],
             [
              0.2222222222222222,
              "#7201a8"
             ],
             [
              0.3333333333333333,
              "#9c179e"
             ],
             [
              0.4444444444444444,
              "#bd3786"
             ],
             [
              0.5555555555555556,
              "#d8576b"
             ],
             [
              0.6666666666666666,
              "#ed7953"
             ],
             [
              0.7777777777777778,
              "#fb9f3a"
             ],
             [
              0.8888888888888888,
              "#fdca26"
             ],
             [
              1,
              "#f0f921"
             ]
            ],
            "type": "heatmap"
           }
          ],
          "heatmapgl": [
           {
            "colorbar": {
             "outlinewidth": 0,
             "ticks": ""
            },
            "colorscale": [
             [
              0,
              "#0d0887"
             ],
             [
              0.1111111111111111,
              "#46039f"
             ],
             [
              0.2222222222222222,
              "#7201a8"
             ],
             [
              0.3333333333333333,
              "#9c179e"
             ],
             [
              0.4444444444444444,
              "#bd3786"
             ],
             [
              0.5555555555555556,
              "#d8576b"
             ],
             [
              0.6666666666666666,
              "#ed7953"
             ],
             [
              0.7777777777777778,
              "#fb9f3a"
             ],
             [
              0.8888888888888888,
              "#fdca26"
             ],
             [
              1,
              "#f0f921"
             ]
            ],
            "type": "heatmapgl"
           }
          ],
          "histogram": [
           {
            "marker": {
             "pattern": {
              "fillmode": "overlay",
              "size": 10,
              "solidity": 0.2
             }
            },
            "type": "histogram"
           }
          ],
          "histogram2d": [
           {
            "colorbar": {
             "outlinewidth": 0,
             "ticks": ""
            },
            "colorscale": [
             [
              0,
              "#0d0887"
             ],
             [
              0.1111111111111111,
              "#46039f"
             ],
             [
              0.2222222222222222,
              "#7201a8"
             ],
             [
              0.3333333333333333,
              "#9c179e"
             ],
             [
              0.4444444444444444,
              "#bd3786"
             ],
             [
              0.5555555555555556,
              "#d8576b"
             ],
             [
              0.6666666666666666,
              "#ed7953"
             ],
             [
              0.7777777777777778,
              "#fb9f3a"
             ],
             [
              0.8888888888888888,
              "#fdca26"
             ],
             [
              1,
              "#f0f921"
             ]
            ],
            "type": "histogram2d"
           }
          ],
          "histogram2dcontour": [
           {
            "colorbar": {
             "outlinewidth": 0,
             "ticks": ""
            },
            "colorscale": [
             [
              0,
              "#0d0887"
             ],
             [
              0.1111111111111111,
              "#46039f"
             ],
             [
              0.2222222222222222,
              "#7201a8"
             ],
             [
              0.3333333333333333,
              "#9c179e"
             ],
             [
              0.4444444444444444,
              "#bd3786"
             ],
             [
              0.5555555555555556,
              "#d8576b"
             ],
             [
              0.6666666666666666,
              "#ed7953"
             ],
             [
              0.7777777777777778,
              "#fb9f3a"
             ],
             [
              0.8888888888888888,
              "#fdca26"
             ],
             [
              1,
              "#f0f921"
             ]
            ],
            "type": "histogram2dcontour"
           }
          ],
          "mesh3d": [
           {
            "colorbar": {
             "outlinewidth": 0,
             "ticks": ""
            },
            "type": "mesh3d"
           }
          ],
          "parcoords": [
           {
            "line": {
             "colorbar": {
              "outlinewidth": 0,
              "ticks": ""
             }
            },
            "type": "parcoords"
           }
          ],
          "pie": [
           {
            "automargin": true,
            "type": "pie"
           }
          ],
          "scatter": [
           {
            "fillpattern": {
             "fillmode": "overlay",
             "size": 10,
             "solidity": 0.2
            },
            "type": "scatter"
           }
          ],
          "scatter3d": [
           {
            "line": {
             "colorbar": {
              "outlinewidth": 0,
              "ticks": ""
             }
            },
            "marker": {
             "colorbar": {
              "outlinewidth": 0,
              "ticks": ""
             }
            },
            "type": "scatter3d"
           }
          ],
          "scattercarpet": [
           {
            "marker": {
             "colorbar": {
              "outlinewidth": 0,
              "ticks": ""
             }
            },
            "type": "scattercarpet"
           }
          ],
          "scattergeo": [
           {
            "marker": {
             "colorbar": {
              "outlinewidth": 0,
              "ticks": ""
             }
            },
            "type": "scattergeo"
           }
          ],
          "scattergl": [
           {
            "marker": {
             "colorbar": {
              "outlinewidth": 0,
              "ticks": ""
             }
            },
            "type": "scattergl"
           }
          ],
          "scattermapbox": [
           {
            "marker": {
             "colorbar": {
              "outlinewidth": 0,
              "ticks": ""
             }
            },
            "type": "scattermapbox"
           }
          ],
          "scatterpolar": [
           {
            "marker": {
             "colorbar": {
              "outlinewidth": 0,
              "ticks": ""
             }
            },
            "type": "scatterpolar"
           }
          ],
          "scatterpolargl": [
           {
            "marker": {
             "colorbar": {
              "outlinewidth": 0,
              "ticks": ""
             }
            },
            "type": "scatterpolargl"
           }
          ],
          "scatterternary": [
           {
            "marker": {
             "colorbar": {
              "outlinewidth": 0,
              "ticks": ""
             }
            },
            "type": "scatterternary"
           }
          ],
          "surface": [
           {
            "colorbar": {
             "outlinewidth": 0,
             "ticks": ""
            },
            "colorscale": [
             [
              0,
              "#0d0887"
             ],
             [
              0.1111111111111111,
              "#46039f"
             ],
             [
              0.2222222222222222,
              "#7201a8"
             ],
             [
              0.3333333333333333,
              "#9c179e"
             ],
             [
              0.4444444444444444,
              "#bd3786"
             ],
             [
              0.5555555555555556,
              "#d8576b"
             ],
             [
              0.6666666666666666,
              "#ed7953"
             ],
             [
              0.7777777777777778,
              "#fb9f3a"
             ],
             [
              0.8888888888888888,
              "#fdca26"
             ],
             [
              1,
              "#f0f921"
             ]
            ],
            "type": "surface"
           }
          ],
          "table": [
           {
            "cells": {
             "fill": {
              "color": "#EBF0F8"
             },
             "line": {
              "color": "white"
             }
            },
            "header": {
             "fill": {
              "color": "#C8D4E3"
             },
             "line": {
              "color": "white"
             }
            },
            "type": "table"
           }
          ]
         },
         "layout": {
          "annotationdefaults": {
           "arrowcolor": "#2a3f5f",
           "arrowhead": 0,
           "arrowwidth": 1
          },
          "autotypenumbers": "strict",
          "coloraxis": {
           "colorbar": {
            "outlinewidth": 0,
            "ticks": ""
           }
          },
          "colorscale": {
           "diverging": [
            [
             0,
             "#8e0152"
            ],
            [
             0.1,
             "#c51b7d"
            ],
            [
             0.2,
             "#de77ae"
            ],
            [
             0.3,
             "#f1b6da"
            ],
            [
             0.4,
             "#fde0ef"
            ],
            [
             0.5,
             "#f7f7f7"
            ],
            [
             0.6,
             "#e6f5d0"
            ],
            [
             0.7,
             "#b8e186"
            ],
            [
             0.8,
             "#7fbc41"
            ],
            [
             0.9,
             "#4d9221"
            ],
            [
             1,
             "#276419"
            ]
           ],
           "sequential": [
            [
             0,
             "#0d0887"
            ],
            [
             0.1111111111111111,
             "#46039f"
            ],
            [
             0.2222222222222222,
             "#7201a8"
            ],
            [
             0.3333333333333333,
             "#9c179e"
            ],
            [
             0.4444444444444444,
             "#bd3786"
            ],
            [
             0.5555555555555556,
             "#d8576b"
            ],
            [
             0.6666666666666666,
             "#ed7953"
            ],
            [
             0.7777777777777778,
             "#fb9f3a"
            ],
            [
             0.8888888888888888,
             "#fdca26"
            ],
            [
             1,
             "#f0f921"
            ]
           ],
           "sequentialminus": [
            [
             0,
             "#0d0887"
            ],
            [
             0.1111111111111111,
             "#46039f"
            ],
            [
             0.2222222222222222,
             "#7201a8"
            ],
            [
             0.3333333333333333,
             "#9c179e"
            ],
            [
             0.4444444444444444,
             "#bd3786"
            ],
            [
             0.5555555555555556,
             "#d8576b"
            ],
            [
             0.6666666666666666,
             "#ed7953"
            ],
            [
             0.7777777777777778,
             "#fb9f3a"
            ],
            [
             0.8888888888888888,
             "#fdca26"
            ],
            [
             1,
             "#f0f921"
            ]
           ]
          },
          "colorway": [
           "#636efa",
           "#EF553B",
           "#00cc96",
           "#ab63fa",
           "#FFA15A",
           "#19d3f3",
           "#FF6692",
           "#B6E880",
           "#FF97FF",
           "#FECB52"
          ],
          "font": {
           "color": "#2a3f5f"
          },
          "geo": {
           "bgcolor": "white",
           "lakecolor": "white",
           "landcolor": "#E5ECF6",
           "showlakes": true,
           "showland": true,
           "subunitcolor": "white"
          },
          "hoverlabel": {
           "align": "left"
          },
          "hovermode": "closest",
          "mapbox": {
           "style": "light"
          },
          "paper_bgcolor": "white",
          "plot_bgcolor": "#E5ECF6",
          "polar": {
           "angularaxis": {
            "gridcolor": "white",
            "linecolor": "white",
            "ticks": ""
           },
           "bgcolor": "#E5ECF6",
           "radialaxis": {
            "gridcolor": "white",
            "linecolor": "white",
            "ticks": ""
           }
          },
          "scene": {
           "xaxis": {
            "backgroundcolor": "#E5ECF6",
            "gridcolor": "white",
            "gridwidth": 2,
            "linecolor": "white",
            "showbackground": true,
            "ticks": "",
            "zerolinecolor": "white"
           },
           "yaxis": {
            "backgroundcolor": "#E5ECF6",
            "gridcolor": "white",
            "gridwidth": 2,
            "linecolor": "white",
            "showbackground": true,
            "ticks": "",
            "zerolinecolor": "white"
           },
           "zaxis": {
            "backgroundcolor": "#E5ECF6",
            "gridcolor": "white",
            "gridwidth": 2,
            "linecolor": "white",
            "showbackground": true,
            "ticks": "",
            "zerolinecolor": "white"
           }
          },
          "shapedefaults": {
           "line": {
            "color": "#2a3f5f"
           }
          },
          "ternary": {
           "aaxis": {
            "gridcolor": "white",
            "linecolor": "white",
            "ticks": ""
           },
           "baxis": {
            "gridcolor": "white",
            "linecolor": "white",
            "ticks": ""
           },
           "bgcolor": "#E5ECF6",
           "caxis": {
            "gridcolor": "white",
            "linecolor": "white",
            "ticks": ""
           }
          },
          "title": {
           "x": 0.05
          },
          "xaxis": {
           "automargin": true,
           "gridcolor": "white",
           "linecolor": "white",
           "ticks": "",
           "title": {
            "standoff": 15
           },
           "zerolinecolor": "white",
           "zerolinewidth": 2
          },
          "yaxis": {
           "automargin": true,
           "gridcolor": "white",
           "linecolor": "white",
           "ticks": "",
           "title": {
            "standoff": 15
           },
           "zerolinecolor": "white",
           "zerolinewidth": 2
          }
         }
        },
        "xaxis": {
         "anchor": "y",
         "categoryarray": [
          "pig003",
          "cow001",
          "cow003",
          "cow002",
          "pig001",
          "pig002",
          "pig004",
          "cow004"
         ],
         "categoryorder": "array",
         "domain": [
          0,
          1
         ],
         "title": {
          "text": "entity_id"
         }
        },
        "yaxis": {
         "anchor": "x",
         "domain": [
          0,
          1
         ],
         "title": {
          "text": "heartrate"
         }
        }
       }
      }
     },
     "metadata": {},
     "output_type": "display_data"
    }
   ],
   "source": [
    "fig = px.box(animals, x=\"entity_id\", y=\"heartrate\", points=\"all\", color = \"entity_id\")\n",
    "fig.show()"
   ]
  },
  {
   "cell_type": "markdown",
   "metadata": {},
   "source": [
    "Pie-chart estados tractores"
   ]
  },
  {
   "cell_type": "code",
   "execution_count": 72,
   "metadata": {},
   "outputs": [
    {
     "data": {
      "application/vnd.plotly.v1+json": {
       "config": {
        "plotlyServerURL": "https://plot.ly"
       },
       "data": [
        {
         "domain": {
          "x": [
           0,
           0.235
          ],
          "y": [
           0,
           1
          ]
         },
         "hovertemplate": "entity_id=urn:ngsi-ld:Device:tractor001<br>status=%{label}<br>percentage=%{value}<extra></extra>",
         "labels": [
          7,
          8
         ],
         "legendgroup": "",
         "name": "",
         "showlegend": true,
         "type": "pie",
         "values": [
          95.23809523809523,
          4.761904761904762
         ]
        },
        {
         "domain": {
          "x": [
           0.255,
           0.49
          ],
          "y": [
           0,
           1
          ]
         },
         "hovertemplate": "entity_id=urn:ngsi-ld:Device:tractor002<br>status=%{label}<br>percentage=%{value}<extra></extra>",
         "labels": [
          7,
          8
         ],
         "legendgroup": "",
         "name": "",
         "showlegend": true,
         "type": "pie",
         "values": [
          11.538461538461538,
          88.46153846153845
         ]
        },
        {
         "domain": {
          "x": [
           0.51,
           0.745
          ],
          "y": [
           0,
           1
          ]
         },
         "hovertemplate": "entity_id=urn:ngsi-ld:Device:tractor003<br>status=%{label}<br>percentage=%{value}<extra></extra>",
         "labels": [
          7,
          8
         ],
         "legendgroup": "",
         "name": "",
         "showlegend": true,
         "type": "pie",
         "values": [
          100,
          70.37037037037037
         ]
        },
        {
         "domain": {
          "x": [
           0.7649999999999999,
           0.9999999999999999
          ],
          "y": [
           0,
           1
          ]
         },
         "hovertemplate": "entity_id=urn:ngsi-ld:Device:tractor004<br>status=%{label}<br>percentage=%{value}<extra></extra>",
         "labels": [
          7,
          8
         ],
         "legendgroup": "",
         "name": "",
         "showlegend": true,
         "type": "pie",
         "values": [
          3.7037037037037033,
          25.925925925925924
         ]
        }
       ],
       "layout": {
        "annotations": [
         {
          "font": {},
          "showarrow": false,
          "text": "entity_id=urn:ngsi-ld:Device:tractor001",
          "x": 0.1175,
          "xanchor": "center",
          "xref": "paper",
          "y": 1,
          "yanchor": "bottom",
          "yref": "paper"
         },
         {
          "font": {},
          "showarrow": false,
          "text": "entity_id=urn:ngsi-ld:Device:tractor002",
          "x": 0.3725,
          "xanchor": "center",
          "xref": "paper",
          "y": 1,
          "yanchor": "bottom",
          "yref": "paper"
         },
         {
          "font": {},
          "showarrow": false,
          "text": "entity_id=urn:ngsi-ld:Device:tractor003",
          "x": 0.6275,
          "xanchor": "center",
          "xref": "paper",
          "y": 1,
          "yanchor": "bottom",
          "yref": "paper"
         },
         {
          "font": {},
          "showarrow": false,
          "text": "entity_id=urn:ngsi-ld:Device:tractor004",
          "x": 0.8824999999999998,
          "xanchor": "center",
          "xref": "paper",
          "y": 1,
          "yanchor": "bottom",
          "yref": "paper"
         }
        ],
        "legend": {
         "tracegroupgap": 0
        },
        "margin": {
         "t": 60
        },
        "template": {
         "data": {
          "bar": [
           {
            "error_x": {
             "color": "#2a3f5f"
            },
            "error_y": {
             "color": "#2a3f5f"
            },
            "marker": {
             "line": {
              "color": "#E5ECF6",
              "width": 0.5
             },
             "pattern": {
              "fillmode": "overlay",
              "size": 10,
              "solidity": 0.2
             }
            },
            "type": "bar"
           }
          ],
          "barpolar": [
           {
            "marker": {
             "line": {
              "color": "#E5ECF6",
              "width": 0.5
             },
             "pattern": {
              "fillmode": "overlay",
              "size": 10,
              "solidity": 0.2
             }
            },
            "type": "barpolar"
           }
          ],
          "carpet": [
           {
            "aaxis": {
             "endlinecolor": "#2a3f5f",
             "gridcolor": "white",
             "linecolor": "white",
             "minorgridcolor": "white",
             "startlinecolor": "#2a3f5f"
            },
            "baxis": {
             "endlinecolor": "#2a3f5f",
             "gridcolor": "white",
             "linecolor": "white",
             "minorgridcolor": "white",
             "startlinecolor": "#2a3f5f"
            },
            "type": "carpet"
           }
          ],
          "choropleth": [
           {
            "colorbar": {
             "outlinewidth": 0,
             "ticks": ""
            },
            "type": "choropleth"
           }
          ],
          "contour": [
           {
            "colorbar": {
             "outlinewidth": 0,
             "ticks": ""
            },
            "colorscale": [
             [
              0,
              "#0d0887"
             ],
             [
              0.1111111111111111,
              "#46039f"
             ],
             [
              0.2222222222222222,
              "#7201a8"
             ],
             [
              0.3333333333333333,
              "#9c179e"
             ],
             [
              0.4444444444444444,
              "#bd3786"
             ],
             [
              0.5555555555555556,
              "#d8576b"
             ],
             [
              0.6666666666666666,
              "#ed7953"
             ],
             [
              0.7777777777777778,
              "#fb9f3a"
             ],
             [
              0.8888888888888888,
              "#fdca26"
             ],
             [
              1,
              "#f0f921"
             ]
            ],
            "type": "contour"
           }
          ],
          "contourcarpet": [
           {
            "colorbar": {
             "outlinewidth": 0,
             "ticks": ""
            },
            "type": "contourcarpet"
           }
          ],
          "heatmap": [
           {
            "colorbar": {
             "outlinewidth": 0,
             "ticks": ""
            },
            "colorscale": [
             [
              0,
              "#0d0887"
             ],
             [
              0.1111111111111111,
              "#46039f"
             ],
             [
              0.2222222222222222,
              "#7201a8"
             ],
             [
              0.3333333333333333,
              "#9c179e"
             ],
             [
              0.4444444444444444,
              "#bd3786"
             ],
             [
              0.5555555555555556,
              "#d8576b"
             ],
             [
              0.6666666666666666,
              "#ed7953"
             ],
             [
              0.7777777777777778,
              "#fb9f3a"
             ],
             [
              0.8888888888888888,
              "#fdca26"
             ],
             [
              1,
              "#f0f921"
             ]
            ],
            "type": "heatmap"
           }
          ],
          "heatmapgl": [
           {
            "colorbar": {
             "outlinewidth": 0,
             "ticks": ""
            },
            "colorscale": [
             [
              0,
              "#0d0887"
             ],
             [
              0.1111111111111111,
              "#46039f"
             ],
             [
              0.2222222222222222,
              "#7201a8"
             ],
             [
              0.3333333333333333,
              "#9c179e"
             ],
             [
              0.4444444444444444,
              "#bd3786"
             ],
             [
              0.5555555555555556,
              "#d8576b"
             ],
             [
              0.6666666666666666,
              "#ed7953"
             ],
             [
              0.7777777777777778,
              "#fb9f3a"
             ],
             [
              0.8888888888888888,
              "#fdca26"
             ],
             [
              1,
              "#f0f921"
             ]
            ],
            "type": "heatmapgl"
           }
          ],
          "histogram": [
           {
            "marker": {
             "pattern": {
              "fillmode": "overlay",
              "size": 10,
              "solidity": 0.2
             }
            },
            "type": "histogram"
           }
          ],
          "histogram2d": [
           {
            "colorbar": {
             "outlinewidth": 0,
             "ticks": ""
            },
            "colorscale": [
             [
              0,
              "#0d0887"
             ],
             [
              0.1111111111111111,
              "#46039f"
             ],
             [
              0.2222222222222222,
              "#7201a8"
             ],
             [
              0.3333333333333333,
              "#9c179e"
             ],
             [
              0.4444444444444444,
              "#bd3786"
             ],
             [
              0.5555555555555556,
              "#d8576b"
             ],
             [
              0.6666666666666666,
              "#ed7953"
             ],
             [
              0.7777777777777778,
              "#fb9f3a"
             ],
             [
              0.8888888888888888,
              "#fdca26"
             ],
             [
              1,
              "#f0f921"
             ]
            ],
            "type": "histogram2d"
           }
          ],
          "histogram2dcontour": [
           {
            "colorbar": {
             "outlinewidth": 0,
             "ticks": ""
            },
            "colorscale": [
             [
              0,
              "#0d0887"
             ],
             [
              0.1111111111111111,
              "#46039f"
             ],
             [
              0.2222222222222222,
              "#7201a8"
             ],
             [
              0.3333333333333333,
              "#9c179e"
             ],
             [
              0.4444444444444444,
              "#bd3786"
             ],
             [
              0.5555555555555556,
              "#d8576b"
             ],
             [
              0.6666666666666666,
              "#ed7953"
             ],
             [
              0.7777777777777778,
              "#fb9f3a"
             ],
             [
              0.8888888888888888,
              "#fdca26"
             ],
             [
              1,
              "#f0f921"
             ]
            ],
            "type": "histogram2dcontour"
           }
          ],
          "mesh3d": [
           {
            "colorbar": {
             "outlinewidth": 0,
             "ticks": ""
            },
            "type": "mesh3d"
           }
          ],
          "parcoords": [
           {
            "line": {
             "colorbar": {
              "outlinewidth": 0,
              "ticks": ""
             }
            },
            "type": "parcoords"
           }
          ],
          "pie": [
           {
            "automargin": true,
            "type": "pie"
           }
          ],
          "scatter": [
           {
            "fillpattern": {
             "fillmode": "overlay",
             "size": 10,
             "solidity": 0.2
            },
            "type": "scatter"
           }
          ],
          "scatter3d": [
           {
            "line": {
             "colorbar": {
              "outlinewidth": 0,
              "ticks": ""
             }
            },
            "marker": {
             "colorbar": {
              "outlinewidth": 0,
              "ticks": ""
             }
            },
            "type": "scatter3d"
           }
          ],
          "scattercarpet": [
           {
            "marker": {
             "colorbar": {
              "outlinewidth": 0,
              "ticks": ""
             }
            },
            "type": "scattercarpet"
           }
          ],
          "scattergeo": [
           {
            "marker": {
             "colorbar": {
              "outlinewidth": 0,
              "ticks": ""
             }
            },
            "type": "scattergeo"
           }
          ],
          "scattergl": [
           {
            "marker": {
             "colorbar": {
              "outlinewidth": 0,
              "ticks": ""
             }
            },
            "type": "scattergl"
           }
          ],
          "scattermapbox": [
           {
            "marker": {
             "colorbar": {
              "outlinewidth": 0,
              "ticks": ""
             }
            },
            "type": "scattermapbox"
           }
          ],
          "scatterpolar": [
           {
            "marker": {
             "colorbar": {
              "outlinewidth": 0,
              "ticks": ""
             }
            },
            "type": "scatterpolar"
           }
          ],
          "scatterpolargl": [
           {
            "marker": {
             "colorbar": {
              "outlinewidth": 0,
              "ticks": ""
             }
            },
            "type": "scatterpolargl"
           }
          ],
          "scatterternary": [
           {
            "marker": {
             "colorbar": {
              "outlinewidth": 0,
              "ticks": ""
             }
            },
            "type": "scatterternary"
           }
          ],
          "surface": [
           {
            "colorbar": {
             "outlinewidth": 0,
             "ticks": ""
            },
            "colorscale": [
             [
              0,
              "#0d0887"
             ],
             [
              0.1111111111111111,
              "#46039f"
             ],
             [
              0.2222222222222222,
              "#7201a8"
             ],
             [
              0.3333333333333333,
              "#9c179e"
             ],
             [
              0.4444444444444444,
              "#bd3786"
             ],
             [
              0.5555555555555556,
              "#d8576b"
             ],
             [
              0.6666666666666666,
              "#ed7953"
             ],
             [
              0.7777777777777778,
              "#fb9f3a"
             ],
             [
              0.8888888888888888,
              "#fdca26"
             ],
             [
              1,
              "#f0f921"
             ]
            ],
            "type": "surface"
           }
          ],
          "table": [
           {
            "cells": {
             "fill": {
              "color": "#EBF0F8"
             },
             "line": {
              "color": "white"
             }
            },
            "header": {
             "fill": {
              "color": "#C8D4E3"
             },
             "line": {
              "color": "white"
             }
            },
            "type": "table"
           }
          ]
         },
         "layout": {
          "annotationdefaults": {
           "arrowcolor": "#2a3f5f",
           "arrowhead": 0,
           "arrowwidth": 1
          },
          "autotypenumbers": "strict",
          "coloraxis": {
           "colorbar": {
            "outlinewidth": 0,
            "ticks": ""
           }
          },
          "colorscale": {
           "diverging": [
            [
             0,
             "#8e0152"
            ],
            [
             0.1,
             "#c51b7d"
            ],
            [
             0.2,
             "#de77ae"
            ],
            [
             0.3,
             "#f1b6da"
            ],
            [
             0.4,
             "#fde0ef"
            ],
            [
             0.5,
             "#f7f7f7"
            ],
            [
             0.6,
             "#e6f5d0"
            ],
            [
             0.7,
             "#b8e186"
            ],
            [
             0.8,
             "#7fbc41"
            ],
            [
             0.9,
             "#4d9221"
            ],
            [
             1,
             "#276419"
            ]
           ],
           "sequential": [
            [
             0,
             "#0d0887"
            ],
            [
             0.1111111111111111,
             "#46039f"
            ],
            [
             0.2222222222222222,
             "#7201a8"
            ],
            [
             0.3333333333333333,
             "#9c179e"
            ],
            [
             0.4444444444444444,
             "#bd3786"
            ],
            [
             0.5555555555555556,
             "#d8576b"
            ],
            [
             0.6666666666666666,
             "#ed7953"
            ],
            [
             0.7777777777777778,
             "#fb9f3a"
            ],
            [
             0.8888888888888888,
             "#fdca26"
            ],
            [
             1,
             "#f0f921"
            ]
           ],
           "sequentialminus": [
            [
             0,
             "#0d0887"
            ],
            [
             0.1111111111111111,
             "#46039f"
            ],
            [
             0.2222222222222222,
             "#7201a8"
            ],
            [
             0.3333333333333333,
             "#9c179e"
            ],
            [
             0.4444444444444444,
             "#bd3786"
            ],
            [
             0.5555555555555556,
             "#d8576b"
            ],
            [
             0.6666666666666666,
             "#ed7953"
            ],
            [
             0.7777777777777778,
             "#fb9f3a"
            ],
            [
             0.8888888888888888,
             "#fdca26"
            ],
            [
             1,
             "#f0f921"
            ]
           ]
          },
          "colorway": [
           "#636efa",
           "#EF553B",
           "#00cc96",
           "#ab63fa",
           "#FFA15A",
           "#19d3f3",
           "#FF6692",
           "#B6E880",
           "#FF97FF",
           "#FECB52"
          ],
          "font": {
           "color": "#2a3f5f"
          },
          "geo": {
           "bgcolor": "white",
           "lakecolor": "white",
           "landcolor": "#E5ECF6",
           "showlakes": true,
           "showland": true,
           "subunitcolor": "white"
          },
          "hoverlabel": {
           "align": "left"
          },
          "hovermode": "closest",
          "mapbox": {
           "style": "light"
          },
          "paper_bgcolor": "white",
          "plot_bgcolor": "#E5ECF6",
          "polar": {
           "angularaxis": {
            "gridcolor": "white",
            "linecolor": "white",
            "ticks": ""
           },
           "bgcolor": "#E5ECF6",
           "radialaxis": {
            "gridcolor": "white",
            "linecolor": "white",
            "ticks": ""
           }
          },
          "scene": {
           "xaxis": {
            "backgroundcolor": "#E5ECF6",
            "gridcolor": "white",
            "gridwidth": 2,
            "linecolor": "white",
            "showbackground": true,
            "ticks": "",
            "zerolinecolor": "white"
           },
           "yaxis": {
            "backgroundcolor": "#E5ECF6",
            "gridcolor": "white",
            "gridwidth": 2,
            "linecolor": "white",
            "showbackground": true,
            "ticks": "",
            "zerolinecolor": "white"
           },
           "zaxis": {
            "backgroundcolor": "#E5ECF6",
            "gridcolor": "white",
            "gridwidth": 2,
            "linecolor": "white",
            "showbackground": true,
            "ticks": "",
            "zerolinecolor": "white"
           }
          },
          "shapedefaults": {
           "line": {
            "color": "#2a3f5f"
           }
          },
          "ternary": {
           "aaxis": {
            "gridcolor": "white",
            "linecolor": "white",
            "ticks": ""
           },
           "baxis": {
            "gridcolor": "white",
            "linecolor": "white",
            "ticks": ""
           },
           "bgcolor": "#E5ECF6",
           "caxis": {
            "gridcolor": "white",
            "linecolor": "white",
            "ticks": ""
           }
          },
          "title": {
           "x": 0.05
          },
          "xaxis": {
           "automargin": true,
           "gridcolor": "white",
           "linecolor": "white",
           "ticks": "",
           "title": {
            "standoff": 15
           },
           "zerolinecolor": "white",
           "zerolinewidth": 2
          },
          "yaxis": {
           "automargin": true,
           "gridcolor": "white",
           "linecolor": "white",
           "ticks": "",
           "title": {
            "standoff": 15
           },
           "zerolinecolor": "white",
           "zerolinewidth": 2
          }
         }
        }
       }
      }
     },
     "metadata": {},
     "output_type": "display_data"
    }
   ],
   "source": [
    "count2 = tractors[[\"entity_id\", \"status\"]].groupby([\"entity_id\", \"status\"]).size().reset_index(name = \"count\")\n",
    "total_count2 = count2.groupby('entity_id')['count'].transform('sum')\n",
    "count2['percentage'] = (count['count'] / total_count) * 100\n",
    "fig_pie = px.pie(count2, values=\"percentage\", names=\"status\", facet_col=\"entity_id\")\n",
    "fig_pie.show()"
   ]
  },
  {
   "cell_type": "code",
   "execution_count": 69,
   "metadata": {},
   "outputs": [
    {
     "data": {
      "application/vnd.plotly.v1+json": {
       "config": {
        "plotlyServerURL": "https://plot.ly"
       },
       "data": [
        {
         "alignmentgroup": "True",
         "bingroup": "x",
         "hovertemplate": "entity_id=urn:ngsi-ld:SoilSensor:humidity002<br>humidity=%{x}<br>count=%{y}<extra></extra>",
         "legendgroup": "urn:ngsi-ld:SoilSensor:humidity002",
         "marker": {
          "color": "#636efa",
          "pattern": {
           "shape": ""
          }
         },
         "name": "urn:ngsi-ld:SoilSensor:humidity002",
         "offsetgroup": "urn:ngsi-ld:SoilSensor:humidity002",
         "orientation": "v",
         "showlegend": true,
         "type": "histogram",
         "x": [
          79,
          77,
          76,
          75,
          74,
          72,
          71,
          69,
          68,
          66,
          65,
          63,
          61,
          60,
          59,
          58,
          57,
          56,
          55,
          53,
          51,
          50,
          48,
          45,
          42,
          40,
          34,
          33,
          32,
          30,
          33,
          30,
          33,
          31,
          30,
          32,
          29,
          31,
          30,
          31,
          29,
          31,
          28,
          30,
          32,
          30,
          32,
          30,
          31,
          30,
          32,
          30,
          33,
          30,
          33,
          30,
          31,
          29,
          30,
          31,
          29,
          31,
          28,
          30,
          33,
          31,
          29,
          31,
          28,
          29,
          31,
          30,
          31,
          30,
          33,
          31,
          29,
          31,
          30,
          32,
          30,
          33,
          31,
          29,
          31,
          29,
          31,
          30,
          31,
          30,
          32,
          30,
          32,
          31,
          28,
          29,
          30,
          31,
          29,
          30,
          31,
          28,
          31,
          29,
          31,
          30,
          32,
          31,
          30,
          32,
          30,
          33,
          32,
          29,
          31,
          28,
          29,
          28,
          29,
          30,
          32,
          31,
          29,
          32,
          31,
          29,
          30,
          33,
          30,
          32,
          30,
          31,
          30,
          32,
          30,
          32,
          29,
          32,
          29,
          30,
          32,
          29,
          30,
          33,
          32,
          29,
          30,
          32,
          30,
          32,
          30,
          31,
          28,
          30,
          31,
          29,
          30,
          32,
          29,
          30,
          31,
          30,
          31,
          28,
          29,
          30,
          32,
          31,
          29,
          30,
          32,
          31,
          28,
          31,
          30,
          31,
          29,
          31,
          28,
          31,
          29,
          30,
          33,
          32,
          30,
          31,
          28,
          30,
          31,
          29,
          30,
          33,
          32,
          31,
          29,
          32,
          30,
          33,
          31,
          30,
          33
         ],
         "xaxis": "x",
         "yaxis": "y"
        },
        {
         "alignmentgroup": "True",
         "bingroup": "x",
         "hovertemplate": "entity_id=urn:ngsi-ld:SoilSensor:humidity001<br>humidity=%{x}<br>count=%{y}<extra></extra>",
         "legendgroup": "urn:ngsi-ld:SoilSensor:humidity001",
         "marker": {
          "color": "#EF553B",
          "pattern": {
           "shape": ""
          }
         },
         "name": "urn:ngsi-ld:SoilSensor:humidity001",
         "offsetgroup": "urn:ngsi-ld:SoilSensor:humidity001",
         "orientation": "v",
         "showlegend": true,
         "type": "histogram",
         "x": [
          78,
          76,
          75,
          74,
          72,
          70,
          68,
          67,
          65,
          63,
          62,
          60,
          59,
          58,
          57,
          56,
          55,
          54,
          52,
          50,
          48,
          47,
          45,
          43,
          42,
          41,
          38,
          37,
          35,
          33,
          30,
          32,
          31,
          30,
          32,
          29,
          31,
          29,
          32,
          31,
          29,
          32,
          29,
          31,
          29,
          32,
          29,
          30,
          33,
          32,
          31,
          30,
          33,
          30,
          31,
          30,
          32,
          30,
          31,
          30,
          33,
          32,
          30,
          31,
          30,
          31,
          29,
          31,
          30,
          31,
          30,
          32,
          31,
          28,
          31,
          30,
          31,
          30,
          31,
          28,
          29,
          30,
          31,
          30,
          33,
          30,
          31,
          30,
          31,
          30,
          32,
          30,
          32,
          31,
          30,
          33,
          31,
          29,
          31,
          29,
          31,
          28,
          30,
          33,
          31,
          29,
          32,
          31,
          28,
          31,
          30,
          31,
          30,
          33,
          30,
          32,
          31,
          30,
          31,
          29,
          30,
          31,
          30,
          33,
          31,
          29,
          30,
          32,
          31,
          29,
          32,
          31,
          30,
          33,
          30,
          31,
          29,
          31,
          29,
          31,
          28,
          30,
          32,
          29,
          30,
          33,
          32,
          31,
          28,
          29,
          30,
          33,
          31,
          30,
          32,
          29,
          31,
          30,
          32,
          29,
          32,
          31,
          28,
          29,
          31,
          30,
          32,
          30,
          31,
          29,
          31,
          29,
          30,
          33,
          31,
          29,
          30,
          31,
          28,
          30,
          32
         ],
         "xaxis": "x2",
         "yaxis": "y2"
        },
        {
         "alignmentgroup": "True",
         "bingroup": "x",
         "hovertemplate": "entity_id=urn:ngsi-ld:SoilSensor:humidity004<br>humidity=%{x}<br>count=%{y}<extra></extra>",
         "legendgroup": "urn:ngsi-ld:SoilSensor:humidity004",
         "marker": {
          "color": "#00cc96",
          "pattern": {
           "shape": ""
          }
         },
         "name": "urn:ngsi-ld:SoilSensor:humidity004",
         "offsetgroup": "urn:ngsi-ld:SoilSensor:humidity004",
         "orientation": "v",
         "showlegend": true,
         "type": "histogram",
         "x": [
          78,
          77,
          76,
          74,
          73,
          71,
          69,
          68,
          66,
          65,
          64,
          62,
          61,
          60,
          58,
          56,
          55,
          53,
          51,
          50,
          47,
          43,
          42,
          41,
          39,
          38,
          36,
          34,
          33,
          32,
          31,
          29,
          30,
          31,
          29,
          31,
          30,
          31,
          30,
          33,
          31,
          30,
          31,
          29,
          32,
          31,
          29,
          31,
          29,
          31,
          28,
          29,
          30,
          33,
          32,
          29,
          32,
          31,
          29,
          31,
          28,
          30,
          33,
          32,
          31,
          30,
          32,
          29,
          31,
          28,
          30,
          31,
          28,
          30,
          32,
          30,
          31,
          29,
          32,
          29,
          31,
          28,
          29,
          31,
          29,
          31,
          28,
          30,
          33,
          30,
          32,
          30,
          31,
          29,
          30,
          32,
          30,
          32,
          31,
          28,
          31,
          30,
          32,
          29,
          32,
          31,
          28,
          29,
          30,
          33,
          31,
          29,
          30,
          31,
          28,
          30,
          33,
          31,
          28,
          30,
          32,
          30,
          32,
          29,
          31,
          28,
          29,
          31,
          30,
          31,
          29,
          30,
          32,
          29,
          30,
          31,
          29,
          28,
          31,
          28,
          29,
          30,
          31,
          28,
          31,
          29,
          32,
          31,
          29,
          32,
          30,
          31,
          29,
          31,
          30,
          31,
          29,
          30,
          33,
          32,
          29,
          30,
          31,
          30,
          32,
          30,
          32,
          30,
          32,
          29,
          32,
          30,
          31,
          29,
          30,
          33,
          30,
          33,
          32,
          30,
          31,
          28,
          29,
          31,
          30,
          31,
          29,
          31,
          29,
          30,
          31,
          30,
          32,
          30,
          33,
          32,
          30,
          31,
          30,
          32,
          29,
          30,
          32,
          30,
          31,
          29,
          30,
          32,
          30,
          31,
          28,
          30,
          31,
          28,
          30,
          31,
          28,
          30,
          32,
          30,
          32,
          31,
          29,
          32,
          31,
          29,
          32,
          30,
          31
         ],
         "xaxis": "x3",
         "yaxis": "y3"
        },
        {
         "alignmentgroup": "True",
         "bingroup": "x",
         "hovertemplate": "entity_id=urn:ngsi-ld:SoilSensor:humidity003<br>humidity=%{x}<br>count=%{y}<extra></extra>",
         "legendgroup": "urn:ngsi-ld:SoilSensor:humidity003",
         "marker": {
          "color": "#ab63fa",
          "pattern": {
           "shape": ""
          }
         },
         "name": "urn:ngsi-ld:SoilSensor:humidity003",
         "offsetgroup": "urn:ngsi-ld:SoilSensor:humidity003",
         "orientation": "v",
         "showlegend": true,
         "type": "histogram",
         "x": [
          79,
          77,
          76,
          74,
          72,
          71,
          69,
          68,
          67,
          66,
          65,
          64,
          62,
          61,
          59,
          57,
          56,
          54,
          53,
          52,
          51,
          50,
          49,
          44,
          43,
          41,
          40,
          38,
          35,
          34,
          32,
          31,
          30,
          33,
          31,
          28,
          31,
          30,
          31,
          29,
          30,
          31,
          28,
          31,
          29,
          30,
          31,
          29,
          31,
          29,
          31,
          29,
          32,
          30,
          33,
          32,
          30,
          33,
          31,
          28,
          30,
          32,
          30,
          31,
          28,
          29,
          30,
          31,
          28,
          30,
          31,
          28,
          30,
          31,
          29,
          30,
          31,
          30,
          33,
          31,
          29,
          31,
          28,
          30,
          31,
          30,
          32,
          29,
          32,
          30,
          31,
          30,
          33,
          30,
          32,
          29,
          32,
          29,
          32,
          30,
          32,
          31,
          30,
          31,
          29,
          31,
          30,
          33,
          31,
          28,
          31,
          29,
          31,
          29,
          30,
          31,
          29,
          32,
          30,
          32,
          30,
          33,
          30,
          33,
          31,
          29,
          32,
          29,
          31,
          30,
          31,
          30,
          32,
          30,
          31,
          30,
          31,
          29,
          31,
          30,
          32,
          31,
          29,
          30,
          32,
          31,
          30,
          31,
          30,
          31,
          30,
          33,
          30,
          31,
          28,
          31,
          29,
          32,
          30,
          33,
          32,
          31,
          30,
          32,
          31,
          29,
          31,
          29,
          31,
          28,
          30,
          31,
          29,
          31,
          28,
          31
         ],
         "xaxis": "x4",
         "yaxis": "y4"
        }
       ],
       "layout": {
        "annotations": [
         {
          "font": {},
          "showarrow": false,
          "text": "entity_id=urn:ngsi-ld:SoilSensor:humidity002",
          "x": 0.1175,
          "xanchor": "center",
          "xref": "paper",
          "y": 1,
          "yanchor": "bottom",
          "yref": "paper"
         },
         {
          "font": {},
          "showarrow": false,
          "text": "entity_id=urn:ngsi-ld:SoilSensor:humidity001",
          "x": 0.3725,
          "xanchor": "center",
          "xref": "paper",
          "y": 1,
          "yanchor": "bottom",
          "yref": "paper"
         },
         {
          "font": {},
          "showarrow": false,
          "text": "entity_id=urn:ngsi-ld:SoilSensor:humidity004",
          "x": 0.6275,
          "xanchor": "center",
          "xref": "paper",
          "y": 1,
          "yanchor": "bottom",
          "yref": "paper"
         },
         {
          "font": {},
          "showarrow": false,
          "text": "entity_id=urn:ngsi-ld:SoilSensor:humidity003",
          "x": 0.8824999999999998,
          "xanchor": "center",
          "xref": "paper",
          "y": 1,
          "yanchor": "bottom",
          "yref": "paper"
         }
        ],
        "barmode": "stack",
        "legend": {
         "title": {
          "text": "entity_id"
         },
         "tracegroupgap": 0
        },
        "margin": {
         "t": 60
        },
        "template": {
         "data": {
          "bar": [
           {
            "error_x": {
             "color": "#2a3f5f"
            },
            "error_y": {
             "color": "#2a3f5f"
            },
            "marker": {
             "line": {
              "color": "#E5ECF6",
              "width": 0.5
             },
             "pattern": {
              "fillmode": "overlay",
              "size": 10,
              "solidity": 0.2
             }
            },
            "type": "bar"
           }
          ],
          "barpolar": [
           {
            "marker": {
             "line": {
              "color": "#E5ECF6",
              "width": 0.5
             },
             "pattern": {
              "fillmode": "overlay",
              "size": 10,
              "solidity": 0.2
             }
            },
            "type": "barpolar"
           }
          ],
          "carpet": [
           {
            "aaxis": {
             "endlinecolor": "#2a3f5f",
             "gridcolor": "white",
             "linecolor": "white",
             "minorgridcolor": "white",
             "startlinecolor": "#2a3f5f"
            },
            "baxis": {
             "endlinecolor": "#2a3f5f",
             "gridcolor": "white",
             "linecolor": "white",
             "minorgridcolor": "white",
             "startlinecolor": "#2a3f5f"
            },
            "type": "carpet"
           }
          ],
          "choropleth": [
           {
            "colorbar": {
             "outlinewidth": 0,
             "ticks": ""
            },
            "type": "choropleth"
           }
          ],
          "contour": [
           {
            "colorbar": {
             "outlinewidth": 0,
             "ticks": ""
            },
            "colorscale": [
             [
              0,
              "#0d0887"
             ],
             [
              0.1111111111111111,
              "#46039f"
             ],
             [
              0.2222222222222222,
              "#7201a8"
             ],
             [
              0.3333333333333333,
              "#9c179e"
             ],
             [
              0.4444444444444444,
              "#bd3786"
             ],
             [
              0.5555555555555556,
              "#d8576b"
             ],
             [
              0.6666666666666666,
              "#ed7953"
             ],
             [
              0.7777777777777778,
              "#fb9f3a"
             ],
             [
              0.8888888888888888,
              "#fdca26"
             ],
             [
              1,
              "#f0f921"
             ]
            ],
            "type": "contour"
           }
          ],
          "contourcarpet": [
           {
            "colorbar": {
             "outlinewidth": 0,
             "ticks": ""
            },
            "type": "contourcarpet"
           }
          ],
          "heatmap": [
           {
            "colorbar": {
             "outlinewidth": 0,
             "ticks": ""
            },
            "colorscale": [
             [
              0,
              "#0d0887"
             ],
             [
              0.1111111111111111,
              "#46039f"
             ],
             [
              0.2222222222222222,
              "#7201a8"
             ],
             [
              0.3333333333333333,
              "#9c179e"
             ],
             [
              0.4444444444444444,
              "#bd3786"
             ],
             [
              0.5555555555555556,
              "#d8576b"
             ],
             [
              0.6666666666666666,
              "#ed7953"
             ],
             [
              0.7777777777777778,
              "#fb9f3a"
             ],
             [
              0.8888888888888888,
              "#fdca26"
             ],
             [
              1,
              "#f0f921"
             ]
            ],
            "type": "heatmap"
           }
          ],
          "heatmapgl": [
           {
            "colorbar": {
             "outlinewidth": 0,
             "ticks": ""
            },
            "colorscale": [
             [
              0,
              "#0d0887"
             ],
             [
              0.1111111111111111,
              "#46039f"
             ],
             [
              0.2222222222222222,
              "#7201a8"
             ],
             [
              0.3333333333333333,
              "#9c179e"
             ],
             [
              0.4444444444444444,
              "#bd3786"
             ],
             [
              0.5555555555555556,
              "#d8576b"
             ],
             [
              0.6666666666666666,
              "#ed7953"
             ],
             [
              0.7777777777777778,
              "#fb9f3a"
             ],
             [
              0.8888888888888888,
              "#fdca26"
             ],
             [
              1,
              "#f0f921"
             ]
            ],
            "type": "heatmapgl"
           }
          ],
          "histogram": [
           {
            "marker": {
             "pattern": {
              "fillmode": "overlay",
              "size": 10,
              "solidity": 0.2
             }
            },
            "type": "histogram"
           }
          ],
          "histogram2d": [
           {
            "colorbar": {
             "outlinewidth": 0,
             "ticks": ""
            },
            "colorscale": [
             [
              0,
              "#0d0887"
             ],
             [
              0.1111111111111111,
              "#46039f"
             ],
             [
              0.2222222222222222,
              "#7201a8"
             ],
             [
              0.3333333333333333,
              "#9c179e"
             ],
             [
              0.4444444444444444,
              "#bd3786"
             ],
             [
              0.5555555555555556,
              "#d8576b"
             ],
             [
              0.6666666666666666,
              "#ed7953"
             ],
             [
              0.7777777777777778,
              "#fb9f3a"
             ],
             [
              0.8888888888888888,
              "#fdca26"
             ],
             [
              1,
              "#f0f921"
             ]
            ],
            "type": "histogram2d"
           }
          ],
          "histogram2dcontour": [
           {
            "colorbar": {
             "outlinewidth": 0,
             "ticks": ""
            },
            "colorscale": [
             [
              0,
              "#0d0887"
             ],
             [
              0.1111111111111111,
              "#46039f"
             ],
             [
              0.2222222222222222,
              "#7201a8"
             ],
             [
              0.3333333333333333,
              "#9c179e"
             ],
             [
              0.4444444444444444,
              "#bd3786"
             ],
             [
              0.5555555555555556,
              "#d8576b"
             ],
             [
              0.6666666666666666,
              "#ed7953"
             ],
             [
              0.7777777777777778,
              "#fb9f3a"
             ],
             [
              0.8888888888888888,
              "#fdca26"
             ],
             [
              1,
              "#f0f921"
             ]
            ],
            "type": "histogram2dcontour"
           }
          ],
          "mesh3d": [
           {
            "colorbar": {
             "outlinewidth": 0,
             "ticks": ""
            },
            "type": "mesh3d"
           }
          ],
          "parcoords": [
           {
            "line": {
             "colorbar": {
              "outlinewidth": 0,
              "ticks": ""
             }
            },
            "type": "parcoords"
           }
          ],
          "pie": [
           {
            "automargin": true,
            "type": "pie"
           }
          ],
          "scatter": [
           {
            "fillpattern": {
             "fillmode": "overlay",
             "size": 10,
             "solidity": 0.2
            },
            "type": "scatter"
           }
          ],
          "scatter3d": [
           {
            "line": {
             "colorbar": {
              "outlinewidth": 0,
              "ticks": ""
             }
            },
            "marker": {
             "colorbar": {
              "outlinewidth": 0,
              "ticks": ""
             }
            },
            "type": "scatter3d"
           }
          ],
          "scattercarpet": [
           {
            "marker": {
             "colorbar": {
              "outlinewidth": 0,
              "ticks": ""
             }
            },
            "type": "scattercarpet"
           }
          ],
          "scattergeo": [
           {
            "marker": {
             "colorbar": {
              "outlinewidth": 0,
              "ticks": ""
             }
            },
            "type": "scattergeo"
           }
          ],
          "scattergl": [
           {
            "marker": {
             "colorbar": {
              "outlinewidth": 0,
              "ticks": ""
             }
            },
            "type": "scattergl"
           }
          ],
          "scattermapbox": [
           {
            "marker": {
             "colorbar": {
              "outlinewidth": 0,
              "ticks": ""
             }
            },
            "type": "scattermapbox"
           }
          ],
          "scatterpolar": [
           {
            "marker": {
             "colorbar": {
              "outlinewidth": 0,
              "ticks": ""
             }
            },
            "type": "scatterpolar"
           }
          ],
          "scatterpolargl": [
           {
            "marker": {
             "colorbar": {
              "outlinewidth": 0,
              "ticks": ""
             }
            },
            "type": "scatterpolargl"
           }
          ],
          "scatterternary": [
           {
            "marker": {
             "colorbar": {
              "outlinewidth": 0,
              "ticks": ""
             }
            },
            "type": "scatterternary"
           }
          ],
          "surface": [
           {
            "colorbar": {
             "outlinewidth": 0,
             "ticks": ""
            },
            "colorscale": [
             [
              0,
              "#0d0887"
             ],
             [
              0.1111111111111111,
              "#46039f"
             ],
             [
              0.2222222222222222,
              "#7201a8"
             ],
             [
              0.3333333333333333,
              "#9c179e"
             ],
             [
              0.4444444444444444,
              "#bd3786"
             ],
             [
              0.5555555555555556,
              "#d8576b"
             ],
             [
              0.6666666666666666,
              "#ed7953"
             ],
             [
              0.7777777777777778,
              "#fb9f3a"
             ],
             [
              0.8888888888888888,
              "#fdca26"
             ],
             [
              1,
              "#f0f921"
             ]
            ],
            "type": "surface"
           }
          ],
          "table": [
           {
            "cells": {
             "fill": {
              "color": "#EBF0F8"
             },
             "line": {
              "color": "white"
             }
            },
            "header": {
             "fill": {
              "color": "#C8D4E3"
             },
             "line": {
              "color": "white"
             }
            },
            "type": "table"
           }
          ]
         },
         "layout": {
          "annotationdefaults": {
           "arrowcolor": "#2a3f5f",
           "arrowhead": 0,
           "arrowwidth": 1
          },
          "autotypenumbers": "strict",
          "coloraxis": {
           "colorbar": {
            "outlinewidth": 0,
            "ticks": ""
           }
          },
          "colorscale": {
           "diverging": [
            [
             0,
             "#8e0152"
            ],
            [
             0.1,
             "#c51b7d"
            ],
            [
             0.2,
             "#de77ae"
            ],
            [
             0.3,
             "#f1b6da"
            ],
            [
             0.4,
             "#fde0ef"
            ],
            [
             0.5,
             "#f7f7f7"
            ],
            [
             0.6,
             "#e6f5d0"
            ],
            [
             0.7,
             "#b8e186"
            ],
            [
             0.8,
             "#7fbc41"
            ],
            [
             0.9,
             "#4d9221"
            ],
            [
             1,
             "#276419"
            ]
           ],
           "sequential": [
            [
             0,
             "#0d0887"
            ],
            [
             0.1111111111111111,
             "#46039f"
            ],
            [
             0.2222222222222222,
             "#7201a8"
            ],
            [
             0.3333333333333333,
             "#9c179e"
            ],
            [
             0.4444444444444444,
             "#bd3786"
            ],
            [
             0.5555555555555556,
             "#d8576b"
            ],
            [
             0.6666666666666666,
             "#ed7953"
            ],
            [
             0.7777777777777778,
             "#fb9f3a"
            ],
            [
             0.8888888888888888,
             "#fdca26"
            ],
            [
             1,
             "#f0f921"
            ]
           ],
           "sequentialminus": [
            [
             0,
             "#0d0887"
            ],
            [
             0.1111111111111111,
             "#46039f"
            ],
            [
             0.2222222222222222,
             "#7201a8"
            ],
            [
             0.3333333333333333,
             "#9c179e"
            ],
            [
             0.4444444444444444,
             "#bd3786"
            ],
            [
             0.5555555555555556,
             "#d8576b"
            ],
            [
             0.6666666666666666,
             "#ed7953"
            ],
            [
             0.7777777777777778,
             "#fb9f3a"
            ],
            [
             0.8888888888888888,
             "#fdca26"
            ],
            [
             1,
             "#f0f921"
            ]
           ]
          },
          "colorway": [
           "#636efa",
           "#EF553B",
           "#00cc96",
           "#ab63fa",
           "#FFA15A",
           "#19d3f3",
           "#FF6692",
           "#B6E880",
           "#FF97FF",
           "#FECB52"
          ],
          "font": {
           "color": "#2a3f5f"
          },
          "geo": {
           "bgcolor": "white",
           "lakecolor": "white",
           "landcolor": "#E5ECF6",
           "showlakes": true,
           "showland": true,
           "subunitcolor": "white"
          },
          "hoverlabel": {
           "align": "left"
          },
          "hovermode": "closest",
          "mapbox": {
           "style": "light"
          },
          "paper_bgcolor": "white",
          "plot_bgcolor": "#E5ECF6",
          "polar": {
           "angularaxis": {
            "gridcolor": "white",
            "linecolor": "white",
            "ticks": ""
           },
           "bgcolor": "#E5ECF6",
           "radialaxis": {
            "gridcolor": "white",
            "linecolor": "white",
            "ticks": ""
           }
          },
          "scene": {
           "xaxis": {
            "backgroundcolor": "#E5ECF6",
            "gridcolor": "white",
            "gridwidth": 2,
            "linecolor": "white",
            "showbackground": true,
            "ticks": "",
            "zerolinecolor": "white"
           },
           "yaxis": {
            "backgroundcolor": "#E5ECF6",
            "gridcolor": "white",
            "gridwidth": 2,
            "linecolor": "white",
            "showbackground": true,
            "ticks": "",
            "zerolinecolor": "white"
           },
           "zaxis": {
            "backgroundcolor": "#E5ECF6",
            "gridcolor": "white",
            "gridwidth": 2,
            "linecolor": "white",
            "showbackground": true,
            "ticks": "",
            "zerolinecolor": "white"
           }
          },
          "shapedefaults": {
           "line": {
            "color": "#2a3f5f"
           }
          },
          "ternary": {
           "aaxis": {
            "gridcolor": "white",
            "linecolor": "white",
            "ticks": ""
           },
           "baxis": {
            "gridcolor": "white",
            "linecolor": "white",
            "ticks": ""
           },
           "bgcolor": "#E5ECF6",
           "caxis": {
            "gridcolor": "white",
            "linecolor": "white",
            "ticks": ""
           }
          },
          "title": {
           "x": 0.05
          },
          "xaxis": {
           "automargin": true,
           "gridcolor": "white",
           "linecolor": "white",
           "ticks": "",
           "title": {
            "standoff": 15
           },
           "zerolinecolor": "white",
           "zerolinewidth": 2
          },
          "yaxis": {
           "automargin": true,
           "gridcolor": "white",
           "linecolor": "white",
           "ticks": "",
           "title": {
            "standoff": 15
           },
           "zerolinecolor": "white",
           "zerolinewidth": 2
          }
         }
        },
        "xaxis": {
         "anchor": "y",
         "domain": [
          0,
          0.235
         ],
         "title": {
          "text": "humidity"
         }
        },
        "xaxis2": {
         "anchor": "y2",
         "domain": [
          0.255,
          0.49
         ],
         "matches": "x",
         "title": {
          "text": "humidity"
         }
        },
        "xaxis3": {
         "anchor": "y3",
         "domain": [
          0.51,
          0.745
         ],
         "matches": "x",
         "title": {
          "text": "humidity"
         }
        },
        "xaxis4": {
         "anchor": "y4",
         "domain": [
          0.7649999999999999,
          0.9999999999999999
         ],
         "matches": "x",
         "title": {
          "text": "humidity"
         }
        },
        "yaxis": {
         "anchor": "x",
         "domain": [
          0,
          1
         ],
         "title": {
          "text": "count"
         }
        },
        "yaxis2": {
         "anchor": "x2",
         "domain": [
          0,
          1
         ],
         "matches": "y",
         "showticklabels": false
        },
        "yaxis3": {
         "anchor": "x3",
         "domain": [
          0,
          1
         ],
         "matches": "y",
         "showticklabels": false
        },
        "yaxis4": {
         "anchor": "x4",
         "domain": [
          0,
          1
         ],
         "matches": "y",
         "showticklabels": false
        }
       }
      }
     },
     "metadata": {},
     "output_type": "display_data"
    }
   ],
   "source": [
    "fig = px.histogram(soil, x=\"humidity\", barmode=\"stack\", facet_col=\"entity_id\", color=\"entity_id\")\n",
    "fig.show()"
   ]
  },
  {
   "cell_type": "markdown",
   "metadata": {},
   "source": [
    "# Graficas enunciado"
   ]
  },
  {
   "cell_type": "markdown",
   "metadata": {},
   "source": [
    "Evolución filling"
   ]
  },
  {
   "cell_type": "code",
   "execution_count": 76,
   "metadata": {},
   "outputs": [
    {
     "data": {
      "application/vnd.plotly.v1+json": {
       "config": {
        "plotlyServerURL": "https://plot.ly"
       },
       "data": [
        {
         "hovertemplate": "time_index=%{x}<br>filling=%{y}<extra></extra>",
         "legendgroup": "",
         "line": {
          "color": "#636efa",
          "dash": "solid"
         },
         "marker": {
          "symbol": "circle"
         },
         "mode": "lines",
         "name": "",
         "orientation": "v",
         "showlegend": false,
         "type": "scatter",
         "x": [
          "2024-05-08T16:53:52.052000+00:00",
          "2024-05-08T16:53:52.056000+00:00",
          "2024-05-08T16:53:52.074000+00:00",
          "2024-05-08T16:53:52.096000+00:00",
          "2024-05-08T16:53:52.756000+00:00",
          "2024-05-08T16:53:52.805000+00:00",
          "2024-05-08T16:53:52.849000+00:00",
          "2024-05-08T16:53:52.903000+00:00",
          "2024-05-08T16:53:53.760000+00:00",
          "2024-05-08T16:53:53.800000+00:00",
          "2024-05-08T16:53:53.906000+00:00"
         ],
         "xaxis": "x",
         "y": [
          0.94,
          0.96,
          0.99,
          0.06,
          0.87,
          0.92,
          0.95,
          0.07,
          0.85,
          0.84,
          0.08
         ],
         "yaxis": "y"
        }
       ],
       "layout": {
        "legend": {
         "tracegroupgap": 0
        },
        "margin": {
         "t": 60
        },
        "template": {
         "data": {
          "bar": [
           {
            "error_x": {
             "color": "#2a3f5f"
            },
            "error_y": {
             "color": "#2a3f5f"
            },
            "marker": {
             "line": {
              "color": "#E5ECF6",
              "width": 0.5
             },
             "pattern": {
              "fillmode": "overlay",
              "size": 10,
              "solidity": 0.2
             }
            },
            "type": "bar"
           }
          ],
          "barpolar": [
           {
            "marker": {
             "line": {
              "color": "#E5ECF6",
              "width": 0.5
             },
             "pattern": {
              "fillmode": "overlay",
              "size": 10,
              "solidity": 0.2
             }
            },
            "type": "barpolar"
           }
          ],
          "carpet": [
           {
            "aaxis": {
             "endlinecolor": "#2a3f5f",
             "gridcolor": "white",
             "linecolor": "white",
             "minorgridcolor": "white",
             "startlinecolor": "#2a3f5f"
            },
            "baxis": {
             "endlinecolor": "#2a3f5f",
             "gridcolor": "white",
             "linecolor": "white",
             "minorgridcolor": "white",
             "startlinecolor": "#2a3f5f"
            },
            "type": "carpet"
           }
          ],
          "choropleth": [
           {
            "colorbar": {
             "outlinewidth": 0,
             "ticks": ""
            },
            "type": "choropleth"
           }
          ],
          "contour": [
           {
            "colorbar": {
             "outlinewidth": 0,
             "ticks": ""
            },
            "colorscale": [
             [
              0,
              "#0d0887"
             ],
             [
              0.1111111111111111,
              "#46039f"
             ],
             [
              0.2222222222222222,
              "#7201a8"
             ],
             [
              0.3333333333333333,
              "#9c179e"
             ],
             [
              0.4444444444444444,
              "#bd3786"
             ],
             [
              0.5555555555555556,
              "#d8576b"
             ],
             [
              0.6666666666666666,
              "#ed7953"
             ],
             [
              0.7777777777777778,
              "#fb9f3a"
             ],
             [
              0.8888888888888888,
              "#fdca26"
             ],
             [
              1,
              "#f0f921"
             ]
            ],
            "type": "contour"
           }
          ],
          "contourcarpet": [
           {
            "colorbar": {
             "outlinewidth": 0,
             "ticks": ""
            },
            "type": "contourcarpet"
           }
          ],
          "heatmap": [
           {
            "colorbar": {
             "outlinewidth": 0,
             "ticks": ""
            },
            "colorscale": [
             [
              0,
              "#0d0887"
             ],
             [
              0.1111111111111111,
              "#46039f"
             ],
             [
              0.2222222222222222,
              "#7201a8"
             ],
             [
              0.3333333333333333,
              "#9c179e"
             ],
             [
              0.4444444444444444,
              "#bd3786"
             ],
             [
              0.5555555555555556,
              "#d8576b"
             ],
             [
              0.6666666666666666,
              "#ed7953"
             ],
             [
              0.7777777777777778,
              "#fb9f3a"
             ],
             [
              0.8888888888888888,
              "#fdca26"
             ],
             [
              1,
              "#f0f921"
             ]
            ],
            "type": "heatmap"
           }
          ],
          "heatmapgl": [
           {
            "colorbar": {
             "outlinewidth": 0,
             "ticks": ""
            },
            "colorscale": [
             [
              0,
              "#0d0887"
             ],
             [
              0.1111111111111111,
              "#46039f"
             ],
             [
              0.2222222222222222,
              "#7201a8"
             ],
             [
              0.3333333333333333,
              "#9c179e"
             ],
             [
              0.4444444444444444,
              "#bd3786"
             ],
             [
              0.5555555555555556,
              "#d8576b"
             ],
             [
              0.6666666666666666,
              "#ed7953"
             ],
             [
              0.7777777777777778,
              "#fb9f3a"
             ],
             [
              0.8888888888888888,
              "#fdca26"
             ],
             [
              1,
              "#f0f921"
             ]
            ],
            "type": "heatmapgl"
           }
          ],
          "histogram": [
           {
            "marker": {
             "pattern": {
              "fillmode": "overlay",
              "size": 10,
              "solidity": 0.2
             }
            },
            "type": "histogram"
           }
          ],
          "histogram2d": [
           {
            "colorbar": {
             "outlinewidth": 0,
             "ticks": ""
            },
            "colorscale": [
             [
              0,
              "#0d0887"
             ],
             [
              0.1111111111111111,
              "#46039f"
             ],
             [
              0.2222222222222222,
              "#7201a8"
             ],
             [
              0.3333333333333333,
              "#9c179e"
             ],
             [
              0.4444444444444444,
              "#bd3786"
             ],
             [
              0.5555555555555556,
              "#d8576b"
             ],
             [
              0.6666666666666666,
              "#ed7953"
             ],
             [
              0.7777777777777778,
              "#fb9f3a"
             ],
             [
              0.8888888888888888,
              "#fdca26"
             ],
             [
              1,
              "#f0f921"
             ]
            ],
            "type": "histogram2d"
           }
          ],
          "histogram2dcontour": [
           {
            "colorbar": {
             "outlinewidth": 0,
             "ticks": ""
            },
            "colorscale": [
             [
              0,
              "#0d0887"
             ],
             [
              0.1111111111111111,
              "#46039f"
             ],
             [
              0.2222222222222222,
              "#7201a8"
             ],
             [
              0.3333333333333333,
              "#9c179e"
             ],
             [
              0.4444444444444444,
              "#bd3786"
             ],
             [
              0.5555555555555556,
              "#d8576b"
             ],
             [
              0.6666666666666666,
              "#ed7953"
             ],
             [
              0.7777777777777778,
              "#fb9f3a"
             ],
             [
              0.8888888888888888,
              "#fdca26"
             ],
             [
              1,
              "#f0f921"
             ]
            ],
            "type": "histogram2dcontour"
           }
          ],
          "mesh3d": [
           {
            "colorbar": {
             "outlinewidth": 0,
             "ticks": ""
            },
            "type": "mesh3d"
           }
          ],
          "parcoords": [
           {
            "line": {
             "colorbar": {
              "outlinewidth": 0,
              "ticks": ""
             }
            },
            "type": "parcoords"
           }
          ],
          "pie": [
           {
            "automargin": true,
            "type": "pie"
           }
          ],
          "scatter": [
           {
            "fillpattern": {
             "fillmode": "overlay",
             "size": 10,
             "solidity": 0.2
            },
            "type": "scatter"
           }
          ],
          "scatter3d": [
           {
            "line": {
             "colorbar": {
              "outlinewidth": 0,
              "ticks": ""
             }
            },
            "marker": {
             "colorbar": {
              "outlinewidth": 0,
              "ticks": ""
             }
            },
            "type": "scatter3d"
           }
          ],
          "scattercarpet": [
           {
            "marker": {
             "colorbar": {
              "outlinewidth": 0,
              "ticks": ""
             }
            },
            "type": "scattercarpet"
           }
          ],
          "scattergeo": [
           {
            "marker": {
             "colorbar": {
              "outlinewidth": 0,
              "ticks": ""
             }
            },
            "type": "scattergeo"
           }
          ],
          "scattergl": [
           {
            "marker": {
             "colorbar": {
              "outlinewidth": 0,
              "ticks": ""
             }
            },
            "type": "scattergl"
           }
          ],
          "scattermapbox": [
           {
            "marker": {
             "colorbar": {
              "outlinewidth": 0,
              "ticks": ""
             }
            },
            "type": "scattermapbox"
           }
          ],
          "scatterpolar": [
           {
            "marker": {
             "colorbar": {
              "outlinewidth": 0,
              "ticks": ""
             }
            },
            "type": "scatterpolar"
           }
          ],
          "scatterpolargl": [
           {
            "marker": {
             "colorbar": {
              "outlinewidth": 0,
              "ticks": ""
             }
            },
            "type": "scatterpolargl"
           }
          ],
          "scatterternary": [
           {
            "marker": {
             "colorbar": {
              "outlinewidth": 0,
              "ticks": ""
             }
            },
            "type": "scatterternary"
           }
          ],
          "surface": [
           {
            "colorbar": {
             "outlinewidth": 0,
             "ticks": ""
            },
            "colorscale": [
             [
              0,
              "#0d0887"
             ],
             [
              0.1111111111111111,
              "#46039f"
             ],
             [
              0.2222222222222222,
              "#7201a8"
             ],
             [
              0.3333333333333333,
              "#9c179e"
             ],
             [
              0.4444444444444444,
              "#bd3786"
             ],
             [
              0.5555555555555556,
              "#d8576b"
             ],
             [
              0.6666666666666666,
              "#ed7953"
             ],
             [
              0.7777777777777778,
              "#fb9f3a"
             ],
             [
              0.8888888888888888,
              "#fdca26"
             ],
             [
              1,
              "#f0f921"
             ]
            ],
            "type": "surface"
           }
          ],
          "table": [
           {
            "cells": {
             "fill": {
              "color": "#EBF0F8"
             },
             "line": {
              "color": "white"
             }
            },
            "header": {
             "fill": {
              "color": "#C8D4E3"
             },
             "line": {
              "color": "white"
             }
            },
            "type": "table"
           }
          ]
         },
         "layout": {
          "annotationdefaults": {
           "arrowcolor": "#2a3f5f",
           "arrowhead": 0,
           "arrowwidth": 1
          },
          "autotypenumbers": "strict",
          "coloraxis": {
           "colorbar": {
            "outlinewidth": 0,
            "ticks": ""
           }
          },
          "colorscale": {
           "diverging": [
            [
             0,
             "#8e0152"
            ],
            [
             0.1,
             "#c51b7d"
            ],
            [
             0.2,
             "#de77ae"
            ],
            [
             0.3,
             "#f1b6da"
            ],
            [
             0.4,
             "#fde0ef"
            ],
            [
             0.5,
             "#f7f7f7"
            ],
            [
             0.6,
             "#e6f5d0"
            ],
            [
             0.7,
             "#b8e186"
            ],
            [
             0.8,
             "#7fbc41"
            ],
            [
             0.9,
             "#4d9221"
            ],
            [
             1,
             "#276419"
            ]
           ],
           "sequential": [
            [
             0,
             "#0d0887"
            ],
            [
             0.1111111111111111,
             "#46039f"
            ],
            [
             0.2222222222222222,
             "#7201a8"
            ],
            [
             0.3333333333333333,
             "#9c179e"
            ],
            [
             0.4444444444444444,
             "#bd3786"
            ],
            [
             0.5555555555555556,
             "#d8576b"
            ],
            [
             0.6666666666666666,
             "#ed7953"
            ],
            [
             0.7777777777777778,
             "#fb9f3a"
            ],
            [
             0.8888888888888888,
             "#fdca26"
            ],
            [
             1,
             "#f0f921"
            ]
           ],
           "sequentialminus": [
            [
             0,
             "#0d0887"
            ],
            [
             0.1111111111111111,
             "#46039f"
            ],
            [
             0.2222222222222222,
             "#7201a8"
            ],
            [
             0.3333333333333333,
             "#9c179e"
            ],
            [
             0.4444444444444444,
             "#bd3786"
            ],
            [
             0.5555555555555556,
             "#d8576b"
            ],
            [
             0.6666666666666666,
             "#ed7953"
            ],
            [
             0.7777777777777778,
             "#fb9f3a"
            ],
            [
             0.8888888888888888,
             "#fdca26"
            ],
            [
             1,
             "#f0f921"
            ]
           ]
          },
          "colorway": [
           "#636efa",
           "#EF553B",
           "#00cc96",
           "#ab63fa",
           "#FFA15A",
           "#19d3f3",
           "#FF6692",
           "#B6E880",
           "#FF97FF",
           "#FECB52"
          ],
          "font": {
           "color": "#2a3f5f"
          },
          "geo": {
           "bgcolor": "white",
           "lakecolor": "white",
           "landcolor": "#E5ECF6",
           "showlakes": true,
           "showland": true,
           "subunitcolor": "white"
          },
          "hoverlabel": {
           "align": "left"
          },
          "hovermode": "closest",
          "mapbox": {
           "style": "light"
          },
          "paper_bgcolor": "white",
          "plot_bgcolor": "#E5ECF6",
          "polar": {
           "angularaxis": {
            "gridcolor": "white",
            "linecolor": "white",
            "ticks": ""
           },
           "bgcolor": "#E5ECF6",
           "radialaxis": {
            "gridcolor": "white",
            "linecolor": "white",
            "ticks": ""
           }
          },
          "scene": {
           "xaxis": {
            "backgroundcolor": "#E5ECF6",
            "gridcolor": "white",
            "gridwidth": 2,
            "linecolor": "white",
            "showbackground": true,
            "ticks": "",
            "zerolinecolor": "white"
           },
           "yaxis": {
            "backgroundcolor": "#E5ECF6",
            "gridcolor": "white",
            "gridwidth": 2,
            "linecolor": "white",
            "showbackground": true,
            "ticks": "",
            "zerolinecolor": "white"
           },
           "zaxis": {
            "backgroundcolor": "#E5ECF6",
            "gridcolor": "white",
            "gridwidth": 2,
            "linecolor": "white",
            "showbackground": true,
            "ticks": "",
            "zerolinecolor": "white"
           }
          },
          "shapedefaults": {
           "line": {
            "color": "#2a3f5f"
           }
          },
          "ternary": {
           "aaxis": {
            "gridcolor": "white",
            "linecolor": "white",
            "ticks": ""
           },
           "baxis": {
            "gridcolor": "white",
            "linecolor": "white",
            "ticks": ""
           },
           "bgcolor": "#E5ECF6",
           "caxis": {
            "gridcolor": "white",
            "linecolor": "white",
            "ticks": ""
           }
          },
          "title": {
           "x": 0.05
          },
          "xaxis": {
           "automargin": true,
           "gridcolor": "white",
           "linecolor": "white",
           "ticks": "",
           "title": {
            "standoff": 15
           },
           "zerolinecolor": "white",
           "zerolinewidth": 2
          },
          "yaxis": {
           "automargin": true,
           "gridcolor": "white",
           "linecolor": "white",
           "ticks": "",
           "title": {
            "standoff": 15
           },
           "zerolinecolor": "white",
           "zerolinewidth": 2
          }
         }
        },
        "xaxis": {
         "anchor": "y",
         "domain": [
          0,
          1
         ],
         "title": {
          "text": "time_index"
         }
        },
        "yaxis": {
         "anchor": "x",
         "domain": [
          0,
          1
         ],
         "title": {
          "text": "filling"
         }
        }
       }
      }
     },
     "metadata": {},
     "output_type": "display_data"
    }
   ],
   "source": [
    "fig = px.line(filling, x='time_index', y=\"filling\")\n",
    "fig.show()"
   ]
  },
  {
   "cell_type": "markdown",
   "metadata": {},
   "source": [
    "Evolución humedad y temperatura"
   ]
  },
  {
   "cell_type": "code",
   "execution_count": 77,
   "metadata": {},
   "outputs": [
    {
     "data": {
      "application/vnd.plotly.v1+json": {
       "config": {
        "plotlyServerURL": "https://plot.ly"
       },
       "data": [
        {
         "hovertemplate": "time_index=%{x}<br>humidity=%{y}<extra></extra>",
         "legendgroup": "",
         "line": {
          "color": "#636efa",
          "dash": "solid"
         },
         "marker": {
          "symbol": "circle"
         },
         "mode": "lines",
         "name": "",
         "orientation": "v",
         "showlegend": false,
         "type": "scatter",
         "x": [
          "2024-05-08T16:54:03.883000+00:00",
          "2024-05-08T16:54:09.829000+00:00",
          "2024-05-08T16:54:09.832000+00:00",
          "2024-05-08T16:54:18.802000+00:00",
          "2024-05-08T16:54:24.806000+00:00",
          "2024-05-08T16:54:24.808000+00:00",
          "2024-05-08T16:54:30.906000+00:00",
          "2024-05-08T16:54:30.926000+00:00",
          "2024-05-08T16:54:31.011000+00:00",
          "2024-05-08T16:54:33.804000+00:00",
          "2024-05-08T16:54:33.807000+00:00",
          "2024-05-08T16:54:37.085000+00:00",
          "2024-05-08T16:54:39.817000+00:00",
          "2024-05-08T16:54:39.818000+00:00",
          "2024-05-08T16:54:45.815000+00:00",
          "2024-05-08T16:54:51.875000+00:00",
          "2024-05-08T16:54:54.845000+00:00",
          "2024-05-08T16:54:57.945000+00:00",
          "2024-05-08T16:54:57.958000+00:00",
          "2024-05-08T16:55:00.843000+00:00",
          "2024-05-08T16:55:03.856000+00:00",
          "2024-05-08T16:55:07.043000+00:00",
          "2024-05-08T16:55:07.097000+00:00",
          "2024-05-08T16:55:12.835000+00:00",
          "2024-05-08T16:55:12.836000+00:00",
          "2024-05-08T16:55:18.824000+00:00",
          "2024-05-08T16:55:24.827000+00:00",
          "2024-05-08T16:55:27.845000+00:00",
          "2024-05-08T16:55:33.917000+00:00",
          "2024-05-08T16:55:42.834000+00:00",
          "2024-05-08T16:55:48.844000+00:00",
          "2024-05-08T16:55:48.846000+00:00",
          "2024-05-08T16:55:51.881000+00:00",
          "2024-05-08T16:55:51.884000+00:00",
          "2024-05-08T16:55:54.875000+00:00",
          "2024-05-08T16:55:54.876000+00:00",
          "2024-05-08T16:55:57.846000+00:00",
          "2024-05-08T16:56:06.896000+00:00",
          "2024-05-08T16:56:06.914000+00:00",
          "2024-05-08T16:56:09.855000+00:00",
          "2024-05-08T16:56:15.850000+00:00",
          "2024-05-08T16:56:21.986000+00:00",
          "2024-05-08T16:56:24.897000+00:00",
          "2024-05-08T16:56:24.901000+00:00",
          "2024-05-08T16:56:27.866000+00:00",
          "2024-05-08T16:56:36.867000+00:00",
          "2024-05-08T16:56:42.861000+00:00",
          "2024-05-08T16:56:42.862000+00:00",
          "2024-05-08T16:56:51.907000+00:00",
          "2024-05-08T16:56:51.908000+00:00",
          "2024-05-08T16:56:54.885000+00:00",
          "2024-05-08T16:56:54.886000+00:00",
          "2024-05-08T16:56:54.887000+00:00",
          "2024-05-08T16:56:57.864000+00:00",
          "2024-05-08T16:57:00.865000+00:00",
          "2024-05-08T16:57:03.901000+00:00",
          "2024-05-08T16:57:09.895000+00:00",
          "2024-05-08T16:57:09.897000+00:00",
          "2024-05-08T16:57:09.900000+00:00",
          "2024-05-08T16:57:12.892000+00:00",
          "2024-05-08T16:57:18.911000+00:00",
          "2024-05-08T16:57:21.941000+00:00",
          "2024-05-08T16:57:21.942000+00:00",
          "2024-05-08T16:57:27.898000+00:00",
          "2024-05-08T16:57:27.900000+00:00",
          "2024-05-08T16:57:30.917000+00:00",
          "2024-05-08T16:57:36.885000+00:00",
          "2024-05-08T16:57:39.893000+00:00",
          "2024-05-08T16:57:39.896000+00:00",
          "2024-05-08T16:57:45.899000+00:00",
          "2024-05-08T16:57:45.900000+00:00",
          "2024-05-08T16:57:48.892000+00:00",
          "2024-05-08T16:57:48.893000+00:00",
          "2024-05-08T16:57:54.885000+00:00",
          "2024-05-08T16:57:54.887000+00:00",
          "2024-05-08T16:57:57.876000+00:00",
          "2024-05-08T16:58:09.903000+00:00",
          "2024-05-08T16:58:18.938000+00:00",
          "2024-05-08T16:58:21.915000+00:00",
          "2024-05-08T16:58:21.916000+00:00",
          "2024-05-08T16:58:24.919000+00:00",
          "2024-05-08T16:58:36.915000+00:00",
          "2024-05-08T16:58:36.916000+00:00",
          "2024-05-08T16:58:39.915000+00:00",
          "2024-05-08T16:58:39.916000+00:00",
          "2024-05-08T16:58:42.906000+00:00",
          "2024-05-08T16:58:45.920000+00:00",
          "2024-05-08T16:58:52.052000+00:00",
          "2024-05-08T16:58:54.924000+00:00",
          "2024-05-08T16:59:06.985000+00:00",
          "2024-05-08T16:59:09.927000+00:00",
          "2024-05-08T16:59:12.953000+00:00",
          "2024-05-08T16:59:15.950000+00:00",
          "2024-05-08T16:59:15.961000+00:00",
          "2024-05-08T16:59:15.974000+00:00",
          "2024-05-08T16:59:18.965000+00:00",
          "2024-05-08T16:59:18.968000+00:00",
          "2024-05-08T16:59:22.009000+00:00",
          "2024-05-08T16:59:30.929000+00:00",
          "2024-05-08T16:59:30.931000+00:00",
          "2024-05-08T16:59:36.940000+00:00",
          "2024-05-08T16:59:39.977000+00:00",
          "2024-05-08T16:59:42.931000+00:00",
          "2024-05-08T16:59:45.971000+00:00",
          "2024-05-08T16:59:48.987000+00:00",
          "2024-05-08T16:59:48.988000+00:00",
          "2024-05-08T16:59:57.957000+00:00",
          "2024-05-08T16:59:57.961000+00:00",
          "2024-05-08T16:59:57.963000+00:00",
          "2024-05-08T17:00:04.042000+00:00",
          "2024-05-08T17:00:04.045000+00:00",
          "2024-05-08T17:00:06.976000+00:00",
          "2024-05-08T17:00:06.979000+00:00",
          "2024-05-08T17:00:09.988000+00:00",
          "2024-05-08T17:00:09.991000+00:00",
          "2024-05-08T17:00:12.935000+00:00",
          "2024-05-08T17:00:15.946000+00:00",
          "2024-05-08T17:00:15.948000+00:00",
          "2024-05-08T17:00:19.026000+00:00",
          "2024-05-08T17:00:19.026000+00:00",
          "2024-05-08T17:00:19.030000+00:00",
          "2024-05-08T17:00:21.987000+00:00",
          "2024-05-08T17:00:21.999000+00:00",
          "2024-05-08T17:00:24.953000+00:00",
          "2024-05-08T17:00:24.965000+00:00",
          "2024-05-08T17:00:24.967000+00:00",
          "2024-05-08T17:00:27.949000+00:00",
          "2024-05-08T17:00:27.951000+00:00",
          "2024-05-08T17:00:30.951000+00:00",
          "2024-05-08T17:00:33.980000+00:00",
          "2024-05-08T17:00:33.982000+00:00",
          "2024-05-08T17:00:39.976000+00:00",
          "2024-05-08T17:00:39.979000+00:00",
          "2024-05-08T17:00:39.981000+00:00",
          "2024-05-08T17:00:39.990000+00:00",
          "2024-05-08T17:00:42.952000+00:00",
          "2024-05-08T17:00:45.956000+00:00",
          "2024-05-08T17:00:45.958000+00:00",
          "2024-05-08T17:00:48.980000+00:00",
          "2024-05-08T17:00:51.974000+00:00",
          "2024-05-08T17:00:51.976000+00:00",
          "2024-05-08T17:00:54.996000+00:00",
          "2024-05-08T17:00:55.002000+00:00",
          "2024-05-08T17:00:55.004000+00:00",
          "2024-05-08T17:00:57.979000+00:00",
          "2024-05-08T17:00:57.981000+00:00",
          "2024-05-08T17:01:03.962000+00:00",
          "2024-05-08T17:01:06.969000+00:00",
          "2024-05-08T17:01:06.970000+00:00",
          "2024-05-08T17:01:09.997000+00:00",
          "2024-05-08T17:01:15.999000+00:00",
          "2024-05-08T17:01:22.027000+00:00",
          "2024-05-08T17:01:22.030000+00:00",
          "2024-05-08T17:01:22.031000+00:00",
          "2024-05-08T17:01:24.992000+00:00",
          "2024-05-08T17:01:24.993000+00:00",
          "2024-05-08T17:01:28.009000+00:00",
          "2024-05-08T17:01:28.009000+00:00",
          "2024-05-08T17:01:28.011000+00:00",
          "2024-05-08T17:01:31.005000+00:00",
          "2024-05-08T17:01:31.006000+00:00",
          "2024-05-08T17:01:33.991000+00:00",
          "2024-05-08T17:01:33.992000+00:00",
          "2024-05-08T17:01:36.986000+00:00",
          "2024-05-08T17:01:40.006000+00:00",
          "2024-05-08T17:01:40.008000+00:00",
          "2024-05-08T17:01:42.985000+00:00",
          "2024-05-08T17:01:42.987000+00:00",
          "2024-05-08T17:01:45.995000+00:00",
          "2024-05-08T17:01:45.996000+00:00",
          "2024-05-08T17:01:48.986000+00:00",
          "2024-05-08T17:01:48.988000+00:00",
          "2024-05-08T17:01:48.990000+00:00",
          "2024-05-08T17:01:52.047000+00:00",
          "2024-05-08T17:01:52.049000+00:00",
          "2024-05-08T17:01:52.051000+00:00",
          "2024-05-08T17:01:58.010000+00:00",
          "2024-05-08T17:01:58.015000+00:00",
          "2024-05-08T17:01:58.017000+00:00",
          "2024-05-08T17:02:01.006000+00:00",
          "2024-05-08T17:02:04.029000+00:00",
          "2024-05-08T17:02:04.031000+00:00",
          "2024-05-08T17:02:04.032000+00:00",
          "2024-05-08T17:02:06.992000+00:00",
          "2024-05-08T17:02:10.008000+00:00",
          "2024-05-08T17:02:12.982000+00:00",
          "2024-05-08T17:02:16.014000+00:00",
          "2024-05-08T17:02:19.001000+00:00",
          "2024-05-08T17:02:25.011000+00:00",
          "2024-05-08T17:02:25.013000+00:00",
          "2024-05-08T17:02:28.025000+00:00",
          "2024-05-08T17:02:28.026000+00:00",
          "2024-05-08T17:02:31.030000+00:00",
          "2024-05-08T17:02:34.010000+00:00",
          "2024-05-08T17:02:36.996000+00:00",
          "2024-05-08T17:02:40.019000+00:00",
          "2024-05-08T17:02:40.020000+00:00",
          "2024-05-08T17:02:40.021000+00:00",
          "2024-05-08T17:02:43.026000+00:00",
          "2024-05-08T17:02:43.040000+00:00",
          "2024-05-08T17:02:43.044000+00:00",
          "2024-05-08T17:02:46.011000+00:00",
          "2024-05-08T17:02:46.012000+00:00",
          "2024-05-08T17:02:49.040000+00:00",
          "2024-05-08T17:02:52.060000+00:00",
          "2024-05-08T17:02:52.062000+00:00",
          "2024-05-08T17:02:55.096000+00:00",
          "2024-05-08T17:02:58.021000+00:00",
          "2024-05-08T17:03:01.023000+00:00",
          "2024-05-08T17:03:01.024000+00:00",
          "2024-05-08T17:03:04.041000+00:00",
          "2024-05-08T17:03:04.042000+00:00",
          "2024-05-08T17:03:07.040000+00:00",
          "2024-05-08T17:03:10.027000+00:00",
          "2024-05-08T17:03:13.021000+00:00",
          "2024-05-08T17:03:16.077000+00:00",
          "2024-05-08T17:03:16.078000+00:00",
          "2024-05-08T17:03:16.085000+00:00",
          "2024-05-08T17:03:19.041000+00:00",
          "2024-05-08T17:03:19.043000+00:00",
          "2024-05-08T17:03:19.045000+00:00",
          "2024-05-08T17:03:19.047000+00:00",
          "2024-05-08T17:03:22.028000+00:00",
          "2024-05-08T17:03:22.029000+00:00",
          "2024-05-08T17:03:25.033000+00:00",
          "2024-05-08T17:03:28.022000+00:00",
          "2024-05-08T17:03:31.046000+00:00",
          "2024-05-08T17:03:31.048000+00:00",
          "2024-05-08T17:03:34.056000+00:00",
          "2024-05-08T17:03:34.057000+00:00",
          "2024-05-08T17:03:37.072000+00:00",
          "2024-05-08T17:03:40.058000+00:00",
          "2024-05-08T17:03:40.066000+00:00",
          "2024-05-08T17:03:40.069000+00:00",
          "2024-05-08T17:03:43.053000+00:00",
          "2024-05-08T17:03:43.055000+00:00",
          "2024-05-08T17:03:43.060000+00:00",
          "2024-05-08T17:03:43.063000+00:00",
          "2024-05-08T17:03:46.049000+00:00",
          "2024-05-08T17:03:46.050000+00:00",
          "2024-05-08T17:03:46.051000+00:00",
          "2024-05-08T17:03:49.059000+00:00",
          "2024-05-08T17:03:49.060000+00:00",
          "2024-05-08T17:03:52.121000+00:00",
          "2024-05-08T17:03:52.123000+00:00",
          "2024-05-08T17:03:55.054000+00:00",
          "2024-05-08T17:03:55.055000+00:00",
          "2024-05-08T17:03:55.058000+00:00",
          "2024-05-08T17:03:55.059000+00:00",
          "2024-05-08T17:03:58.060000+00:00",
          "2024-05-08T17:03:58.061000+00:00",
          "2024-05-08T17:03:58.062000+00:00",
          "2024-05-08T17:04:01.038000+00:00",
          "2024-05-08T17:04:04.062000+00:00",
          "2024-05-08T17:04:04.064000+00:00",
          "2024-05-08T17:04:07.060000+00:00",
          "2024-05-08T17:04:07.062000+00:00",
          "2024-05-08T17:04:07.068000+00:00",
          "2024-05-08T17:04:10.062000+00:00",
          "2024-05-08T17:04:10.064000+00:00",
          "2024-05-08T17:04:10.066000+00:00",
          "2024-05-08T17:04:13.046000+00:00",
          "2024-05-08T17:04:16.043000+00:00",
          "2024-05-08T17:04:19.067000+00:00",
          "2024-05-08T17:04:25.054000+00:00",
          "2024-05-08T17:04:28.077000+00:00",
          "2024-05-08T17:04:28.079000+00:00",
          "2024-05-08T17:04:31.067000+00:00",
          "2024-05-08T17:04:31.073000+00:00",
          "2024-05-08T17:04:31.074000+00:00",
          "2024-05-08T17:04:31.076000+00:00",
          "2024-05-08T17:04:34.064000+00:00",
          "2024-05-08T17:04:34.066000+00:00",
          "2024-05-08T17:04:34.083000+00:00",
          "2024-05-08T17:04:37.057000+00:00",
          "2024-05-08T17:04:40.127000+00:00",
          "2024-05-08T17:04:46.057000+00:00",
          "2024-05-08T17:04:46.058000+00:00",
          "2024-05-08T17:04:49.072000+00:00",
          "2024-05-08T17:04:52.055000+00:00",
          "2024-05-08T17:04:52.057000+00:00",
          "2024-05-08T17:04:55.065000+00:00",
          "2024-05-08T17:04:55.066000+00:00",
          "2024-05-08T17:04:55.067000+00:00",
          "2024-05-08T17:04:58.069000+00:00",
          "2024-05-08T17:04:58.070000+00:00",
          "2024-05-08T17:04:58.072000+00:00",
          "2024-05-08T17:05:01.071000+00:00",
          "2024-05-08T17:05:01.073000+00:00",
          "2024-05-08T17:05:04.097000+00:00",
          "2024-05-08T17:05:04.099000+00:00",
          "2024-05-08T17:05:07.105000+00:00",
          "2024-05-08T17:05:07.112000+00:00",
          "2024-05-08T17:05:07.115000+00:00",
          "2024-05-08T17:05:10.131000+00:00",
          "2024-05-08T17:05:10.134000+00:00",
          "2024-05-08T17:05:13.086000+00:00",
          "2024-05-08T17:05:13.087000+00:00",
          "2024-05-08T17:05:16.082000+00:00",
          "2024-05-08T17:05:16.084000+00:00",
          "2024-05-08T17:05:19.092000+00:00",
          "2024-05-08T17:05:22.088000+00:00",
          "2024-05-08T17:05:22.089000+00:00",
          "2024-05-08T17:05:25.085000+00:00",
          "2024-05-08T17:05:25.086000+00:00",
          "2024-05-08T17:05:31.105000+00:00",
          "2024-05-08T17:05:31.107000+00:00",
          "2024-05-08T17:05:34.109000+00:00",
          "2024-05-08T17:05:34.112000+00:00",
          "2024-05-08T17:05:37.077000+00:00",
          "2024-05-08T17:05:40.127000+00:00",
          "2024-05-08T17:05:40.128000+00:00",
          "2024-05-08T17:05:43.083000+00:00",
          "2024-05-08T17:05:43.085000+00:00",
          "2024-05-08T17:05:46.100000+00:00",
          "2024-05-08T17:05:46.102000+00:00",
          "2024-05-08T17:05:49.112000+00:00",
          "2024-05-08T17:05:49.116000+00:00",
          "2024-05-08T17:05:52.100000+00:00",
          "2024-05-08T17:05:55.106000+00:00",
          "2024-05-08T17:05:58.093000+00:00",
          "2024-05-08T17:06:01.103000+00:00",
          "2024-05-08T17:06:04.106000+00:00",
          "2024-05-08T17:06:04.108000+00:00",
          "2024-05-08T17:06:07.112000+00:00",
          "2024-05-08T17:06:07.114000+00:00",
          "2024-05-08T17:06:10.103000+00:00",
          "2024-05-08T17:06:10.105000+00:00",
          "2024-05-08T17:06:13.090000+00:00",
          "2024-05-08T17:06:16.104000+00:00",
          "2024-05-08T17:06:25.107000+00:00",
          "2024-05-08T17:06:25.108000+00:00",
          "2024-05-08T17:06:28.108000+00:00",
          "2024-05-08T17:06:40.100000+00:00",
          "2024-05-08T17:06:43.094000+00:00",
          "2024-05-08T17:06:46.138000+00:00",
          "2024-05-08T17:06:49.092000+00:00",
          "2024-05-08T17:06:52.129000+00:00",
          "2024-05-08T17:06:55.158000+00:00",
          "2024-05-08T17:06:55.159000+00:00",
          "2024-05-08T17:06:55.160000+00:00",
          "2024-05-08T17:06:58.124000+00:00",
          "2024-05-08T17:06:58.125000+00:00",
          "2024-05-08T17:07:01.141000+00:00",
          "2024-05-08T17:07:01.142000+00:00",
          "2024-05-08T17:07:04.145000+00:00",
          "2024-05-08T17:07:04.147000+00:00",
          "2024-05-08T17:07:04.149000+00:00",
          "2024-05-08T17:07:07.136000+00:00",
          "2024-05-08T17:07:13.114000+00:00",
          "2024-05-08T17:07:13.115000+00:00",
          "2024-05-08T17:07:13.116000+00:00",
          "2024-05-08T17:07:16.118000+00:00",
          "2024-05-08T17:07:16.119000+00:00",
          "2024-05-08T17:07:19.120000+00:00",
          "2024-05-08T17:07:19.121000+00:00",
          "2024-05-08T17:07:19.123000+00:00",
          "2024-05-08T17:07:22.128000+00:00",
          "2024-05-08T17:07:22.129000+00:00",
          "2024-05-08T17:07:22.131000+00:00",
          "2024-05-08T17:07:25.152000+00:00",
          "2024-05-08T17:07:25.153000+00:00",
          "2024-05-08T17:07:28.168000+00:00",
          "2024-05-08T17:07:28.173000+00:00",
          "2024-05-08T17:07:28.176000+00:00",
          "2024-05-08T17:07:31.140000+00:00",
          "2024-05-08T17:07:34.181000+00:00",
          "2024-05-08T17:07:34.183000+00:00",
          "2024-05-08T17:07:37.189000+00:00",
          "2024-05-08T17:07:37.191000+00:00",
          "2024-05-08T17:07:40.123000+00:00",
          "2024-05-08T17:07:43.188000+00:00",
          "2024-05-08T17:07:43.190000+00:00",
          "2024-05-08T17:07:46.152000+00:00",
          "2024-05-08T17:07:46.153000+00:00",
          "2024-05-08T17:07:49.149000+00:00",
          "2024-05-08T17:07:49.155000+00:00",
          "2024-05-08T17:07:49.158000+00:00",
          "2024-05-08T17:07:52.155000+00:00",
          "2024-05-08T17:07:52.157000+00:00",
          "2024-05-08T17:07:55.139000+00:00",
          "2024-05-08T17:07:58.164000+00:00",
          "2024-05-08T17:07:58.168000+00:00",
          "2024-05-08T17:07:58.170000+00:00",
          "2024-05-08T17:08:01.143000+00:00",
          "2024-05-08T17:08:01.144000+00:00",
          "2024-05-08T17:08:04.147000+00:00",
          "2024-05-08T17:08:07.164000+00:00",
          "2024-05-08T17:08:07.167000+00:00",
          "2024-05-08T17:08:07.170000+00:00",
          "2024-05-08T17:08:10.156000+00:00",
          "2024-05-08T17:08:10.158000+00:00",
          "2024-05-08T17:08:10.159000+00:00",
          "2024-05-08T17:08:13.165000+00:00",
          "2024-05-08T17:08:13.170000+00:00",
          "2024-05-08T17:08:13.173000+00:00",
          "2024-05-08T17:08:16.158000+00:00",
          "2024-05-08T17:08:16.159000+00:00",
          "2024-05-08T17:08:19.158000+00:00",
          "2024-05-08T17:08:22.171000+00:00",
          "2024-05-08T17:08:22.173000+00:00",
          "2024-05-08T17:08:22.177000+00:00",
          "2024-05-08T17:08:25.149000+00:00",
          "2024-05-08T17:08:25.151000+00:00",
          "2024-05-08T17:08:25.154000+00:00",
          "2024-05-08T17:08:28.162000+00:00",
          "2024-05-08T17:08:28.165000+00:00",
          "2024-05-08T17:08:28.172000+00:00",
          "2024-05-08T17:08:31.145000+00:00",
          "2024-05-08T17:08:34.149000+00:00",
          "2024-05-08T17:08:37.156000+00:00",
          "2024-05-08T17:08:37.159000+00:00",
          "2024-05-08T17:08:40.157000+00:00",
          "2024-05-08T17:08:40.159000+00:00",
          "2024-05-08T17:08:43.167000+00:00",
          "2024-05-08T17:08:46.162000+00:00",
          "2024-05-08T17:08:46.170000+00:00",
          "2024-05-08T17:08:46.173000+00:00",
          "2024-05-08T17:08:49.152000+00:00",
          "2024-05-08T17:08:49.153000+00:00",
          "2024-05-08T17:08:52.174000+00:00",
          "2024-05-08T17:08:52.179000+00:00",
          "2024-05-08T17:08:52.183000+00:00",
          "2024-05-08T17:08:52.189000+00:00",
          "2024-05-08T17:08:55.161000+00:00",
          "2024-05-08T17:08:55.163000+00:00",
          "2024-05-08T17:08:55.173000+00:00",
          "2024-05-08T17:08:55.174000+00:00",
          "2024-05-08T17:08:58.205000+00:00",
          "2024-05-08T17:08:58.206000+00:00",
          "2024-05-08T17:09:01.154000+00:00",
          "2024-05-08T17:09:04.145000+00:00",
          "2024-05-08T17:09:07.174000+00:00",
          "2024-05-08T17:09:07.175000+00:00",
          "2024-05-08T17:09:10.177000+00:00",
          "2024-05-08T17:09:10.179000+00:00",
          "2024-05-08T17:09:16.165000+00:00",
          "2024-05-08T17:09:19.175000+00:00",
          "2024-05-08T17:09:22.169000+00:00",
          "2024-05-08T17:09:25.183000+00:00",
          "2024-05-08T17:09:25.186000+00:00",
          "2024-05-08T17:09:25.187000+00:00",
          "2024-05-08T17:09:28.183000+00:00",
          "2024-05-08T17:09:28.185000+00:00",
          "2024-05-08T17:09:28.186000+00:00",
          "2024-05-08T17:09:31.182000+00:00",
          "2024-05-08T17:09:31.183000+00:00",
          "2024-05-08T17:09:31.184000+00:00",
          "2024-05-08T17:09:37.176000+00:00",
          "2024-05-08T17:09:37.177000+00:00",
          "2024-05-08T17:09:40.188000+00:00",
          "2024-05-08T17:09:43.192000+00:00",
          "2024-05-08T17:09:46.189000+00:00",
          "2024-05-08T17:09:49.197000+00:00",
          "2024-05-08T17:09:49.198000+00:00",
          "2024-05-08T17:09:49.200000+00:00",
          "2024-05-08T17:09:52.180000+00:00",
          "2024-05-08T17:09:58.189000+00:00",
          "2024-05-08T17:10:01.215000+00:00",
          "2024-05-08T17:10:07.192000+00:00",
          "2024-05-08T17:10:10.190000+00:00",
          "2024-05-08T17:10:10.193000+00:00",
          "2024-05-08T17:10:13.205000+00:00",
          "2024-05-08T17:10:13.206000+00:00",
          "2024-05-08T17:10:19.191000+00:00",
          "2024-05-08T17:10:25.199000+00:00",
          "2024-05-08T17:10:28.192000+00:00",
          "2024-05-08T17:10:31.191000+00:00",
          "2024-05-08T17:10:31.193000+00:00",
          "2024-05-08T17:10:31.195000+00:00",
          "2024-05-08T17:10:34.219000+00:00",
          "2024-05-08T17:10:34.222000+00:00",
          "2024-05-08T17:10:37.201000+00:00",
          "2024-05-08T17:10:40.205000+00:00",
          "2024-05-08T17:10:40.213000+00:00",
          "2024-05-08T17:10:40.214000+00:00",
          "2024-05-08T17:10:43.211000+00:00",
          "2024-05-08T17:10:43.214000+00:00",
          "2024-05-08T17:10:49.213000+00:00",
          "2024-05-08T17:10:52.212000+00:00",
          "2024-05-08T17:10:52.214000+00:00",
          "2024-05-08T17:10:55.217000+00:00",
          "2024-05-08T17:10:58.226000+00:00",
          "2024-05-08T17:10:58.228000+00:00",
          "2024-05-08T17:11:01.207000+00:00",
          "2024-05-08T17:11:07.224000+00:00",
          "2024-05-08T17:11:16.234000+00:00",
          "2024-05-08T17:11:16.238000+00:00",
          "2024-05-08T17:11:19.232000+00:00",
          "2024-05-08T17:11:19.237000+00:00",
          "2024-05-08T17:11:22.206000+00:00",
          "2024-05-08T17:11:34.230000+00:00",
          "2024-05-08T17:11:40.249000+00:00",
          "2024-05-08T17:11:43.245000+00:00",
          "2024-05-08T17:11:43.246000+00:00",
          "2024-05-08T17:11:43.248000+00:00",
          "2024-05-08T17:11:46.256000+00:00",
          "2024-05-08T17:11:46.258000+00:00",
          "2024-05-08T17:11:52.231000+00:00",
          "2024-05-08T17:11:55.240000+00:00",
          "2024-05-08T17:11:58.255000+00:00",
          "2024-05-08T17:11:58.256000+00:00",
          "2024-05-08T17:12:01.256000+00:00",
          "2024-05-08T17:12:01.257000+00:00",
          "2024-05-08T17:12:01.258000+00:00",
          "2024-05-08T17:12:01.261000+00:00",
          "2024-05-08T17:12:04.269000+00:00",
          "2024-05-08T17:12:04.270000+00:00",
          "2024-05-08T17:12:04.271000+00:00",
          "2024-05-08T17:12:10.252000+00:00",
          "2024-05-08T17:12:13.252000+00:00",
          "2024-05-08T17:12:13.255000+00:00",
          "2024-05-08T17:12:16.252000+00:00",
          "2024-05-08T17:12:16.253000+00:00",
          "2024-05-08T17:12:19.264000+00:00",
          "2024-05-08T17:12:19.266000+00:00",
          "2024-05-08T17:12:19.270000+00:00",
          "2024-05-08T17:12:22.268000+00:00",
          "2024-05-08T17:12:22.270000+00:00",
          "2024-05-08T17:12:25.247000+00:00",
          "2024-05-08T17:12:28.266000+00:00",
          "2024-05-08T17:12:28.269000+00:00",
          "2024-05-08T17:12:31.258000+00:00",
          "2024-05-08T17:12:31.260000+00:00",
          "2024-05-08T17:12:37.257000+00:00",
          "2024-05-08T17:12:37.259000+00:00",
          "2024-05-08T17:12:40.261000+00:00",
          "2024-05-08T17:12:40.263000+00:00",
          "2024-05-08T17:12:43.254000+00:00",
          "2024-05-08T17:12:46.248000+00:00",
          "2024-05-08T17:12:49.265000+00:00",
          "2024-05-08T17:12:49.267000+00:00",
          "2024-05-08T17:12:52.298000+00:00",
          "2024-05-08T17:12:52.301000+00:00",
          "2024-05-08T17:12:55.261000+00:00",
          "2024-05-08T17:12:58.274000+00:00",
          "2024-05-08T17:13:04.276000+00:00",
          "2024-05-08T17:13:04.279000+00:00",
          "2024-05-08T17:13:07.273000+00:00",
          "2024-05-08T17:13:07.275000+00:00",
          "2024-05-08T17:13:07.276000+00:00",
          "2024-05-08T17:13:10.287000+00:00",
          "2024-05-08T17:13:10.289000+00:00",
          "2024-05-08T17:13:13.383000+00:00",
          "2024-05-08T17:13:16.271000+00:00",
          "2024-05-08T17:13:19.277000+00:00",
          "2024-05-08T17:13:19.278000+00:00",
          "2024-05-08T17:13:22.290000+00:00",
          "2024-05-08T17:13:22.291000+00:00",
          "2024-05-08T17:13:25.284000+00:00",
          "2024-05-08T17:13:25.286000+00:00",
          "2024-05-08T17:13:28.284000+00:00",
          "2024-05-08T17:13:28.284000+00:00",
          "2024-05-08T17:13:28.286000+00:00",
          "2024-05-08T17:13:28.288000+00:00",
          "2024-05-08T17:13:31.273000+00:00",
          "2024-05-08T17:13:49.279000+00:00",
          "2024-05-08T17:13:52.276000+00:00",
          "2024-05-08T17:13:52.277000+00:00",
          "2024-05-08T17:13:55.264000+00:00",
          "2024-05-08T17:13:58.287000+00:00",
          "2024-05-08T17:14:04.285000+00:00",
          "2024-05-08T17:14:07.299000+00:00",
          "2024-05-08T17:14:10.277000+00:00",
          "2024-05-08T17:14:13.285000+00:00",
          "2024-05-08T17:14:13.286000+00:00",
          "2024-05-08T17:14:16.307000+00:00",
          "2024-05-08T17:14:16.308000+00:00",
          "2024-05-08T17:14:16.313000+00:00",
          "2024-05-08T17:14:19.283000+00:00",
          "2024-05-08T17:14:19.285000+00:00",
          "2024-05-08T17:14:22.289000+00:00",
          "2024-05-08T17:14:28.291000+00:00",
          "2024-05-08T17:14:28.293000+00:00",
          "2024-05-08T17:14:31.308000+00:00",
          "2024-05-08T17:14:34.297000+00:00",
          "2024-05-08T17:14:37.301000+00:00",
          "2024-05-08T17:14:40.301000+00:00",
          "2024-05-08T17:14:43.321000+00:00",
          "2024-05-08T17:14:46.313000+00:00",
          "2024-05-08T17:14:46.316000+00:00",
          "2024-05-08T17:14:46.318000+00:00",
          "2024-05-08T17:14:49.302000+00:00",
          "2024-05-08T17:14:49.304000+00:00",
          "2024-05-08T17:14:55.304000+00:00",
          "2024-05-08T17:14:55.305000+00:00",
          "2024-05-08T17:14:58.336000+00:00",
          "2024-05-08T17:14:58.337000+00:00",
          "2024-05-08T17:14:58.337000+00:00",
          "2024-05-08T17:14:58.339000+00:00",
          "2024-05-08T17:15:01.324000+00:00",
          "2024-05-08T17:15:01.327000+00:00",
          "2024-05-08T17:15:04.315000+00:00",
          "2024-05-08T17:15:07.351000+00:00",
          "2024-05-08T17:15:07.352000+00:00",
          "2024-05-08T17:15:10.314000+00:00",
          "2024-05-08T17:15:13.330000+00:00",
          "2024-05-08T17:15:13.331000+00:00",
          "2024-05-08T17:15:13.337000+00:00",
          "2024-05-08T17:15:16.324000+00:00",
          "2024-05-08T17:15:16.325000+00:00",
          "2024-05-08T17:15:16.328000+00:00",
          "2024-05-08T17:15:19.324000+00:00",
          "2024-05-08T17:15:22.337000+00:00",
          "2024-05-08T17:15:22.340000+00:00",
          "2024-05-08T17:15:25.334000+00:00",
          "2024-05-08T17:15:25.336000+00:00",
          "2024-05-08T17:15:28.338000+00:00",
          "2024-05-08T17:15:28.340000+00:00",
          "2024-05-08T17:15:31.326000+00:00",
          "2024-05-08T17:15:31.327000+00:00",
          "2024-05-08T17:15:37.328000+00:00",
          "2024-05-08T17:15:37.330000+00:00",
          "2024-05-08T17:15:37.331000+00:00",
          "2024-05-08T17:15:40.334000+00:00",
          "2024-05-08T17:15:43.393000+00:00",
          "2024-05-08T17:15:46.339000+00:00",
          "2024-05-08T17:15:49.333000+00:00",
          "2024-05-08T17:15:49.334000+00:00",
          "2024-05-08T17:15:52.347000+00:00",
          "2024-05-08T17:15:55.342000+00:00",
          "2024-05-08T17:15:55.345000+00:00",
          "2024-05-08T17:16:10.340000+00:00",
          "2024-05-08T17:16:10.342000+00:00",
          "2024-05-08T17:16:13.324000+00:00",
          "2024-05-08T17:16:16.374000+00:00",
          "2024-05-08T17:16:19.372000+00:00",
          "2024-05-08T17:16:19.374000+00:00",
          "2024-05-08T17:16:22.380000+00:00",
          "2024-05-08T17:16:22.381000+00:00",
          "2024-05-08T17:16:25.347000+00:00",
          "2024-05-08T17:16:28.345000+00:00",
          "2024-05-08T17:16:34.386000+00:00",
          "2024-05-08T17:16:37.357000+00:00",
          "2024-05-08T17:16:37.358000+00:00",
          "2024-05-08T17:16:40.356000+00:00",
          "2024-05-08T17:16:40.359000+00:00",
          "2024-05-08T17:16:40.362000+00:00",
          "2024-05-08T17:16:43.362000+00:00",
          "2024-05-08T17:16:43.365000+00:00",
          "2024-05-08T17:16:46.361000+00:00",
          "2024-05-08T17:16:49.367000+00:00",
          "2024-05-08T17:16:49.368000+00:00",
          "2024-05-08T17:16:55.374000+00:00",
          "2024-05-08T17:16:55.376000+00:00",
          "2024-05-08T17:16:55.388000+00:00",
          "2024-05-08T17:16:58.369000+00:00",
          "2024-05-08T17:16:58.372000+00:00",
          "2024-05-08T17:17:01.377000+00:00",
          "2024-05-08T17:17:01.382000+00:00",
          "2024-05-08T17:17:04.400000+00:00",
          "2024-05-08T17:17:07.373000+00:00",
          "2024-05-08T17:17:07.374000+00:00",
          "2024-05-08T17:17:07.378000+00:00",
          "2024-05-08T17:17:10.386000+00:00",
          "2024-05-08T17:17:10.392000+00:00",
          "2024-05-08T17:17:13.354000+00:00",
          "2024-05-08T17:17:13.355000+00:00",
          "2024-05-08T17:17:16.367000+00:00",
          "2024-05-08T17:17:16.369000+00:00",
          "2024-05-08T17:17:16.371000+00:00",
          "2024-05-08T17:17:22.378000+00:00",
          "2024-05-08T17:17:22.380000+00:00",
          "2024-05-08T17:17:25.367000+00:00",
          "2024-05-08T17:17:25.376000+00:00",
          "2024-05-08T17:17:25.379000+00:00",
          "2024-05-08T17:17:28.377000+00:00",
          "2024-05-08T17:17:28.378000+00:00",
          "2024-05-08T17:17:31.391000+00:00",
          "2024-05-08T17:17:34.366000+00:00",
          "2024-05-08T17:17:34.368000+00:00",
          "2024-05-08T17:17:37.353000+00:00",
          "2024-05-08T17:17:40.375000+00:00",
          "2024-05-08T17:17:43.386000+00:00",
          "2024-05-08T17:17:46.375000+00:00",
          "2024-05-08T17:17:46.377000+00:00",
          "2024-05-08T17:17:49.426000+00:00",
          "2024-05-08T17:17:49.430000+00:00",
          "2024-05-08T17:17:49.433000+00:00",
          "2024-05-08T17:17:52.388000+00:00",
          "2024-05-08T17:17:55.368000+00:00",
          "2024-05-08T17:17:58.393000+00:00",
          "2024-05-08T17:17:58.394000+00:00",
          "2024-05-08T17:18:01.391000+00:00",
          "2024-05-08T17:18:01.395000+00:00",
          "2024-05-08T17:18:04.407000+00:00",
          "2024-05-08T17:18:07.413000+00:00",
          "2024-05-08T17:18:10.398000+00:00",
          "2024-05-08T17:18:10.399000+00:00",
          "2024-05-08T17:18:13.396000+00:00",
          "2024-05-08T17:18:22.403000+00:00",
          "2024-05-08T17:18:25.428000+00:00",
          "2024-05-08T17:18:34.394000+00:00",
          "2024-05-08T17:18:34.395000+00:00",
          "2024-05-08T17:18:37.411000+00:00",
          "2024-05-08T17:18:40.482000+00:00",
          "2024-05-08T17:18:43.435000+00:00",
          "2024-05-08T17:18:43.438000+00:00",
          "2024-05-08T17:18:46.404000+00:00",
          "2024-05-08T17:18:46.405000+00:00",
          "2024-05-08T17:18:49.423000+00:00",
          "2024-05-08T17:18:49.424000+00:00",
          "2024-05-08T17:18:49.431000+00:00",
          "2024-05-08T17:18:52.432000+00:00",
          "2024-05-08T17:18:52.435000+00:00",
          "2024-05-08T17:19:01.415000+00:00",
          "2024-05-08T17:19:01.418000+00:00",
          "2024-05-08T17:19:01.420000+00:00",
          "2024-05-08T17:19:04.410000+00:00",
          "2024-05-08T17:19:04.411000+00:00",
          "2024-05-08T17:19:07.432000+00:00",
          "2024-05-08T17:19:10.418000+00:00",
          "2024-05-08T17:19:13.426000+00:00",
          "2024-05-08T17:19:19.440000+00:00",
          "2024-05-08T17:19:22.439000+00:00",
          "2024-05-08T17:19:22.440000+00:00",
          "2024-05-08T17:19:22.443000+00:00",
          "2024-05-08T17:19:25.448000+00:00",
          "2024-05-08T17:19:25.450000+00:00",
          "2024-05-08T17:19:25.453000+00:00",
          "2024-05-08T17:19:28.447000+00:00",
          "2024-05-08T17:19:31.438000+00:00",
          "2024-05-08T17:19:34.425000+00:00",
          "2024-05-08T17:19:34.426000+00:00",
          "2024-05-08T17:19:37.422000+00:00",
          "2024-05-08T17:19:40.427000+00:00",
          "2024-05-08T17:19:43.430000+00:00",
          "2024-05-08T17:19:46.455000+00:00",
          "2024-05-08T17:19:55.466000+00:00",
          "2024-05-08T17:19:58.440000+00:00",
          "2024-05-08T17:19:58.441000+00:00",
          "2024-05-08T17:20:01.432000+00:00",
          "2024-05-08T17:20:04.440000+00:00",
          "2024-05-08T17:20:04.441000+00:00",
          "2024-05-08T17:20:07.462000+00:00",
          "2024-05-08T17:20:07.463000+00:00",
          "2024-05-08T17:20:10.438000+00:00",
          "2024-05-08T17:20:13.499000+00:00",
          "2024-05-08T17:20:13.506000+00:00",
          "2024-05-08T17:20:13.509000+00:00",
          "2024-05-08T17:20:16.443000+00:00",
          "2024-05-08T17:20:16.445000+00:00",
          "2024-05-08T17:20:19.444000+00:00",
          "2024-05-08T17:20:22.432000+00:00",
          "2024-05-08T17:20:25.438000+00:00",
          "2024-05-08T17:20:28.467000+00:00",
          "2024-05-08T17:20:28.471000+00:00",
          "2024-05-08T17:20:28.472000+00:00",
          "2024-05-08T17:20:31.455000+00:00",
          "2024-05-08T17:20:31.457000+00:00",
          "2024-05-08T17:20:31.462000+00:00",
          "2024-05-08T17:20:34.451000+00:00",
          "2024-05-08T17:20:34.453000+00:00",
          "2024-05-08T17:20:37.454000+00:00",
          "2024-05-08T17:20:37.455000+00:00",
          "2024-05-08T17:20:40.462000+00:00",
          "2024-05-08T17:20:43.473000+00:00",
          "2024-05-08T17:20:43.476000+00:00",
          "2024-05-08T17:20:46.460000+00:00",
          "2024-05-08T17:20:46.461000+00:00",
          "2024-05-08T17:20:46.463000+00:00",
          "2024-05-08T17:20:49.461000+00:00",
          "2024-05-08T17:20:49.463000+00:00",
          "2024-05-08T17:20:52.485000+00:00",
          "2024-05-08T17:20:52.487000+00:00",
          "2024-05-08T17:20:55.466000+00:00",
          "2024-05-08T17:20:58.491000+00:00",
          "2024-05-08T17:20:58.493000+00:00",
          "2024-05-08T17:21:01.460000+00:00",
          "2024-05-08T17:21:01.461000+00:00",
          "2024-05-08T17:21:04.473000+00:00",
          "2024-05-08T17:21:07.480000+00:00",
          "2024-05-08T17:21:07.482000+00:00",
          "2024-05-08T17:21:10.505000+00:00",
          "2024-05-08T17:21:13.464000+00:00",
          "2024-05-08T17:21:19.467000+00:00",
          "2024-05-08T17:21:19.469000+00:00",
          "2024-05-08T17:21:19.470000+00:00",
          "2024-05-08T17:21:22.465000+00:00",
          "2024-05-08T17:21:25.475000+00:00",
          "2024-05-08T17:21:28.489000+00:00",
          "2024-05-08T17:21:28.490000+00:00",
          "2024-05-08T17:21:31.472000+00:00",
          "2024-05-08T17:21:31.474000+00:00",
          "2024-05-08T17:21:34.459000+00:00",
          "2024-05-08T17:21:37.518000+00:00",
          "2024-05-08T17:21:37.520000+00:00"
         ],
         "xaxis": "x",
         "y": [
          79,
          78,
          78,
          76,
          77,
          77,
          76,
          76,
          79,
          77,
          74,
          75,
          75,
          74,
          72,
          73,
          76,
          74,
          71,
          71,
          72,
          70,
          74,
          69,
          69,
          72,
          71,
          68,
          68,
          69,
          67,
          66,
          68,
          65,
          65,
          64,
          62,
          68,
          61,
          60,
          67,
          63,
          66,
          66,
          65,
          62,
          63,
          58,
          60,
          61,
          59,
          60,
          56,
          55,
          53,
          51,
          58,
          59,
          50,
          47,
          57,
          58,
          65,
          57,
          64,
          62,
          43,
          56,
          61,
          56,
          42,
          55,
          59,
          57,
          41,
          53,
          56,
          51,
          50,
          54,
          55,
          48,
          53,
          54,
          39,
          52,
          38,
          36,
          50,
          34,
          52,
          33,
          48,
          45,
          51,
          47,
          42,
          32,
          50,
          31,
          45,
          49,
          29,
          30,
          40,
          31,
          34,
          43,
          44,
          42,
          43,
          41,
          41,
          33,
          29,
          31,
          38,
          30,
          31,
          32,
          37,
          40,
          30,
          35,
          38,
          33,
          30,
          31,
          33,
          30,
          35,
          33,
          33,
          30,
          34,
          31,
          30,
          29,
          32,
          32,
          31,
          31,
          30,
          31,
          32,
          32,
          30,
          32,
          29,
          31,
          29,
          29,
          31,
          31,
          30,
          29,
          33,
          31,
          31,
          30,
          31,
          31,
          28,
          29,
          29,
          30,
          32,
          28,
          31,
          33,
          31,
          29,
          30,
          31,
          31,
          32,
          28,
          29,
          29,
          30,
          32,
          30,
          32,
          31,
          30,
          32,
          29,
          32,
          29,
          30,
          31,
          31,
          31,
          29,
          32,
          29,
          30,
          29,
          30,
          32,
          31,
          33,
          30,
          33,
          32,
          28,
          30,
          33,
          31,
          28,
          31,
          32,
          29,
          30,
          31,
          30,
          29,
          31,
          30,
          30,
          33,
          31,
          29,
          32,
          31,
          33,
          29,
          29,
          32,
          31,
          30,
          31,
          30,
          28,
          30,
          31,
          30,
          30,
          32,
          33,
          31,
          29,
          32,
          30,
          28,
          31,
          30,
          30,
          30,
          31,
          33,
          32,
          31,
          30,
          30,
          33,
          28,
          29,
          31,
          30,
          31,
          32,
          30,
          31,
          28,
          28,
          29,
          29,
          30,
          30,
          32,
          30,
          31,
          32,
          31,
          33,
          31,
          29,
          31,
          29,
          28,
          31,
          30,
          28,
          30,
          31,
          29,
          31,
          31,
          29,
          28,
          31,
          30,
          29,
          31,
          31,
          30,
          28,
          31,
          29,
          28,
          31,
          30,
          30,
          33,
          31,
          30,
          30,
          32,
          33,
          30,
          29,
          32,
          30,
          31,
          31,
          29,
          30,
          30,
          33,
          31,
          31,
          31,
          30,
          32,
          31,
          28,
          29,
          31,
          30,
          30,
          32,
          31,
          30,
          32,
          29,
          30,
          31,
          33,
          28,
          31,
          30,
          28,
          30,
          31,
          31,
          31,
          31,
          28,
          29,
          29,
          30,
          31,
          32,
          30,
          29,
          29,
          31,
          31,
          32,
          30,
          31,
          33,
          30,
          28,
          31,
          30,
          30,
          31,
          29,
          30,
          32,
          33,
          30,
          29,
          30,
          32,
          32,
          31,
          30,
          32,
          30,
          31,
          31,
          32,
          30,
          31,
          30,
          28,
          30,
          32,
          29,
          33,
          31,
          30,
          29,
          31,
          30,
          31,
          29,
          30,
          28,
          30,
          30,
          32,
          33,
          31,
          30,
          31,
          28,
          29,
          33,
          31,
          31,
          29,
          31,
          29,
          29,
          31,
          32,
          30,
          31,
          28,
          29,
          30,
          32,
          28,
          32,
          33,
          30,
          32,
          31,
          30,
          30,
          32,
          32,
          29,
          31,
          28,
          31,
          31,
          29,
          30,
          30,
          31,
          32,
          31,
          30,
          29,
          31,
          32,
          29,
          30,
          32,
          31,
          29,
          31,
          30,
          33,
          30,
          28,
          32,
          31,
          33,
          30,
          29,
          30,
          29,
          31,
          31,
          31,
          31,
          30,
          33,
          28,
          28,
          29,
          29,
          31,
          30,
          28,
          29,
          32,
          30,
          32,
          31,
          30,
          29,
          31,
          31,
          31,
          29,
          29,
          32,
          30,
          28,
          31,
          31,
          29,
          32,
          29,
          28,
          30,
          31,
          30,
          29,
          31,
          32,
          30,
          31,
          30,
          29,
          33,
          30,
          28,
          30,
          33,
          33,
          31,
          30,
          32,
          30,
          31,
          33,
          30,
          29,
          31,
          32,
          30,
          29,
          30,
          32,
          32,
          30,
          32,
          31,
          31,
          31,
          29,
          29,
          29,
          32,
          32,
          32,
          31,
          29,
          30,
          30,
          31,
          30,
          29,
          33,
          32,
          32,
          29,
          31,
          30,
          29,
          31,
          31,
          29,
          30,
          33,
          29,
          30,
          30,
          33,
          31,
          32,
          30,
          32,
          31,
          29,
          30,
          31,
          32,
          29,
          30,
          29,
          30,
          31,
          30,
          32,
          31,
          29,
          30,
          31,
          31,
          30,
          30,
          28,
          32,
          29,
          31,
          32,
          30,
          30,
          32,
          30,
          30,
          32,
          31,
          32,
          29,
          28,
          30,
          30,
          33,
          31,
          29,
          30,
          32,
          30,
          32,
          32,
          29,
          31,
          29,
          32,
          30,
          31,
          32,
          28,
          31,
          29,
          30,
          33,
          29,
          30,
          30,
          31,
          31,
          30,
          31,
          29,
          31,
          30,
          30,
          31,
          33,
          30,
          30,
          33,
          32,
          32,
          30,
          31,
          30,
          30,
          31,
          28,
          33,
          29,
          28,
          29,
          31,
          30,
          30,
          32,
          31,
          30,
          28,
          31,
          31,
          31,
          29,
          29,
          31,
          30,
          29,
          32,
          31,
          31,
          29,
          29,
          30,
          30,
          32,
          31,
          32,
          28,
          31,
          30,
          30,
          33,
          31,
          29,
          32,
          30,
          32,
          29,
          31,
          31,
          30,
          33,
          32,
          32,
          30,
          28,
          31,
          28,
          31,
          30,
          29,
          32,
          31,
          31,
          29,
          29,
          30,
          30,
          33,
          32,
          32,
          30,
          30,
          30,
          31,
          32,
          31,
          29,
          30,
          30,
          32,
          32,
          30,
          31,
          31,
          28,
          30,
          29,
          31,
          30,
          31,
          31,
          28,
          29,
          29,
          31,
          30,
          31,
          31,
          28,
          30,
          29,
          30,
          28,
          31,
          28,
          33,
          29,
          30,
          30,
          33,
          32,
          30,
          31,
          30,
          32,
          32,
          31,
          29,
          31,
          29,
          29,
          32,
          31,
          31,
          29,
          28,
          32,
          31,
          31,
          30,
          29,
          30,
          33,
          32,
          31,
          31,
          28,
          30,
          30,
          31,
          30,
          32,
          33
         ],
         "yaxis": "y"
        }
       ],
       "layout": {
        "legend": {
         "tracegroupgap": 0
        },
        "margin": {
         "t": 60
        },
        "template": {
         "data": {
          "bar": [
           {
            "error_x": {
             "color": "#2a3f5f"
            },
            "error_y": {
             "color": "#2a3f5f"
            },
            "marker": {
             "line": {
              "color": "#E5ECF6",
              "width": 0.5
             },
             "pattern": {
              "fillmode": "overlay",
              "size": 10,
              "solidity": 0.2
             }
            },
            "type": "bar"
           }
          ],
          "barpolar": [
           {
            "marker": {
             "line": {
              "color": "#E5ECF6",
              "width": 0.5
             },
             "pattern": {
              "fillmode": "overlay",
              "size": 10,
              "solidity": 0.2
             }
            },
            "type": "barpolar"
           }
          ],
          "carpet": [
           {
            "aaxis": {
             "endlinecolor": "#2a3f5f",
             "gridcolor": "white",
             "linecolor": "white",
             "minorgridcolor": "white",
             "startlinecolor": "#2a3f5f"
            },
            "baxis": {
             "endlinecolor": "#2a3f5f",
             "gridcolor": "white",
             "linecolor": "white",
             "minorgridcolor": "white",
             "startlinecolor": "#2a3f5f"
            },
            "type": "carpet"
           }
          ],
          "choropleth": [
           {
            "colorbar": {
             "outlinewidth": 0,
             "ticks": ""
            },
            "type": "choropleth"
           }
          ],
          "contour": [
           {
            "colorbar": {
             "outlinewidth": 0,
             "ticks": ""
            },
            "colorscale": [
             [
              0,
              "#0d0887"
             ],
             [
              0.1111111111111111,
              "#46039f"
             ],
             [
              0.2222222222222222,
              "#7201a8"
             ],
             [
              0.3333333333333333,
              "#9c179e"
             ],
             [
              0.4444444444444444,
              "#bd3786"
             ],
             [
              0.5555555555555556,
              "#d8576b"
             ],
             [
              0.6666666666666666,
              "#ed7953"
             ],
             [
              0.7777777777777778,
              "#fb9f3a"
             ],
             [
              0.8888888888888888,
              "#fdca26"
             ],
             [
              1,
              "#f0f921"
             ]
            ],
            "type": "contour"
           }
          ],
          "contourcarpet": [
           {
            "colorbar": {
             "outlinewidth": 0,
             "ticks": ""
            },
            "type": "contourcarpet"
           }
          ],
          "heatmap": [
           {
            "colorbar": {
             "outlinewidth": 0,
             "ticks": ""
            },
            "colorscale": [
             [
              0,
              "#0d0887"
             ],
             [
              0.1111111111111111,
              "#46039f"
             ],
             [
              0.2222222222222222,
              "#7201a8"
             ],
             [
              0.3333333333333333,
              "#9c179e"
             ],
             [
              0.4444444444444444,
              "#bd3786"
             ],
             [
              0.5555555555555556,
              "#d8576b"
             ],
             [
              0.6666666666666666,
              "#ed7953"
             ],
             [
              0.7777777777777778,
              "#fb9f3a"
             ],
             [
              0.8888888888888888,
              "#fdca26"
             ],
             [
              1,
              "#f0f921"
             ]
            ],
            "type": "heatmap"
           }
          ],
          "heatmapgl": [
           {
            "colorbar": {
             "outlinewidth": 0,
             "ticks": ""
            },
            "colorscale": [
             [
              0,
              "#0d0887"
             ],
             [
              0.1111111111111111,
              "#46039f"
             ],
             [
              0.2222222222222222,
              "#7201a8"
             ],
             [
              0.3333333333333333,
              "#9c179e"
             ],
             [
              0.4444444444444444,
              "#bd3786"
             ],
             [
              0.5555555555555556,
              "#d8576b"
             ],
             [
              0.6666666666666666,
              "#ed7953"
             ],
             [
              0.7777777777777778,
              "#fb9f3a"
             ],
             [
              0.8888888888888888,
              "#fdca26"
             ],
             [
              1,
              "#f0f921"
             ]
            ],
            "type": "heatmapgl"
           }
          ],
          "histogram": [
           {
            "marker": {
             "pattern": {
              "fillmode": "overlay",
              "size": 10,
              "solidity": 0.2
             }
            },
            "type": "histogram"
           }
          ],
          "histogram2d": [
           {
            "colorbar": {
             "outlinewidth": 0,
             "ticks": ""
            },
            "colorscale": [
             [
              0,
              "#0d0887"
             ],
             [
              0.1111111111111111,
              "#46039f"
             ],
             [
              0.2222222222222222,
              "#7201a8"
             ],
             [
              0.3333333333333333,
              "#9c179e"
             ],
             [
              0.4444444444444444,
              "#bd3786"
             ],
             [
              0.5555555555555556,
              "#d8576b"
             ],
             [
              0.6666666666666666,
              "#ed7953"
             ],
             [
              0.7777777777777778,
              "#fb9f3a"
             ],
             [
              0.8888888888888888,
              "#fdca26"
             ],
             [
              1,
              "#f0f921"
             ]
            ],
            "type": "histogram2d"
           }
          ],
          "histogram2dcontour": [
           {
            "colorbar": {
             "outlinewidth": 0,
             "ticks": ""
            },
            "colorscale": [
             [
              0,
              "#0d0887"
             ],
             [
              0.1111111111111111,
              "#46039f"
             ],
             [
              0.2222222222222222,
              "#7201a8"
             ],
             [
              0.3333333333333333,
              "#9c179e"
             ],
             [
              0.4444444444444444,
              "#bd3786"
             ],
             [
              0.5555555555555556,
              "#d8576b"
             ],
             [
              0.6666666666666666,
              "#ed7953"
             ],
             [
              0.7777777777777778,
              "#fb9f3a"
             ],
             [
              0.8888888888888888,
              "#fdca26"
             ],
             [
              1,
              "#f0f921"
             ]
            ],
            "type": "histogram2dcontour"
           }
          ],
          "mesh3d": [
           {
            "colorbar": {
             "outlinewidth": 0,
             "ticks": ""
            },
            "type": "mesh3d"
           }
          ],
          "parcoords": [
           {
            "line": {
             "colorbar": {
              "outlinewidth": 0,
              "ticks": ""
             }
            },
            "type": "parcoords"
           }
          ],
          "pie": [
           {
            "automargin": true,
            "type": "pie"
           }
          ],
          "scatter": [
           {
            "fillpattern": {
             "fillmode": "overlay",
             "size": 10,
             "solidity": 0.2
            },
            "type": "scatter"
           }
          ],
          "scatter3d": [
           {
            "line": {
             "colorbar": {
              "outlinewidth": 0,
              "ticks": ""
             }
            },
            "marker": {
             "colorbar": {
              "outlinewidth": 0,
              "ticks": ""
             }
            },
            "type": "scatter3d"
           }
          ],
          "scattercarpet": [
           {
            "marker": {
             "colorbar": {
              "outlinewidth": 0,
              "ticks": ""
             }
            },
            "type": "scattercarpet"
           }
          ],
          "scattergeo": [
           {
            "marker": {
             "colorbar": {
              "outlinewidth": 0,
              "ticks": ""
             }
            },
            "type": "scattergeo"
           }
          ],
          "scattergl": [
           {
            "marker": {
             "colorbar": {
              "outlinewidth": 0,
              "ticks": ""
             }
            },
            "type": "scattergl"
           }
          ],
          "scattermapbox": [
           {
            "marker": {
             "colorbar": {
              "outlinewidth": 0,
              "ticks": ""
             }
            },
            "type": "scattermapbox"
           }
          ],
          "scatterpolar": [
           {
            "marker": {
             "colorbar": {
              "outlinewidth": 0,
              "ticks": ""
             }
            },
            "type": "scatterpolar"
           }
          ],
          "scatterpolargl": [
           {
            "marker": {
             "colorbar": {
              "outlinewidth": 0,
              "ticks": ""
             }
            },
            "type": "scatterpolargl"
           }
          ],
          "scatterternary": [
           {
            "marker": {
             "colorbar": {
              "outlinewidth": 0,
              "ticks": ""
             }
            },
            "type": "scatterternary"
           }
          ],
          "surface": [
           {
            "colorbar": {
             "outlinewidth": 0,
             "ticks": ""
            },
            "colorscale": [
             [
              0,
              "#0d0887"
             ],
             [
              0.1111111111111111,
              "#46039f"
             ],
             [
              0.2222222222222222,
              "#7201a8"
             ],
             [
              0.3333333333333333,
              "#9c179e"
             ],
             [
              0.4444444444444444,
              "#bd3786"
             ],
             [
              0.5555555555555556,
              "#d8576b"
             ],
             [
              0.6666666666666666,
              "#ed7953"
             ],
             [
              0.7777777777777778,
              "#fb9f3a"
             ],
             [
              0.8888888888888888,
              "#fdca26"
             ],
             [
              1,
              "#f0f921"
             ]
            ],
            "type": "surface"
           }
          ],
          "table": [
           {
            "cells": {
             "fill": {
              "color": "#EBF0F8"
             },
             "line": {
              "color": "white"
             }
            },
            "header": {
             "fill": {
              "color": "#C8D4E3"
             },
             "line": {
              "color": "white"
             }
            },
            "type": "table"
           }
          ]
         },
         "layout": {
          "annotationdefaults": {
           "arrowcolor": "#2a3f5f",
           "arrowhead": 0,
           "arrowwidth": 1
          },
          "autotypenumbers": "strict",
          "coloraxis": {
           "colorbar": {
            "outlinewidth": 0,
            "ticks": ""
           }
          },
          "colorscale": {
           "diverging": [
            [
             0,
             "#8e0152"
            ],
            [
             0.1,
             "#c51b7d"
            ],
            [
             0.2,
             "#de77ae"
            ],
            [
             0.3,
             "#f1b6da"
            ],
            [
             0.4,
             "#fde0ef"
            ],
            [
             0.5,
             "#f7f7f7"
            ],
            [
             0.6,
             "#e6f5d0"
            ],
            [
             0.7,
             "#b8e186"
            ],
            [
             0.8,
             "#7fbc41"
            ],
            [
             0.9,
             "#4d9221"
            ],
            [
             1,
             "#276419"
            ]
           ],
           "sequential": [
            [
             0,
             "#0d0887"
            ],
            [
             0.1111111111111111,
             "#46039f"
            ],
            [
             0.2222222222222222,
             "#7201a8"
            ],
            [
             0.3333333333333333,
             "#9c179e"
            ],
            [
             0.4444444444444444,
             "#bd3786"
            ],
            [
             0.5555555555555556,
             "#d8576b"
            ],
            [
             0.6666666666666666,
             "#ed7953"
            ],
            [
             0.7777777777777778,
             "#fb9f3a"
            ],
            [
             0.8888888888888888,
             "#fdca26"
            ],
            [
             1,
             "#f0f921"
            ]
           ],
           "sequentialminus": [
            [
             0,
             "#0d0887"
            ],
            [
             0.1111111111111111,
             "#46039f"
            ],
            [
             0.2222222222222222,
             "#7201a8"
            ],
            [
             0.3333333333333333,
             "#9c179e"
            ],
            [
             0.4444444444444444,
             "#bd3786"
            ],
            [
             0.5555555555555556,
             "#d8576b"
            ],
            [
             0.6666666666666666,
             "#ed7953"
            ],
            [
             0.7777777777777778,
             "#fb9f3a"
            ],
            [
             0.8888888888888888,
             "#fdca26"
            ],
            [
             1,
             "#f0f921"
            ]
           ]
          },
          "colorway": [
           "#636efa",
           "#EF553B",
           "#00cc96",
           "#ab63fa",
           "#FFA15A",
           "#19d3f3",
           "#FF6692",
           "#B6E880",
           "#FF97FF",
           "#FECB52"
          ],
          "font": {
           "color": "#2a3f5f"
          },
          "geo": {
           "bgcolor": "white",
           "lakecolor": "white",
           "landcolor": "#E5ECF6",
           "showlakes": true,
           "showland": true,
           "subunitcolor": "white"
          },
          "hoverlabel": {
           "align": "left"
          },
          "hovermode": "closest",
          "mapbox": {
           "style": "light"
          },
          "paper_bgcolor": "white",
          "plot_bgcolor": "#E5ECF6",
          "polar": {
           "angularaxis": {
            "gridcolor": "white",
            "linecolor": "white",
            "ticks": ""
           },
           "bgcolor": "#E5ECF6",
           "radialaxis": {
            "gridcolor": "white",
            "linecolor": "white",
            "ticks": ""
           }
          },
          "scene": {
           "xaxis": {
            "backgroundcolor": "#E5ECF6",
            "gridcolor": "white",
            "gridwidth": 2,
            "linecolor": "white",
            "showbackground": true,
            "ticks": "",
            "zerolinecolor": "white"
           },
           "yaxis": {
            "backgroundcolor": "#E5ECF6",
            "gridcolor": "white",
            "gridwidth": 2,
            "linecolor": "white",
            "showbackground": true,
            "ticks": "",
            "zerolinecolor": "white"
           },
           "zaxis": {
            "backgroundcolor": "#E5ECF6",
            "gridcolor": "white",
            "gridwidth": 2,
            "linecolor": "white",
            "showbackground": true,
            "ticks": "",
            "zerolinecolor": "white"
           }
          },
          "shapedefaults": {
           "line": {
            "color": "#2a3f5f"
           }
          },
          "ternary": {
           "aaxis": {
            "gridcolor": "white",
            "linecolor": "white",
            "ticks": ""
           },
           "baxis": {
            "gridcolor": "white",
            "linecolor": "white",
            "ticks": ""
           },
           "bgcolor": "#E5ECF6",
           "caxis": {
            "gridcolor": "white",
            "linecolor": "white",
            "ticks": ""
           }
          },
          "title": {
           "x": 0.05
          },
          "xaxis": {
           "automargin": true,
           "gridcolor": "white",
           "linecolor": "white",
           "ticks": "",
           "title": {
            "standoff": 15
           },
           "zerolinecolor": "white",
           "zerolinewidth": 2
          },
          "yaxis": {
           "automargin": true,
           "gridcolor": "white",
           "linecolor": "white",
           "ticks": "",
           "title": {
            "standoff": 15
           },
           "zerolinecolor": "white",
           "zerolinewidth": 2
          }
         }
        },
        "xaxis": {
         "anchor": "y",
         "domain": [
          0,
          1
         ],
         "title": {
          "text": "time_index"
         }
        },
        "yaxis": {
         "anchor": "x",
         "domain": [
          0,
          1
         ],
         "title": {
          "text": "humidity"
         }
        }
       }
      }
     },
     "metadata": {},
     "output_type": "display_data"
    }
   ],
   "source": [
    "fig = px.line(soil, x='time_index', y=\"humidity\")\n",
    "fig.show()"
   ]
  },
  {
   "cell_type": "code",
   "execution_count": null,
   "metadata": {},
   "outputs": [],
   "source": []
  },
  {
   "cell_type": "markdown",
   "metadata": {},
   "source": [
    "Evolución temporal del status de la primera vaca y del primer cerdo"
   ]
  },
  {
   "cell_type": "code",
   "execution_count": 80,
   "metadata": {},
   "outputs": [],
   "source": [
    "primera_vaca = animals[animals['entity_id'] == \"cow001\"]\n",
    "primer_cerdo = animals[animals['entity_id'] == \"pig001\"]"
   ]
  },
  {
   "cell_type": "code",
   "execution_count": 81,
   "metadata": {},
   "outputs": [
    {
     "data": {
      "application/vnd.plotly.v1+json": {
       "config": {
        "plotlyServerURL": "https://plot.ly"
       },
       "data": [
        {
         "hovertemplate": "time_index=%{x}<br>status=%{y}<extra></extra>",
         "legendgroup": "",
         "line": {
          "color": "#636efa",
          "dash": "solid"
         },
         "marker": {
          "symbol": "circle"
         },
         "mode": "lines",
         "name": "",
         "orientation": "v",
         "showlegend": false,
         "type": "scatter",
         "x": [
          "2024-05-08T16:53:56.870000+00:00",
          "2024-05-08T16:54:11.767000+00:00",
          "2024-05-08T16:54:21.794000+00:00",
          "2024-05-08T16:54:26.912000+00:00",
          "2024-05-08T16:54:36.993000+00:00",
          "2024-05-08T16:54:41.879000+00:00",
          "2024-05-08T16:54:51.796000+00:00",
          "2024-05-08T16:55:01.829000+00:00",
          "2024-05-08T16:55:06.907000+00:00",
          "2024-05-08T16:55:11.783000+00:00",
          "2024-05-08T16:55:16.784000+00:00",
          "2024-05-08T16:55:21.906000+00:00",
          "2024-05-08T16:55:26.827000+00:00",
          "2024-05-08T16:55:41.964000+00:00",
          "2024-05-08T16:55:46.796000+00:00",
          "2024-05-08T16:55:51.804000+00:00",
          "2024-05-08T16:55:56.822000+00:00",
          "2024-05-08T16:56:06.902000+00:00",
          "2024-05-08T16:56:11.833000+00:00",
          "2024-05-08T16:56:16.826000+00:00",
          "2024-05-08T16:56:21.873000+00:00"
         ],
         "xaxis": "x",
         "y": [
          0,
          0,
          0,
          0,
          0,
          0,
          0,
          0,
          0,
          0,
          0,
          0,
          0,
          0,
          0,
          0,
          0,
          0,
          0,
          0,
          6
         ],
         "yaxis": "y"
        }
       ],
       "layout": {
        "legend": {
         "tracegroupgap": 0
        },
        "margin": {
         "t": 60
        },
        "template": {
         "data": {
          "bar": [
           {
            "error_x": {
             "color": "#2a3f5f"
            },
            "error_y": {
             "color": "#2a3f5f"
            },
            "marker": {
             "line": {
              "color": "#E5ECF6",
              "width": 0.5
             },
             "pattern": {
              "fillmode": "overlay",
              "size": 10,
              "solidity": 0.2
             }
            },
            "type": "bar"
           }
          ],
          "barpolar": [
           {
            "marker": {
             "line": {
              "color": "#E5ECF6",
              "width": 0.5
             },
             "pattern": {
              "fillmode": "overlay",
              "size": 10,
              "solidity": 0.2
             }
            },
            "type": "barpolar"
           }
          ],
          "carpet": [
           {
            "aaxis": {
             "endlinecolor": "#2a3f5f",
             "gridcolor": "white",
             "linecolor": "white",
             "minorgridcolor": "white",
             "startlinecolor": "#2a3f5f"
            },
            "baxis": {
             "endlinecolor": "#2a3f5f",
             "gridcolor": "white",
             "linecolor": "white",
             "minorgridcolor": "white",
             "startlinecolor": "#2a3f5f"
            },
            "type": "carpet"
           }
          ],
          "choropleth": [
           {
            "colorbar": {
             "outlinewidth": 0,
             "ticks": ""
            },
            "type": "choropleth"
           }
          ],
          "contour": [
           {
            "colorbar": {
             "outlinewidth": 0,
             "ticks": ""
            },
            "colorscale": [
             [
              0,
              "#0d0887"
             ],
             [
              0.1111111111111111,
              "#46039f"
             ],
             [
              0.2222222222222222,
              "#7201a8"
             ],
             [
              0.3333333333333333,
              "#9c179e"
             ],
             [
              0.4444444444444444,
              "#bd3786"
             ],
             [
              0.5555555555555556,
              "#d8576b"
             ],
             [
              0.6666666666666666,
              "#ed7953"
             ],
             [
              0.7777777777777778,
              "#fb9f3a"
             ],
             [
              0.8888888888888888,
              "#fdca26"
             ],
             [
              1,
              "#f0f921"
             ]
            ],
            "type": "contour"
           }
          ],
          "contourcarpet": [
           {
            "colorbar": {
             "outlinewidth": 0,
             "ticks": ""
            },
            "type": "contourcarpet"
           }
          ],
          "heatmap": [
           {
            "colorbar": {
             "outlinewidth": 0,
             "ticks": ""
            },
            "colorscale": [
             [
              0,
              "#0d0887"
             ],
             [
              0.1111111111111111,
              "#46039f"
             ],
             [
              0.2222222222222222,
              "#7201a8"
             ],
             [
              0.3333333333333333,
              "#9c179e"
             ],
             [
              0.4444444444444444,
              "#bd3786"
             ],
             [
              0.5555555555555556,
              "#d8576b"
             ],
             [
              0.6666666666666666,
              "#ed7953"
             ],
             [
              0.7777777777777778,
              "#fb9f3a"
             ],
             [
              0.8888888888888888,
              "#fdca26"
             ],
             [
              1,
              "#f0f921"
             ]
            ],
            "type": "heatmap"
           }
          ],
          "heatmapgl": [
           {
            "colorbar": {
             "outlinewidth": 0,
             "ticks": ""
            },
            "colorscale": [
             [
              0,
              "#0d0887"
             ],
             [
              0.1111111111111111,
              "#46039f"
             ],
             [
              0.2222222222222222,
              "#7201a8"
             ],
             [
              0.3333333333333333,
              "#9c179e"
             ],
             [
              0.4444444444444444,
              "#bd3786"
             ],
             [
              0.5555555555555556,
              "#d8576b"
             ],
             [
              0.6666666666666666,
              "#ed7953"
             ],
             [
              0.7777777777777778,
              "#fb9f3a"
             ],
             [
              0.8888888888888888,
              "#fdca26"
             ],
             [
              1,
              "#f0f921"
             ]
            ],
            "type": "heatmapgl"
           }
          ],
          "histogram": [
           {
            "marker": {
             "pattern": {
              "fillmode": "overlay",
              "size": 10,
              "solidity": 0.2
             }
            },
            "type": "histogram"
           }
          ],
          "histogram2d": [
           {
            "colorbar": {
             "outlinewidth": 0,
             "ticks": ""
            },
            "colorscale": [
             [
              0,
              "#0d0887"
             ],
             [
              0.1111111111111111,
              "#46039f"
             ],
             [
              0.2222222222222222,
              "#7201a8"
             ],
             [
              0.3333333333333333,
              "#9c179e"
             ],
             [
              0.4444444444444444,
              "#bd3786"
             ],
             [
              0.5555555555555556,
              "#d8576b"
             ],
             [
              0.6666666666666666,
              "#ed7953"
             ],
             [
              0.7777777777777778,
              "#fb9f3a"
             ],
             [
              0.8888888888888888,
              "#fdca26"
             ],
             [
              1,
              "#f0f921"
             ]
            ],
            "type": "histogram2d"
           }
          ],
          "histogram2dcontour": [
           {
            "colorbar": {
             "outlinewidth": 0,
             "ticks": ""
            },
            "colorscale": [
             [
              0,
              "#0d0887"
             ],
             [
              0.1111111111111111,
              "#46039f"
             ],
             [
              0.2222222222222222,
              "#7201a8"
             ],
             [
              0.3333333333333333,
              "#9c179e"
             ],
             [
              0.4444444444444444,
              "#bd3786"
             ],
             [
              0.5555555555555556,
              "#d8576b"
             ],
             [
              0.6666666666666666,
              "#ed7953"
             ],
             [
              0.7777777777777778,
              "#fb9f3a"
             ],
             [
              0.8888888888888888,
              "#fdca26"
             ],
             [
              1,
              "#f0f921"
             ]
            ],
            "type": "histogram2dcontour"
           }
          ],
          "mesh3d": [
           {
            "colorbar": {
             "outlinewidth": 0,
             "ticks": ""
            },
            "type": "mesh3d"
           }
          ],
          "parcoords": [
           {
            "line": {
             "colorbar": {
              "outlinewidth": 0,
              "ticks": ""
             }
            },
            "type": "parcoords"
           }
          ],
          "pie": [
           {
            "automargin": true,
            "type": "pie"
           }
          ],
          "scatter": [
           {
            "fillpattern": {
             "fillmode": "overlay",
             "size": 10,
             "solidity": 0.2
            },
            "type": "scatter"
           }
          ],
          "scatter3d": [
           {
            "line": {
             "colorbar": {
              "outlinewidth": 0,
              "ticks": ""
             }
            },
            "marker": {
             "colorbar": {
              "outlinewidth": 0,
              "ticks": ""
             }
            },
            "type": "scatter3d"
           }
          ],
          "scattercarpet": [
           {
            "marker": {
             "colorbar": {
              "outlinewidth": 0,
              "ticks": ""
             }
            },
            "type": "scattercarpet"
           }
          ],
          "scattergeo": [
           {
            "marker": {
             "colorbar": {
              "outlinewidth": 0,
              "ticks": ""
             }
            },
            "type": "scattergeo"
           }
          ],
          "scattergl": [
           {
            "marker": {
             "colorbar": {
              "outlinewidth": 0,
              "ticks": ""
             }
            },
            "type": "scattergl"
           }
          ],
          "scattermapbox": [
           {
            "marker": {
             "colorbar": {
              "outlinewidth": 0,
              "ticks": ""
             }
            },
            "type": "scattermapbox"
           }
          ],
          "scatterpolar": [
           {
            "marker": {
             "colorbar": {
              "outlinewidth": 0,
              "ticks": ""
             }
            },
            "type": "scatterpolar"
           }
          ],
          "scatterpolargl": [
           {
            "marker": {
             "colorbar": {
              "outlinewidth": 0,
              "ticks": ""
             }
            },
            "type": "scatterpolargl"
           }
          ],
          "scatterternary": [
           {
            "marker": {
             "colorbar": {
              "outlinewidth": 0,
              "ticks": ""
             }
            },
            "type": "scatterternary"
           }
          ],
          "surface": [
           {
            "colorbar": {
             "outlinewidth": 0,
             "ticks": ""
            },
            "colorscale": [
             [
              0,
              "#0d0887"
             ],
             [
              0.1111111111111111,
              "#46039f"
             ],
             [
              0.2222222222222222,
              "#7201a8"
             ],
             [
              0.3333333333333333,
              "#9c179e"
             ],
             [
              0.4444444444444444,
              "#bd3786"
             ],
             [
              0.5555555555555556,
              "#d8576b"
             ],
             [
              0.6666666666666666,
              "#ed7953"
             ],
             [
              0.7777777777777778,
              "#fb9f3a"
             ],
             [
              0.8888888888888888,
              "#fdca26"
             ],
             [
              1,
              "#f0f921"
             ]
            ],
            "type": "surface"
           }
          ],
          "table": [
           {
            "cells": {
             "fill": {
              "color": "#EBF0F8"
             },
             "line": {
              "color": "white"
             }
            },
            "header": {
             "fill": {
              "color": "#C8D4E3"
             },
             "line": {
              "color": "white"
             }
            },
            "type": "table"
           }
          ]
         },
         "layout": {
          "annotationdefaults": {
           "arrowcolor": "#2a3f5f",
           "arrowhead": 0,
           "arrowwidth": 1
          },
          "autotypenumbers": "strict",
          "coloraxis": {
           "colorbar": {
            "outlinewidth": 0,
            "ticks": ""
           }
          },
          "colorscale": {
           "diverging": [
            [
             0,
             "#8e0152"
            ],
            [
             0.1,
             "#c51b7d"
            ],
            [
             0.2,
             "#de77ae"
            ],
            [
             0.3,
             "#f1b6da"
            ],
            [
             0.4,
             "#fde0ef"
            ],
            [
             0.5,
             "#f7f7f7"
            ],
            [
             0.6,
             "#e6f5d0"
            ],
            [
             0.7,
             "#b8e186"
            ],
            [
             0.8,
             "#7fbc41"
            ],
            [
             0.9,
             "#4d9221"
            ],
            [
             1,
             "#276419"
            ]
           ],
           "sequential": [
            [
             0,
             "#0d0887"
            ],
            [
             0.1111111111111111,
             "#46039f"
            ],
            [
             0.2222222222222222,
             "#7201a8"
            ],
            [
             0.3333333333333333,
             "#9c179e"
            ],
            [
             0.4444444444444444,
             "#bd3786"
            ],
            [
             0.5555555555555556,
             "#d8576b"
            ],
            [
             0.6666666666666666,
             "#ed7953"
            ],
            [
             0.7777777777777778,
             "#fb9f3a"
            ],
            [
             0.8888888888888888,
             "#fdca26"
            ],
            [
             1,
             "#f0f921"
            ]
           ],
           "sequentialminus": [
            [
             0,
             "#0d0887"
            ],
            [
             0.1111111111111111,
             "#46039f"
            ],
            [
             0.2222222222222222,
             "#7201a8"
            ],
            [
             0.3333333333333333,
             "#9c179e"
            ],
            [
             0.4444444444444444,
             "#bd3786"
            ],
            [
             0.5555555555555556,
             "#d8576b"
            ],
            [
             0.6666666666666666,
             "#ed7953"
            ],
            [
             0.7777777777777778,
             "#fb9f3a"
            ],
            [
             0.8888888888888888,
             "#fdca26"
            ],
            [
             1,
             "#f0f921"
            ]
           ]
          },
          "colorway": [
           "#636efa",
           "#EF553B",
           "#00cc96",
           "#ab63fa",
           "#FFA15A",
           "#19d3f3",
           "#FF6692",
           "#B6E880",
           "#FF97FF",
           "#FECB52"
          ],
          "font": {
           "color": "#2a3f5f"
          },
          "geo": {
           "bgcolor": "white",
           "lakecolor": "white",
           "landcolor": "#E5ECF6",
           "showlakes": true,
           "showland": true,
           "subunitcolor": "white"
          },
          "hoverlabel": {
           "align": "left"
          },
          "hovermode": "closest",
          "mapbox": {
           "style": "light"
          },
          "paper_bgcolor": "white",
          "plot_bgcolor": "#E5ECF6",
          "polar": {
           "angularaxis": {
            "gridcolor": "white",
            "linecolor": "white",
            "ticks": ""
           },
           "bgcolor": "#E5ECF6",
           "radialaxis": {
            "gridcolor": "white",
            "linecolor": "white",
            "ticks": ""
           }
          },
          "scene": {
           "xaxis": {
            "backgroundcolor": "#E5ECF6",
            "gridcolor": "white",
            "gridwidth": 2,
            "linecolor": "white",
            "showbackground": true,
            "ticks": "",
            "zerolinecolor": "white"
           },
           "yaxis": {
            "backgroundcolor": "#E5ECF6",
            "gridcolor": "white",
            "gridwidth": 2,
            "linecolor": "white",
            "showbackground": true,
            "ticks": "",
            "zerolinecolor": "white"
           },
           "zaxis": {
            "backgroundcolor": "#E5ECF6",
            "gridcolor": "white",
            "gridwidth": 2,
            "linecolor": "white",
            "showbackground": true,
            "ticks": "",
            "zerolinecolor": "white"
           }
          },
          "shapedefaults": {
           "line": {
            "color": "#2a3f5f"
           }
          },
          "ternary": {
           "aaxis": {
            "gridcolor": "white",
            "linecolor": "white",
            "ticks": ""
           },
           "baxis": {
            "gridcolor": "white",
            "linecolor": "white",
            "ticks": ""
           },
           "bgcolor": "#E5ECF6",
           "caxis": {
            "gridcolor": "white",
            "linecolor": "white",
            "ticks": ""
           }
          },
          "title": {
           "x": 0.05
          },
          "xaxis": {
           "automargin": true,
           "gridcolor": "white",
           "linecolor": "white",
           "ticks": "",
           "title": {
            "standoff": 15
           },
           "zerolinecolor": "white",
           "zerolinewidth": 2
          },
          "yaxis": {
           "automargin": true,
           "gridcolor": "white",
           "linecolor": "white",
           "ticks": "",
           "title": {
            "standoff": 15
           },
           "zerolinecolor": "white",
           "zerolinewidth": 2
          }
         }
        },
        "xaxis": {
         "anchor": "y",
         "domain": [
          0,
          1
         ],
         "title": {
          "text": "time_index"
         }
        },
        "yaxis": {
         "anchor": "x",
         "domain": [
          0,
          1
         ],
         "title": {
          "text": "status"
         }
        }
       }
      }
     },
     "metadata": {},
     "output_type": "display_data"
    }
   ],
   "source": [
    "fig = px.line(primera_vaca, x='time_index', y=\"status\")\n",
    "fig.show()"
   ]
  },
  {
   "cell_type": "code",
   "execution_count": 82,
   "metadata": {},
   "outputs": [
    {
     "data": {
      "application/vnd.plotly.v1+json": {
       "config": {
        "plotlyServerURL": "https://plot.ly"
       },
       "data": [
        {
         "hovertemplate": "time_index=%{x}<br>status=%{y}<extra></extra>",
         "legendgroup": "",
         "line": {
          "color": "#636efa",
          "dash": "solid"
         },
         "marker": {
          "symbol": "circle"
         },
         "mode": "lines",
         "name": "",
         "orientation": "v",
         "showlegend": false,
         "type": "scatter",
         "x": [
          "2024-05-08T16:53:56.884000+00:00",
          "2024-05-08T16:54:01.776000+00:00",
          "2024-05-08T16:54:06.820000+00:00",
          "2024-05-08T16:54:16.793000+00:00",
          "2024-05-08T16:54:21.804000+00:00",
          "2024-05-08T16:54:36.967000+00:00",
          "2024-05-08T16:54:41.846000+00:00",
          "2024-05-08T16:54:46.774000+00:00",
          "2024-05-08T16:54:51.784000+00:00",
          "2024-05-08T16:54:56.853000+00:00",
          "2024-05-08T16:55:16.779000+00:00",
          "2024-05-08T16:55:21.949000+00:00",
          "2024-05-08T16:55:26.817000+00:00",
          "2024-05-08T16:55:36.819000+00:00",
          "2024-05-08T16:55:41.946000+00:00",
          "2024-05-08T16:55:46.791000+00:00",
          "2024-05-08T16:55:56.817000+00:00",
          "2024-05-08T16:56:01.806000+00:00",
          "2024-05-08T16:56:06.890000+00:00",
          "2024-05-08T16:56:11.829000+00:00",
          "2024-05-08T16:56:16.818000+00:00",
          "2024-05-08T16:56:21.852000+00:00"
         ],
         "xaxis": "x",
         "y": [
          0,
          0,
          0,
          0,
          0,
          0,
          0,
          0,
          0,
          0,
          5,
          5,
          5,
          3,
          5,
          5,
          5,
          0,
          0,
          0,
          0,
          0
         ],
         "yaxis": "y"
        }
       ],
       "layout": {
        "legend": {
         "tracegroupgap": 0
        },
        "margin": {
         "t": 60
        },
        "template": {
         "data": {
          "bar": [
           {
            "error_x": {
             "color": "#2a3f5f"
            },
            "error_y": {
             "color": "#2a3f5f"
            },
            "marker": {
             "line": {
              "color": "#E5ECF6",
              "width": 0.5
             },
             "pattern": {
              "fillmode": "overlay",
              "size": 10,
              "solidity": 0.2
             }
            },
            "type": "bar"
           }
          ],
          "barpolar": [
           {
            "marker": {
             "line": {
              "color": "#E5ECF6",
              "width": 0.5
             },
             "pattern": {
              "fillmode": "overlay",
              "size": 10,
              "solidity": 0.2
             }
            },
            "type": "barpolar"
           }
          ],
          "carpet": [
           {
            "aaxis": {
             "endlinecolor": "#2a3f5f",
             "gridcolor": "white",
             "linecolor": "white",
             "minorgridcolor": "white",
             "startlinecolor": "#2a3f5f"
            },
            "baxis": {
             "endlinecolor": "#2a3f5f",
             "gridcolor": "white",
             "linecolor": "white",
             "minorgridcolor": "white",
             "startlinecolor": "#2a3f5f"
            },
            "type": "carpet"
           }
          ],
          "choropleth": [
           {
            "colorbar": {
             "outlinewidth": 0,
             "ticks": ""
            },
            "type": "choropleth"
           }
          ],
          "contour": [
           {
            "colorbar": {
             "outlinewidth": 0,
             "ticks": ""
            },
            "colorscale": [
             [
              0,
              "#0d0887"
             ],
             [
              0.1111111111111111,
              "#46039f"
             ],
             [
              0.2222222222222222,
              "#7201a8"
             ],
             [
              0.3333333333333333,
              "#9c179e"
             ],
             [
              0.4444444444444444,
              "#bd3786"
             ],
             [
              0.5555555555555556,
              "#d8576b"
             ],
             [
              0.6666666666666666,
              "#ed7953"
             ],
             [
              0.7777777777777778,
              "#fb9f3a"
             ],
             [
              0.8888888888888888,
              "#fdca26"
             ],
             [
              1,
              "#f0f921"
             ]
            ],
            "type": "contour"
           }
          ],
          "contourcarpet": [
           {
            "colorbar": {
             "outlinewidth": 0,
             "ticks": ""
            },
            "type": "contourcarpet"
           }
          ],
          "heatmap": [
           {
            "colorbar": {
             "outlinewidth": 0,
             "ticks": ""
            },
            "colorscale": [
             [
              0,
              "#0d0887"
             ],
             [
              0.1111111111111111,
              "#46039f"
             ],
             [
              0.2222222222222222,
              "#7201a8"
             ],
             [
              0.3333333333333333,
              "#9c179e"
             ],
             [
              0.4444444444444444,
              "#bd3786"
             ],
             [
              0.5555555555555556,
              "#d8576b"
             ],
             [
              0.6666666666666666,
              "#ed7953"
             ],
             [
              0.7777777777777778,
              "#fb9f3a"
             ],
             [
              0.8888888888888888,
              "#fdca26"
             ],
             [
              1,
              "#f0f921"
             ]
            ],
            "type": "heatmap"
           }
          ],
          "heatmapgl": [
           {
            "colorbar": {
             "outlinewidth": 0,
             "ticks": ""
            },
            "colorscale": [
             [
              0,
              "#0d0887"
             ],
             [
              0.1111111111111111,
              "#46039f"
             ],
             [
              0.2222222222222222,
              "#7201a8"
             ],
             [
              0.3333333333333333,
              "#9c179e"
             ],
             [
              0.4444444444444444,
              "#bd3786"
             ],
             [
              0.5555555555555556,
              "#d8576b"
             ],
             [
              0.6666666666666666,
              "#ed7953"
             ],
             [
              0.7777777777777778,
              "#fb9f3a"
             ],
             [
              0.8888888888888888,
              "#fdca26"
             ],
             [
              1,
              "#f0f921"
             ]
            ],
            "type": "heatmapgl"
           }
          ],
          "histogram": [
           {
            "marker": {
             "pattern": {
              "fillmode": "overlay",
              "size": 10,
              "solidity": 0.2
             }
            },
            "type": "histogram"
           }
          ],
          "histogram2d": [
           {
            "colorbar": {
             "outlinewidth": 0,
             "ticks": ""
            },
            "colorscale": [
             [
              0,
              "#0d0887"
             ],
             [
              0.1111111111111111,
              "#46039f"
             ],
             [
              0.2222222222222222,
              "#7201a8"
             ],
             [
              0.3333333333333333,
              "#9c179e"
             ],
             [
              0.4444444444444444,
              "#bd3786"
             ],
             [
              0.5555555555555556,
              "#d8576b"
             ],
             [
              0.6666666666666666,
              "#ed7953"
             ],
             [
              0.7777777777777778,
              "#fb9f3a"
             ],
             [
              0.8888888888888888,
              "#fdca26"
             ],
             [
              1,
              "#f0f921"
             ]
            ],
            "type": "histogram2d"
           }
          ],
          "histogram2dcontour": [
           {
            "colorbar": {
             "outlinewidth": 0,
             "ticks": ""
            },
            "colorscale": [
             [
              0,
              "#0d0887"
             ],
             [
              0.1111111111111111,
              "#46039f"
             ],
             [
              0.2222222222222222,
              "#7201a8"
             ],
             [
              0.3333333333333333,
              "#9c179e"
             ],
             [
              0.4444444444444444,
              "#bd3786"
             ],
             [
              0.5555555555555556,
              "#d8576b"
             ],
             [
              0.6666666666666666,
              "#ed7953"
             ],
             [
              0.7777777777777778,
              "#fb9f3a"
             ],
             [
              0.8888888888888888,
              "#fdca26"
             ],
             [
              1,
              "#f0f921"
             ]
            ],
            "type": "histogram2dcontour"
           }
          ],
          "mesh3d": [
           {
            "colorbar": {
             "outlinewidth": 0,
             "ticks": ""
            },
            "type": "mesh3d"
           }
          ],
          "parcoords": [
           {
            "line": {
             "colorbar": {
              "outlinewidth": 0,
              "ticks": ""
             }
            },
            "type": "parcoords"
           }
          ],
          "pie": [
           {
            "automargin": true,
            "type": "pie"
           }
          ],
          "scatter": [
           {
            "fillpattern": {
             "fillmode": "overlay",
             "size": 10,
             "solidity": 0.2
            },
            "type": "scatter"
           }
          ],
          "scatter3d": [
           {
            "line": {
             "colorbar": {
              "outlinewidth": 0,
              "ticks": ""
             }
            },
            "marker": {
             "colorbar": {
              "outlinewidth": 0,
              "ticks": ""
             }
            },
            "type": "scatter3d"
           }
          ],
          "scattercarpet": [
           {
            "marker": {
             "colorbar": {
              "outlinewidth": 0,
              "ticks": ""
             }
            },
            "type": "scattercarpet"
           }
          ],
          "scattergeo": [
           {
            "marker": {
             "colorbar": {
              "outlinewidth": 0,
              "ticks": ""
             }
            },
            "type": "scattergeo"
           }
          ],
          "scattergl": [
           {
            "marker": {
             "colorbar": {
              "outlinewidth": 0,
              "ticks": ""
             }
            },
            "type": "scattergl"
           }
          ],
          "scattermapbox": [
           {
            "marker": {
             "colorbar": {
              "outlinewidth": 0,
              "ticks": ""
             }
            },
            "type": "scattermapbox"
           }
          ],
          "scatterpolar": [
           {
            "marker": {
             "colorbar": {
              "outlinewidth": 0,
              "ticks": ""
             }
            },
            "type": "scatterpolar"
           }
          ],
          "scatterpolargl": [
           {
            "marker": {
             "colorbar": {
              "outlinewidth": 0,
              "ticks": ""
             }
            },
            "type": "scatterpolargl"
           }
          ],
          "scatterternary": [
           {
            "marker": {
             "colorbar": {
              "outlinewidth": 0,
              "ticks": ""
             }
            },
            "type": "scatterternary"
           }
          ],
          "surface": [
           {
            "colorbar": {
             "outlinewidth": 0,
             "ticks": ""
            },
            "colorscale": [
             [
              0,
              "#0d0887"
             ],
             [
              0.1111111111111111,
              "#46039f"
             ],
             [
              0.2222222222222222,
              "#7201a8"
             ],
             [
              0.3333333333333333,
              "#9c179e"
             ],
             [
              0.4444444444444444,
              "#bd3786"
             ],
             [
              0.5555555555555556,
              "#d8576b"
             ],
             [
              0.6666666666666666,
              "#ed7953"
             ],
             [
              0.7777777777777778,
              "#fb9f3a"
             ],
             [
              0.8888888888888888,
              "#fdca26"
             ],
             [
              1,
              "#f0f921"
             ]
            ],
            "type": "surface"
           }
          ],
          "table": [
           {
            "cells": {
             "fill": {
              "color": "#EBF0F8"
             },
             "line": {
              "color": "white"
             }
            },
            "header": {
             "fill": {
              "color": "#C8D4E3"
             },
             "line": {
              "color": "white"
             }
            },
            "type": "table"
           }
          ]
         },
         "layout": {
          "annotationdefaults": {
           "arrowcolor": "#2a3f5f",
           "arrowhead": 0,
           "arrowwidth": 1
          },
          "autotypenumbers": "strict",
          "coloraxis": {
           "colorbar": {
            "outlinewidth": 0,
            "ticks": ""
           }
          },
          "colorscale": {
           "diverging": [
            [
             0,
             "#8e0152"
            ],
            [
             0.1,
             "#c51b7d"
            ],
            [
             0.2,
             "#de77ae"
            ],
            [
             0.3,
             "#f1b6da"
            ],
            [
             0.4,
             "#fde0ef"
            ],
            [
             0.5,
             "#f7f7f7"
            ],
            [
             0.6,
             "#e6f5d0"
            ],
            [
             0.7,
             "#b8e186"
            ],
            [
             0.8,
             "#7fbc41"
            ],
            [
             0.9,
             "#4d9221"
            ],
            [
             1,
             "#276419"
            ]
           ],
           "sequential": [
            [
             0,
             "#0d0887"
            ],
            [
             0.1111111111111111,
             "#46039f"
            ],
            [
             0.2222222222222222,
             "#7201a8"
            ],
            [
             0.3333333333333333,
             "#9c179e"
            ],
            [
             0.4444444444444444,
             "#bd3786"
            ],
            [
             0.5555555555555556,
             "#d8576b"
            ],
            [
             0.6666666666666666,
             "#ed7953"
            ],
            [
             0.7777777777777778,
             "#fb9f3a"
            ],
            [
             0.8888888888888888,
             "#fdca26"
            ],
            [
             1,
             "#f0f921"
            ]
           ],
           "sequentialminus": [
            [
             0,
             "#0d0887"
            ],
            [
             0.1111111111111111,
             "#46039f"
            ],
            [
             0.2222222222222222,
             "#7201a8"
            ],
            [
             0.3333333333333333,
             "#9c179e"
            ],
            [
             0.4444444444444444,
             "#bd3786"
            ],
            [
             0.5555555555555556,
             "#d8576b"
            ],
            [
             0.6666666666666666,
             "#ed7953"
            ],
            [
             0.7777777777777778,
             "#fb9f3a"
            ],
            [
             0.8888888888888888,
             "#fdca26"
            ],
            [
             1,
             "#f0f921"
            ]
           ]
          },
          "colorway": [
           "#636efa",
           "#EF553B",
           "#00cc96",
           "#ab63fa",
           "#FFA15A",
           "#19d3f3",
           "#FF6692",
           "#B6E880",
           "#FF97FF",
           "#FECB52"
          ],
          "font": {
           "color": "#2a3f5f"
          },
          "geo": {
           "bgcolor": "white",
           "lakecolor": "white",
           "landcolor": "#E5ECF6",
           "showlakes": true,
           "showland": true,
           "subunitcolor": "white"
          },
          "hoverlabel": {
           "align": "left"
          },
          "hovermode": "closest",
          "mapbox": {
           "style": "light"
          },
          "paper_bgcolor": "white",
          "plot_bgcolor": "#E5ECF6",
          "polar": {
           "angularaxis": {
            "gridcolor": "white",
            "linecolor": "white",
            "ticks": ""
           },
           "bgcolor": "#E5ECF6",
           "radialaxis": {
            "gridcolor": "white",
            "linecolor": "white",
            "ticks": ""
           }
          },
          "scene": {
           "xaxis": {
            "backgroundcolor": "#E5ECF6",
            "gridcolor": "white",
            "gridwidth": 2,
            "linecolor": "white",
            "showbackground": true,
            "ticks": "",
            "zerolinecolor": "white"
           },
           "yaxis": {
            "backgroundcolor": "#E5ECF6",
            "gridcolor": "white",
            "gridwidth": 2,
            "linecolor": "white",
            "showbackground": true,
            "ticks": "",
            "zerolinecolor": "white"
           },
           "zaxis": {
            "backgroundcolor": "#E5ECF6",
            "gridcolor": "white",
            "gridwidth": 2,
            "linecolor": "white",
            "showbackground": true,
            "ticks": "",
            "zerolinecolor": "white"
           }
          },
          "shapedefaults": {
           "line": {
            "color": "#2a3f5f"
           }
          },
          "ternary": {
           "aaxis": {
            "gridcolor": "white",
            "linecolor": "white",
            "ticks": ""
           },
           "baxis": {
            "gridcolor": "white",
            "linecolor": "white",
            "ticks": ""
           },
           "bgcolor": "#E5ECF6",
           "caxis": {
            "gridcolor": "white",
            "linecolor": "white",
            "ticks": ""
           }
          },
          "title": {
           "x": 0.05
          },
          "xaxis": {
           "automargin": true,
           "gridcolor": "white",
           "linecolor": "white",
           "ticks": "",
           "title": {
            "standoff": 15
           },
           "zerolinecolor": "white",
           "zerolinewidth": 2
          },
          "yaxis": {
           "automargin": true,
           "gridcolor": "white",
           "linecolor": "white",
           "ticks": "",
           "title": {
            "standoff": 15
           },
           "zerolinecolor": "white",
           "zerolinewidth": 2
          }
         }
        },
        "xaxis": {
         "anchor": "y",
         "domain": [
          0,
          1
         ],
         "title": {
          "text": "time_index"
         }
        },
        "yaxis": {
         "anchor": "x",
         "domain": [
          0,
          1
         ],
         "title": {
          "text": "status"
         }
        }
       }
      }
     },
     "metadata": {},
     "output_type": "display_data"
    }
   ],
   "source": [
    "fig = px.line(primer_cerdo, x='time_index', y=\"status\")\n",
    "fig.show()"
   ]
  },
  {
   "cell_type": "markdown",
   "metadata": {},
   "source": [
    "Evolución heartrate primera vaca y primer cerdo"
   ]
  },
  {
   "cell_type": "code",
   "execution_count": 83,
   "metadata": {},
   "outputs": [
    {
     "data": {
      "application/vnd.plotly.v1+json": {
       "config": {
        "plotlyServerURL": "https://plot.ly"
       },
       "data": [
        {
         "hovertemplate": "time_index=%{x}<br>heartrate=%{y}<extra></extra>",
         "legendgroup": "",
         "line": {
          "color": "#636efa",
          "dash": "solid"
         },
         "marker": {
          "symbol": "circle"
         },
         "mode": "lines",
         "name": "",
         "orientation": "v",
         "showlegend": false,
         "type": "scatter",
         "x": [
          "2024-05-08T16:53:56.870000+00:00",
          "2024-05-08T16:54:11.767000+00:00",
          "2024-05-08T16:54:21.794000+00:00",
          "2024-05-08T16:54:26.912000+00:00",
          "2024-05-08T16:54:36.993000+00:00",
          "2024-05-08T16:54:41.879000+00:00",
          "2024-05-08T16:54:51.796000+00:00",
          "2024-05-08T16:55:01.829000+00:00",
          "2024-05-08T16:55:06.907000+00:00",
          "2024-05-08T16:55:11.783000+00:00",
          "2024-05-08T16:55:16.784000+00:00",
          "2024-05-08T16:55:21.906000+00:00",
          "2024-05-08T16:55:26.827000+00:00",
          "2024-05-08T16:55:41.964000+00:00",
          "2024-05-08T16:55:46.796000+00:00",
          "2024-05-08T16:55:51.804000+00:00",
          "2024-05-08T16:55:56.822000+00:00",
          "2024-05-08T16:56:06.902000+00:00",
          "2024-05-08T16:56:11.833000+00:00",
          "2024-05-08T16:56:16.826000+00:00",
          "2024-05-08T16:56:21.873000+00:00"
         ],
         "xaxis": "x",
         "y": [
          51,
          52,
          51,
          52,
          51,
          52,
          51,
          52,
          53,
          52,
          51,
          52,
          51,
          52,
          53,
          52,
          51,
          50,
          51,
          52,
          52
         ],
         "yaxis": "y"
        }
       ],
       "layout": {
        "legend": {
         "tracegroupgap": 0
        },
        "margin": {
         "t": 60
        },
        "template": {
         "data": {
          "bar": [
           {
            "error_x": {
             "color": "#2a3f5f"
            },
            "error_y": {
             "color": "#2a3f5f"
            },
            "marker": {
             "line": {
              "color": "#E5ECF6",
              "width": 0.5
             },
             "pattern": {
              "fillmode": "overlay",
              "size": 10,
              "solidity": 0.2
             }
            },
            "type": "bar"
           }
          ],
          "barpolar": [
           {
            "marker": {
             "line": {
              "color": "#E5ECF6",
              "width": 0.5
             },
             "pattern": {
              "fillmode": "overlay",
              "size": 10,
              "solidity": 0.2
             }
            },
            "type": "barpolar"
           }
          ],
          "carpet": [
           {
            "aaxis": {
             "endlinecolor": "#2a3f5f",
             "gridcolor": "white",
             "linecolor": "white",
             "minorgridcolor": "white",
             "startlinecolor": "#2a3f5f"
            },
            "baxis": {
             "endlinecolor": "#2a3f5f",
             "gridcolor": "white",
             "linecolor": "white",
             "minorgridcolor": "white",
             "startlinecolor": "#2a3f5f"
            },
            "type": "carpet"
           }
          ],
          "choropleth": [
           {
            "colorbar": {
             "outlinewidth": 0,
             "ticks": ""
            },
            "type": "choropleth"
           }
          ],
          "contour": [
           {
            "colorbar": {
             "outlinewidth": 0,
             "ticks": ""
            },
            "colorscale": [
             [
              0,
              "#0d0887"
             ],
             [
              0.1111111111111111,
              "#46039f"
             ],
             [
              0.2222222222222222,
              "#7201a8"
             ],
             [
              0.3333333333333333,
              "#9c179e"
             ],
             [
              0.4444444444444444,
              "#bd3786"
             ],
             [
              0.5555555555555556,
              "#d8576b"
             ],
             [
              0.6666666666666666,
              "#ed7953"
             ],
             [
              0.7777777777777778,
              "#fb9f3a"
             ],
             [
              0.8888888888888888,
              "#fdca26"
             ],
             [
              1,
              "#f0f921"
             ]
            ],
            "type": "contour"
           }
          ],
          "contourcarpet": [
           {
            "colorbar": {
             "outlinewidth": 0,
             "ticks": ""
            },
            "type": "contourcarpet"
           }
          ],
          "heatmap": [
           {
            "colorbar": {
             "outlinewidth": 0,
             "ticks": ""
            },
            "colorscale": [
             [
              0,
              "#0d0887"
             ],
             [
              0.1111111111111111,
              "#46039f"
             ],
             [
              0.2222222222222222,
              "#7201a8"
             ],
             [
              0.3333333333333333,
              "#9c179e"
             ],
             [
              0.4444444444444444,
              "#bd3786"
             ],
             [
              0.5555555555555556,
              "#d8576b"
             ],
             [
              0.6666666666666666,
              "#ed7953"
             ],
             [
              0.7777777777777778,
              "#fb9f3a"
             ],
             [
              0.8888888888888888,
              "#fdca26"
             ],
             [
              1,
              "#f0f921"
             ]
            ],
            "type": "heatmap"
           }
          ],
          "heatmapgl": [
           {
            "colorbar": {
             "outlinewidth": 0,
             "ticks": ""
            },
            "colorscale": [
             [
              0,
              "#0d0887"
             ],
             [
              0.1111111111111111,
              "#46039f"
             ],
             [
              0.2222222222222222,
              "#7201a8"
             ],
             [
              0.3333333333333333,
              "#9c179e"
             ],
             [
              0.4444444444444444,
              "#bd3786"
             ],
             [
              0.5555555555555556,
              "#d8576b"
             ],
             [
              0.6666666666666666,
              "#ed7953"
             ],
             [
              0.7777777777777778,
              "#fb9f3a"
             ],
             [
              0.8888888888888888,
              "#fdca26"
             ],
             [
              1,
              "#f0f921"
             ]
            ],
            "type": "heatmapgl"
           }
          ],
          "histogram": [
           {
            "marker": {
             "pattern": {
              "fillmode": "overlay",
              "size": 10,
              "solidity": 0.2
             }
            },
            "type": "histogram"
           }
          ],
          "histogram2d": [
           {
            "colorbar": {
             "outlinewidth": 0,
             "ticks": ""
            },
            "colorscale": [
             [
              0,
              "#0d0887"
             ],
             [
              0.1111111111111111,
              "#46039f"
             ],
             [
              0.2222222222222222,
              "#7201a8"
             ],
             [
              0.3333333333333333,
              "#9c179e"
             ],
             [
              0.4444444444444444,
              "#bd3786"
             ],
             [
              0.5555555555555556,
              "#d8576b"
             ],
             [
              0.6666666666666666,
              "#ed7953"
             ],
             [
              0.7777777777777778,
              "#fb9f3a"
             ],
             [
              0.8888888888888888,
              "#fdca26"
             ],
             [
              1,
              "#f0f921"
             ]
            ],
            "type": "histogram2d"
           }
          ],
          "histogram2dcontour": [
           {
            "colorbar": {
             "outlinewidth": 0,
             "ticks": ""
            },
            "colorscale": [
             [
              0,
              "#0d0887"
             ],
             [
              0.1111111111111111,
              "#46039f"
             ],
             [
              0.2222222222222222,
              "#7201a8"
             ],
             [
              0.3333333333333333,
              "#9c179e"
             ],
             [
              0.4444444444444444,
              "#bd3786"
             ],
             [
              0.5555555555555556,
              "#d8576b"
             ],
             [
              0.6666666666666666,
              "#ed7953"
             ],
             [
              0.7777777777777778,
              "#fb9f3a"
             ],
             [
              0.8888888888888888,
              "#fdca26"
             ],
             [
              1,
              "#f0f921"
             ]
            ],
            "type": "histogram2dcontour"
           }
          ],
          "mesh3d": [
           {
            "colorbar": {
             "outlinewidth": 0,
             "ticks": ""
            },
            "type": "mesh3d"
           }
          ],
          "parcoords": [
           {
            "line": {
             "colorbar": {
              "outlinewidth": 0,
              "ticks": ""
             }
            },
            "type": "parcoords"
           }
          ],
          "pie": [
           {
            "automargin": true,
            "type": "pie"
           }
          ],
          "scatter": [
           {
            "fillpattern": {
             "fillmode": "overlay",
             "size": 10,
             "solidity": 0.2
            },
            "type": "scatter"
           }
          ],
          "scatter3d": [
           {
            "line": {
             "colorbar": {
              "outlinewidth": 0,
              "ticks": ""
             }
            },
            "marker": {
             "colorbar": {
              "outlinewidth": 0,
              "ticks": ""
             }
            },
            "type": "scatter3d"
           }
          ],
          "scattercarpet": [
           {
            "marker": {
             "colorbar": {
              "outlinewidth": 0,
              "ticks": ""
             }
            },
            "type": "scattercarpet"
           }
          ],
          "scattergeo": [
           {
            "marker": {
             "colorbar": {
              "outlinewidth": 0,
              "ticks": ""
             }
            },
            "type": "scattergeo"
           }
          ],
          "scattergl": [
           {
            "marker": {
             "colorbar": {
              "outlinewidth": 0,
              "ticks": ""
             }
            },
            "type": "scattergl"
           }
          ],
          "scattermapbox": [
           {
            "marker": {
             "colorbar": {
              "outlinewidth": 0,
              "ticks": ""
             }
            },
            "type": "scattermapbox"
           }
          ],
          "scatterpolar": [
           {
            "marker": {
             "colorbar": {
              "outlinewidth": 0,
              "ticks": ""
             }
            },
            "type": "scatterpolar"
           }
          ],
          "scatterpolargl": [
           {
            "marker": {
             "colorbar": {
              "outlinewidth": 0,
              "ticks": ""
             }
            },
            "type": "scatterpolargl"
           }
          ],
          "scatterternary": [
           {
            "marker": {
             "colorbar": {
              "outlinewidth": 0,
              "ticks": ""
             }
            },
            "type": "scatterternary"
           }
          ],
          "surface": [
           {
            "colorbar": {
             "outlinewidth": 0,
             "ticks": ""
            },
            "colorscale": [
             [
              0,
              "#0d0887"
             ],
             [
              0.1111111111111111,
              "#46039f"
             ],
             [
              0.2222222222222222,
              "#7201a8"
             ],
             [
              0.3333333333333333,
              "#9c179e"
             ],
             [
              0.4444444444444444,
              "#bd3786"
             ],
             [
              0.5555555555555556,
              "#d8576b"
             ],
             [
              0.6666666666666666,
              "#ed7953"
             ],
             [
              0.7777777777777778,
              "#fb9f3a"
             ],
             [
              0.8888888888888888,
              "#fdca26"
             ],
             [
              1,
              "#f0f921"
             ]
            ],
            "type": "surface"
           }
          ],
          "table": [
           {
            "cells": {
             "fill": {
              "color": "#EBF0F8"
             },
             "line": {
              "color": "white"
             }
            },
            "header": {
             "fill": {
              "color": "#C8D4E3"
             },
             "line": {
              "color": "white"
             }
            },
            "type": "table"
           }
          ]
         },
         "layout": {
          "annotationdefaults": {
           "arrowcolor": "#2a3f5f",
           "arrowhead": 0,
           "arrowwidth": 1
          },
          "autotypenumbers": "strict",
          "coloraxis": {
           "colorbar": {
            "outlinewidth": 0,
            "ticks": ""
           }
          },
          "colorscale": {
           "diverging": [
            [
             0,
             "#8e0152"
            ],
            [
             0.1,
             "#c51b7d"
            ],
            [
             0.2,
             "#de77ae"
            ],
            [
             0.3,
             "#f1b6da"
            ],
            [
             0.4,
             "#fde0ef"
            ],
            [
             0.5,
             "#f7f7f7"
            ],
            [
             0.6,
             "#e6f5d0"
            ],
            [
             0.7,
             "#b8e186"
            ],
            [
             0.8,
             "#7fbc41"
            ],
            [
             0.9,
             "#4d9221"
            ],
            [
             1,
             "#276419"
            ]
           ],
           "sequential": [
            [
             0,
             "#0d0887"
            ],
            [
             0.1111111111111111,
             "#46039f"
            ],
            [
             0.2222222222222222,
             "#7201a8"
            ],
            [
             0.3333333333333333,
             "#9c179e"
            ],
            [
             0.4444444444444444,
             "#bd3786"
            ],
            [
             0.5555555555555556,
             "#d8576b"
            ],
            [
             0.6666666666666666,
             "#ed7953"
            ],
            [
             0.7777777777777778,
             "#fb9f3a"
            ],
            [
             0.8888888888888888,
             "#fdca26"
            ],
            [
             1,
             "#f0f921"
            ]
           ],
           "sequentialminus": [
            [
             0,
             "#0d0887"
            ],
            [
             0.1111111111111111,
             "#46039f"
            ],
            [
             0.2222222222222222,
             "#7201a8"
            ],
            [
             0.3333333333333333,
             "#9c179e"
            ],
            [
             0.4444444444444444,
             "#bd3786"
            ],
            [
             0.5555555555555556,
             "#d8576b"
            ],
            [
             0.6666666666666666,
             "#ed7953"
            ],
            [
             0.7777777777777778,
             "#fb9f3a"
            ],
            [
             0.8888888888888888,
             "#fdca26"
            ],
            [
             1,
             "#f0f921"
            ]
           ]
          },
          "colorway": [
           "#636efa",
           "#EF553B",
           "#00cc96",
           "#ab63fa",
           "#FFA15A",
           "#19d3f3",
           "#FF6692",
           "#B6E880",
           "#FF97FF",
           "#FECB52"
          ],
          "font": {
           "color": "#2a3f5f"
          },
          "geo": {
           "bgcolor": "white",
           "lakecolor": "white",
           "landcolor": "#E5ECF6",
           "showlakes": true,
           "showland": true,
           "subunitcolor": "white"
          },
          "hoverlabel": {
           "align": "left"
          },
          "hovermode": "closest",
          "mapbox": {
           "style": "light"
          },
          "paper_bgcolor": "white",
          "plot_bgcolor": "#E5ECF6",
          "polar": {
           "angularaxis": {
            "gridcolor": "white",
            "linecolor": "white",
            "ticks": ""
           },
           "bgcolor": "#E5ECF6",
           "radialaxis": {
            "gridcolor": "white",
            "linecolor": "white",
            "ticks": ""
           }
          },
          "scene": {
           "xaxis": {
            "backgroundcolor": "#E5ECF6",
            "gridcolor": "white",
            "gridwidth": 2,
            "linecolor": "white",
            "showbackground": true,
            "ticks": "",
            "zerolinecolor": "white"
           },
           "yaxis": {
            "backgroundcolor": "#E5ECF6",
            "gridcolor": "white",
            "gridwidth": 2,
            "linecolor": "white",
            "showbackground": true,
            "ticks": "",
            "zerolinecolor": "white"
           },
           "zaxis": {
            "backgroundcolor": "#E5ECF6",
            "gridcolor": "white",
            "gridwidth": 2,
            "linecolor": "white",
            "showbackground": true,
            "ticks": "",
            "zerolinecolor": "white"
           }
          },
          "shapedefaults": {
           "line": {
            "color": "#2a3f5f"
           }
          },
          "ternary": {
           "aaxis": {
            "gridcolor": "white",
            "linecolor": "white",
            "ticks": ""
           },
           "baxis": {
            "gridcolor": "white",
            "linecolor": "white",
            "ticks": ""
           },
           "bgcolor": "#E5ECF6",
           "caxis": {
            "gridcolor": "white",
            "linecolor": "white",
            "ticks": ""
           }
          },
          "title": {
           "x": 0.05
          },
          "xaxis": {
           "automargin": true,
           "gridcolor": "white",
           "linecolor": "white",
           "ticks": "",
           "title": {
            "standoff": 15
           },
           "zerolinecolor": "white",
           "zerolinewidth": 2
          },
          "yaxis": {
           "automargin": true,
           "gridcolor": "white",
           "linecolor": "white",
           "ticks": "",
           "title": {
            "standoff": 15
           },
           "zerolinecolor": "white",
           "zerolinewidth": 2
          }
         }
        },
        "xaxis": {
         "anchor": "y",
         "domain": [
          0,
          1
         ],
         "title": {
          "text": "time_index"
         }
        },
        "yaxis": {
         "anchor": "x",
         "domain": [
          0,
          1
         ],
         "title": {
          "text": "heartrate"
         }
        }
       }
      }
     },
     "metadata": {},
     "output_type": "display_data"
    }
   ],
   "source": [
    "fig = px.line(primera_vaca, x='time_index', y=\"heartrate\")\n",
    "fig.show()"
   ]
  },
  {
   "cell_type": "code",
   "execution_count": 84,
   "metadata": {},
   "outputs": [
    {
     "data": {
      "application/vnd.plotly.v1+json": {
       "config": {
        "plotlyServerURL": "https://plot.ly"
       },
       "data": [
        {
         "hovertemplate": "time_index=%{x}<br>heartrate=%{y}<extra></extra>",
         "legendgroup": "",
         "line": {
          "color": "#636efa",
          "dash": "solid"
         },
         "marker": {
          "symbol": "circle"
         },
         "mode": "lines",
         "name": "",
         "orientation": "v",
         "showlegend": false,
         "type": "scatter",
         "x": [
          "2024-05-08T16:53:56.884000+00:00",
          "2024-05-08T16:54:01.776000+00:00",
          "2024-05-08T16:54:06.820000+00:00",
          "2024-05-08T16:54:16.793000+00:00",
          "2024-05-08T16:54:21.804000+00:00",
          "2024-05-08T16:54:36.967000+00:00",
          "2024-05-08T16:54:41.846000+00:00",
          "2024-05-08T16:54:46.774000+00:00",
          "2024-05-08T16:54:51.784000+00:00",
          "2024-05-08T16:54:56.853000+00:00",
          "2024-05-08T16:55:16.779000+00:00",
          "2024-05-08T16:55:21.949000+00:00",
          "2024-05-08T16:55:26.817000+00:00",
          "2024-05-08T16:55:36.819000+00:00",
          "2024-05-08T16:55:41.946000+00:00",
          "2024-05-08T16:55:46.791000+00:00",
          "2024-05-08T16:55:56.817000+00:00",
          "2024-05-08T16:56:01.806000+00:00",
          "2024-05-08T16:56:06.890000+00:00",
          "2024-05-08T16:56:11.829000+00:00",
          "2024-05-08T16:56:16.818000+00:00",
          "2024-05-08T16:56:21.852000+00:00"
         ],
         "xaxis": "x",
         "y": [
          60,
          61,
          62,
          63,
          62,
          61,
          60,
          61,
          62,
          61,
          62,
          63,
          62,
          63,
          64,
          63,
          62,
          63,
          62,
          61,
          62,
          61
         ],
         "yaxis": "y"
        }
       ],
       "layout": {
        "legend": {
         "tracegroupgap": 0
        },
        "margin": {
         "t": 60
        },
        "template": {
         "data": {
          "bar": [
           {
            "error_x": {
             "color": "#2a3f5f"
            },
            "error_y": {
             "color": "#2a3f5f"
            },
            "marker": {
             "line": {
              "color": "#E5ECF6",
              "width": 0.5
             },
             "pattern": {
              "fillmode": "overlay",
              "size": 10,
              "solidity": 0.2
             }
            },
            "type": "bar"
           }
          ],
          "barpolar": [
           {
            "marker": {
             "line": {
              "color": "#E5ECF6",
              "width": 0.5
             },
             "pattern": {
              "fillmode": "overlay",
              "size": 10,
              "solidity": 0.2
             }
            },
            "type": "barpolar"
           }
          ],
          "carpet": [
           {
            "aaxis": {
             "endlinecolor": "#2a3f5f",
             "gridcolor": "white",
             "linecolor": "white",
             "minorgridcolor": "white",
             "startlinecolor": "#2a3f5f"
            },
            "baxis": {
             "endlinecolor": "#2a3f5f",
             "gridcolor": "white",
             "linecolor": "white",
             "minorgridcolor": "white",
             "startlinecolor": "#2a3f5f"
            },
            "type": "carpet"
           }
          ],
          "choropleth": [
           {
            "colorbar": {
             "outlinewidth": 0,
             "ticks": ""
            },
            "type": "choropleth"
           }
          ],
          "contour": [
           {
            "colorbar": {
             "outlinewidth": 0,
             "ticks": ""
            },
            "colorscale": [
             [
              0,
              "#0d0887"
             ],
             [
              0.1111111111111111,
              "#46039f"
             ],
             [
              0.2222222222222222,
              "#7201a8"
             ],
             [
              0.3333333333333333,
              "#9c179e"
             ],
             [
              0.4444444444444444,
              "#bd3786"
             ],
             [
              0.5555555555555556,
              "#d8576b"
             ],
             [
              0.6666666666666666,
              "#ed7953"
             ],
             [
              0.7777777777777778,
              "#fb9f3a"
             ],
             [
              0.8888888888888888,
              "#fdca26"
             ],
             [
              1,
              "#f0f921"
             ]
            ],
            "type": "contour"
           }
          ],
          "contourcarpet": [
           {
            "colorbar": {
             "outlinewidth": 0,
             "ticks": ""
            },
            "type": "contourcarpet"
           }
          ],
          "heatmap": [
           {
            "colorbar": {
             "outlinewidth": 0,
             "ticks": ""
            },
            "colorscale": [
             [
              0,
              "#0d0887"
             ],
             [
              0.1111111111111111,
              "#46039f"
             ],
             [
              0.2222222222222222,
              "#7201a8"
             ],
             [
              0.3333333333333333,
              "#9c179e"
             ],
             [
              0.4444444444444444,
              "#bd3786"
             ],
             [
              0.5555555555555556,
              "#d8576b"
             ],
             [
              0.6666666666666666,
              "#ed7953"
             ],
             [
              0.7777777777777778,
              "#fb9f3a"
             ],
             [
              0.8888888888888888,
              "#fdca26"
             ],
             [
              1,
              "#f0f921"
             ]
            ],
            "type": "heatmap"
           }
          ],
          "heatmapgl": [
           {
            "colorbar": {
             "outlinewidth": 0,
             "ticks": ""
            },
            "colorscale": [
             [
              0,
              "#0d0887"
             ],
             [
              0.1111111111111111,
              "#46039f"
             ],
             [
              0.2222222222222222,
              "#7201a8"
             ],
             [
              0.3333333333333333,
              "#9c179e"
             ],
             [
              0.4444444444444444,
              "#bd3786"
             ],
             [
              0.5555555555555556,
              "#d8576b"
             ],
             [
              0.6666666666666666,
              "#ed7953"
             ],
             [
              0.7777777777777778,
              "#fb9f3a"
             ],
             [
              0.8888888888888888,
              "#fdca26"
             ],
             [
              1,
              "#f0f921"
             ]
            ],
            "type": "heatmapgl"
           }
          ],
          "histogram": [
           {
            "marker": {
             "pattern": {
              "fillmode": "overlay",
              "size": 10,
              "solidity": 0.2
             }
            },
            "type": "histogram"
           }
          ],
          "histogram2d": [
           {
            "colorbar": {
             "outlinewidth": 0,
             "ticks": ""
            },
            "colorscale": [
             [
              0,
              "#0d0887"
             ],
             [
              0.1111111111111111,
              "#46039f"
             ],
             [
              0.2222222222222222,
              "#7201a8"
             ],
             [
              0.3333333333333333,
              "#9c179e"
             ],
             [
              0.4444444444444444,
              "#bd3786"
             ],
             [
              0.5555555555555556,
              "#d8576b"
             ],
             [
              0.6666666666666666,
              "#ed7953"
             ],
             [
              0.7777777777777778,
              "#fb9f3a"
             ],
             [
              0.8888888888888888,
              "#fdca26"
             ],
             [
              1,
              "#f0f921"
             ]
            ],
            "type": "histogram2d"
           }
          ],
          "histogram2dcontour": [
           {
            "colorbar": {
             "outlinewidth": 0,
             "ticks": ""
            },
            "colorscale": [
             [
              0,
              "#0d0887"
             ],
             [
              0.1111111111111111,
              "#46039f"
             ],
             [
              0.2222222222222222,
              "#7201a8"
             ],
             [
              0.3333333333333333,
              "#9c179e"
             ],
             [
              0.4444444444444444,
              "#bd3786"
             ],
             [
              0.5555555555555556,
              "#d8576b"
             ],
             [
              0.6666666666666666,
              "#ed7953"
             ],
             [
              0.7777777777777778,
              "#fb9f3a"
             ],
             [
              0.8888888888888888,
              "#fdca26"
             ],
             [
              1,
              "#f0f921"
             ]
            ],
            "type": "histogram2dcontour"
           }
          ],
          "mesh3d": [
           {
            "colorbar": {
             "outlinewidth": 0,
             "ticks": ""
            },
            "type": "mesh3d"
           }
          ],
          "parcoords": [
           {
            "line": {
             "colorbar": {
              "outlinewidth": 0,
              "ticks": ""
             }
            },
            "type": "parcoords"
           }
          ],
          "pie": [
           {
            "automargin": true,
            "type": "pie"
           }
          ],
          "scatter": [
           {
            "fillpattern": {
             "fillmode": "overlay",
             "size": 10,
             "solidity": 0.2
            },
            "type": "scatter"
           }
          ],
          "scatter3d": [
           {
            "line": {
             "colorbar": {
              "outlinewidth": 0,
              "ticks": ""
             }
            },
            "marker": {
             "colorbar": {
              "outlinewidth": 0,
              "ticks": ""
             }
            },
            "type": "scatter3d"
           }
          ],
          "scattercarpet": [
           {
            "marker": {
             "colorbar": {
              "outlinewidth": 0,
              "ticks": ""
             }
            },
            "type": "scattercarpet"
           }
          ],
          "scattergeo": [
           {
            "marker": {
             "colorbar": {
              "outlinewidth": 0,
              "ticks": ""
             }
            },
            "type": "scattergeo"
           }
          ],
          "scattergl": [
           {
            "marker": {
             "colorbar": {
              "outlinewidth": 0,
              "ticks": ""
             }
            },
            "type": "scattergl"
           }
          ],
          "scattermapbox": [
           {
            "marker": {
             "colorbar": {
              "outlinewidth": 0,
              "ticks": ""
             }
            },
            "type": "scattermapbox"
           }
          ],
          "scatterpolar": [
           {
            "marker": {
             "colorbar": {
              "outlinewidth": 0,
              "ticks": ""
             }
            },
            "type": "scatterpolar"
           }
          ],
          "scatterpolargl": [
           {
            "marker": {
             "colorbar": {
              "outlinewidth": 0,
              "ticks": ""
             }
            },
            "type": "scatterpolargl"
           }
          ],
          "scatterternary": [
           {
            "marker": {
             "colorbar": {
              "outlinewidth": 0,
              "ticks": ""
             }
            },
            "type": "scatterternary"
           }
          ],
          "surface": [
           {
            "colorbar": {
             "outlinewidth": 0,
             "ticks": ""
            },
            "colorscale": [
             [
              0,
              "#0d0887"
             ],
             [
              0.1111111111111111,
              "#46039f"
             ],
             [
              0.2222222222222222,
              "#7201a8"
             ],
             [
              0.3333333333333333,
              "#9c179e"
             ],
             [
              0.4444444444444444,
              "#bd3786"
             ],
             [
              0.5555555555555556,
              "#d8576b"
             ],
             [
              0.6666666666666666,
              "#ed7953"
             ],
             [
              0.7777777777777778,
              "#fb9f3a"
             ],
             [
              0.8888888888888888,
              "#fdca26"
             ],
             [
              1,
              "#f0f921"
             ]
            ],
            "type": "surface"
           }
          ],
          "table": [
           {
            "cells": {
             "fill": {
              "color": "#EBF0F8"
             },
             "line": {
              "color": "white"
             }
            },
            "header": {
             "fill": {
              "color": "#C8D4E3"
             },
             "line": {
              "color": "white"
             }
            },
            "type": "table"
           }
          ]
         },
         "layout": {
          "annotationdefaults": {
           "arrowcolor": "#2a3f5f",
           "arrowhead": 0,
           "arrowwidth": 1
          },
          "autotypenumbers": "strict",
          "coloraxis": {
           "colorbar": {
            "outlinewidth": 0,
            "ticks": ""
           }
          },
          "colorscale": {
           "diverging": [
            [
             0,
             "#8e0152"
            ],
            [
             0.1,
             "#c51b7d"
            ],
            [
             0.2,
             "#de77ae"
            ],
            [
             0.3,
             "#f1b6da"
            ],
            [
             0.4,
             "#fde0ef"
            ],
            [
             0.5,
             "#f7f7f7"
            ],
            [
             0.6,
             "#e6f5d0"
            ],
            [
             0.7,
             "#b8e186"
            ],
            [
             0.8,
             "#7fbc41"
            ],
            [
             0.9,
             "#4d9221"
            ],
            [
             1,
             "#276419"
            ]
           ],
           "sequential": [
            [
             0,
             "#0d0887"
            ],
            [
             0.1111111111111111,
             "#46039f"
            ],
            [
             0.2222222222222222,
             "#7201a8"
            ],
            [
             0.3333333333333333,
             "#9c179e"
            ],
            [
             0.4444444444444444,
             "#bd3786"
            ],
            [
             0.5555555555555556,
             "#d8576b"
            ],
            [
             0.6666666666666666,
             "#ed7953"
            ],
            [
             0.7777777777777778,
             "#fb9f3a"
            ],
            [
             0.8888888888888888,
             "#fdca26"
            ],
            [
             1,
             "#f0f921"
            ]
           ],
           "sequentialminus": [
            [
             0,
             "#0d0887"
            ],
            [
             0.1111111111111111,
             "#46039f"
            ],
            [
             0.2222222222222222,
             "#7201a8"
            ],
            [
             0.3333333333333333,
             "#9c179e"
            ],
            [
             0.4444444444444444,
             "#bd3786"
            ],
            [
             0.5555555555555556,
             "#d8576b"
            ],
            [
             0.6666666666666666,
             "#ed7953"
            ],
            [
             0.7777777777777778,
             "#fb9f3a"
            ],
            [
             0.8888888888888888,
             "#fdca26"
            ],
            [
             1,
             "#f0f921"
            ]
           ]
          },
          "colorway": [
           "#636efa",
           "#EF553B",
           "#00cc96",
           "#ab63fa",
           "#FFA15A",
           "#19d3f3",
           "#FF6692",
           "#B6E880",
           "#FF97FF",
           "#FECB52"
          ],
          "font": {
           "color": "#2a3f5f"
          },
          "geo": {
           "bgcolor": "white",
           "lakecolor": "white",
           "landcolor": "#E5ECF6",
           "showlakes": true,
           "showland": true,
           "subunitcolor": "white"
          },
          "hoverlabel": {
           "align": "left"
          },
          "hovermode": "closest",
          "mapbox": {
           "style": "light"
          },
          "paper_bgcolor": "white",
          "plot_bgcolor": "#E5ECF6",
          "polar": {
           "angularaxis": {
            "gridcolor": "white",
            "linecolor": "white",
            "ticks": ""
           },
           "bgcolor": "#E5ECF6",
           "radialaxis": {
            "gridcolor": "white",
            "linecolor": "white",
            "ticks": ""
           }
          },
          "scene": {
           "xaxis": {
            "backgroundcolor": "#E5ECF6",
            "gridcolor": "white",
            "gridwidth": 2,
            "linecolor": "white",
            "showbackground": true,
            "ticks": "",
            "zerolinecolor": "white"
           },
           "yaxis": {
            "backgroundcolor": "#E5ECF6",
            "gridcolor": "white",
            "gridwidth": 2,
            "linecolor": "white",
            "showbackground": true,
            "ticks": "",
            "zerolinecolor": "white"
           },
           "zaxis": {
            "backgroundcolor": "#E5ECF6",
            "gridcolor": "white",
            "gridwidth": 2,
            "linecolor": "white",
            "showbackground": true,
            "ticks": "",
            "zerolinecolor": "white"
           }
          },
          "shapedefaults": {
           "line": {
            "color": "#2a3f5f"
           }
          },
          "ternary": {
           "aaxis": {
            "gridcolor": "white",
            "linecolor": "white",
            "ticks": ""
           },
           "baxis": {
            "gridcolor": "white",
            "linecolor": "white",
            "ticks": ""
           },
           "bgcolor": "#E5ECF6",
           "caxis": {
            "gridcolor": "white",
            "linecolor": "white",
            "ticks": ""
           }
          },
          "title": {
           "x": 0.05
          },
          "xaxis": {
           "automargin": true,
           "gridcolor": "white",
           "linecolor": "white",
           "ticks": "",
           "title": {
            "standoff": 15
           },
           "zerolinecolor": "white",
           "zerolinewidth": 2
          },
          "yaxis": {
           "automargin": true,
           "gridcolor": "white",
           "linecolor": "white",
           "ticks": "",
           "title": {
            "standoff": 15
           },
           "zerolinecolor": "white",
           "zerolinewidth": 2
          }
         }
        },
        "xaxis": {
         "anchor": "y",
         "domain": [
          0,
          1
         ],
         "title": {
          "text": "time_index"
         }
        },
        "yaxis": {
         "anchor": "x",
         "domain": [
          0,
          1
         ],
         "title": {
          "text": "heartrate"
         }
        }
       }
      }
     },
     "metadata": {},
     "output_type": "display_data"
    }
   ],
   "source": [
    "fig = px.line(primer_cerdo, x='time_index', y=\"heartrate\")\n",
    "fig.show()"
   ]
  },
  {
   "cell_type": "markdown",
   "metadata": {},
   "source": [
    "Folium"
   ]
  },
  {
   "cell_type": "code",
   "execution_count": 252,
   "metadata": {},
   "outputs": [],
   "source": [
    "import geopandas\n",
    "\n",
    "animals_gdf = geopandas.GeoDataFrame(animals, geometry=\"location\", crs = \"epsg:4326\")\n",
    "last_gdf = geopandas.GeoDataFrame(animals.groupby('entity_id').last().reset_index(), geometry=\"location\", crs = \"epsg:4326\")"
   ]
  },
  {
   "cell_type": "code",
   "execution_count": 227,
   "metadata": {},
   "outputs": [
    {
     "data": {
      "text/html": [
       "<div>\n",
       "<style scoped>\n",
       "    .dataframe tbody tr th:only-of-type {\n",
       "        vertical-align: middle;\n",
       "    }\n",
       "\n",
       "    .dataframe tbody tr th {\n",
       "        vertical-align: top;\n",
       "    }\n",
       "\n",
       "    .dataframe thead th {\n",
       "        text-align: right;\n",
       "    }\n",
       "</style>\n",
       "<table border=\"1\" class=\"dataframe\">\n",
       "  <thead>\n",
       "    <tr style=\"text-align: right;\">\n",
       "      <th></th>\n",
       "      <th>entity_id</th>\n",
       "      <th>time_index</th>\n",
       "      <th>heartrate</th>\n",
       "      <th>location</th>\n",
       "      <th>status</th>\n",
       "    </tr>\n",
       "  </thead>\n",
       "  <tbody>\n",
       "    <tr>\n",
       "      <th>0</th>\n",
       "      <td>cow001</td>\n",
       "      <td>2024-05-08T16:56:21</td>\n",
       "      <td>52</td>\n",
       "      <td>POINT (13.41000 52.46900)</td>\n",
       "      <td>6</td>\n",
       "    </tr>\n",
       "    <tr>\n",
       "      <th>1</th>\n",
       "      <td>cow002</td>\n",
       "      <td>2024-05-08T16:56:26</td>\n",
       "      <td>51</td>\n",
       "      <td>POINT (13.41200 52.46800)</td>\n",
       "      <td>6</td>\n",
       "    </tr>\n",
       "    <tr>\n",
       "      <th>2</th>\n",
       "      <td>cow003</td>\n",
       "      <td>2024-05-08T16:56:26</td>\n",
       "      <td>51</td>\n",
       "      <td>POINT (13.41000 52.46900)</td>\n",
       "      <td>0</td>\n",
       "    </tr>\n",
       "    <tr>\n",
       "      <th>3</th>\n",
       "      <td>cow004</td>\n",
       "      <td>2024-05-08T16:56:21</td>\n",
       "      <td>51</td>\n",
       "      <td>POINT (13.41100 52.46500)</td>\n",
       "      <td>6</td>\n",
       "    </tr>\n",
       "    <tr>\n",
       "      <th>4</th>\n",
       "      <td>pig001</td>\n",
       "      <td>2024-05-08T16:56:21</td>\n",
       "      <td>61</td>\n",
       "      <td>POINT (13.35400 52.51700)</td>\n",
       "      <td>0</td>\n",
       "    </tr>\n",
       "    <tr>\n",
       "      <th>5</th>\n",
       "      <td>pig002</td>\n",
       "      <td>2024-05-08T16:56:26</td>\n",
       "      <td>64</td>\n",
       "      <td>POINT (13.35400 52.51400)</td>\n",
       "      <td>3</td>\n",
       "    </tr>\n",
       "    <tr>\n",
       "      <th>6</th>\n",
       "      <td>pig003</td>\n",
       "      <td>2024-05-08T16:56:26</td>\n",
       "      <td>62</td>\n",
       "      <td>POINT (13.35300 52.52000)</td>\n",
       "      <td>0</td>\n",
       "    </tr>\n",
       "    <tr>\n",
       "      <th>7</th>\n",
       "      <td>pig004</td>\n",
       "      <td>2024-05-08T16:56:26</td>\n",
       "      <td>64</td>\n",
       "      <td>POINT (13.35300 52.51500)</td>\n",
       "      <td>5</td>\n",
       "    </tr>\n",
       "  </tbody>\n",
       "</table>\n",
       "</div>"
      ],
      "text/plain": [
       "  entity_id           time_index  heartrate                   location  status\n",
       "0    cow001  2024-05-08T16:56:21         52  POINT (13.41000 52.46900)       6\n",
       "1    cow002  2024-05-08T16:56:26         51  POINT (13.41200 52.46800)       6\n",
       "2    cow003  2024-05-08T16:56:26         51  POINT (13.41000 52.46900)       0\n",
       "3    cow004  2024-05-08T16:56:21         51  POINT (13.41100 52.46500)       6\n",
       "4    pig001  2024-05-08T16:56:21         61  POINT (13.35400 52.51700)       0\n",
       "5    pig002  2024-05-08T16:56:26         64  POINT (13.35400 52.51400)       3\n",
       "6    pig003  2024-05-08T16:56:26         62  POINT (13.35300 52.52000)       0\n",
       "7    pig004  2024-05-08T16:56:26         64  POINT (13.35300 52.51500)       5"
      ]
     },
     "execution_count": 227,
     "metadata": {},
     "output_type": "execute_result"
    }
   ],
   "source": [
    "last_gdf"
   ]
  },
  {
   "cell_type": "code",
   "execution_count": 219,
   "metadata": {},
   "outputs": [
    {
     "data": {
      "text/plain": [
       "<folium.features.GeoJson at 0x20885111ee0>"
      ]
     },
     "execution_count": 219,
     "metadata": {},
     "output_type": "execute_result"
    }
   ],
   "source": [
    "m = folium.Map()\n",
    "folium.GeoJson(\n",
    "    last_gdf, name=\"Animals\",\n",
    "    marker=folium.Marker(),\n",
    "    tooltip=folium.GeoJsonTooltip(fields=[\"entity_id\", \"heartrate\", \"status\"]),\n",
    "    popup=folium.GeoJsonPopup(fields=[\"entity_id\", \"heartrate\", \"status\"]),\n",
    "    zoom_on_click=True,\n",
    ").add_to(m)"
   ]
  },
  {
   "cell_type": "code",
   "execution_count": 220,
   "metadata": {},
   "outputs": [
    {
     "data": {
      "text/html": [
       "<div style=\"width:100%;\"><div style=\"position:relative;width:100%;height:0;padding-bottom:60%;\"><span style=\"color:#565656\">Make this Notebook Trusted to load map: File -> Trust Notebook</span><iframe srcdoc=\"&lt;!DOCTYPE html&gt;\n",
       "&lt;html&gt;\n",
       "&lt;head&gt;\n",
       "    \n",
       "    &lt;meta http-equiv=&quot;content-type&quot; content=&quot;text/html; charset=UTF-8&quot; /&gt;\n",
       "    \n",
       "        &lt;script&gt;\n",
       "            L_NO_TOUCH = false;\n",
       "            L_DISABLE_3D = false;\n",
       "        &lt;/script&gt;\n",
       "    \n",
       "    &lt;style&gt;html, body {width: 100%;height: 100%;margin: 0;padding: 0;}&lt;/style&gt;\n",
       "    &lt;style&gt;#map {position:absolute;top:0;bottom:0;right:0;left:0;}&lt;/style&gt;\n",
       "    &lt;script src=&quot;https://cdn.jsdelivr.net/npm/leaflet@1.9.3/dist/leaflet.js&quot;&gt;&lt;/script&gt;\n",
       "    &lt;script src=&quot;https://code.jquery.com/jquery-3.7.1.min.js&quot;&gt;&lt;/script&gt;\n",
       "    &lt;script src=&quot;https://cdn.jsdelivr.net/npm/bootstrap@5.2.2/dist/js/bootstrap.bundle.min.js&quot;&gt;&lt;/script&gt;\n",
       "    &lt;script src=&quot;https://cdnjs.cloudflare.com/ajax/libs/Leaflet.awesome-markers/2.0.2/leaflet.awesome-markers.js&quot;&gt;&lt;/script&gt;\n",
       "    &lt;link rel=&quot;stylesheet&quot; href=&quot;https://cdn.jsdelivr.net/npm/leaflet@1.9.3/dist/leaflet.css&quot;/&gt;\n",
       "    &lt;link rel=&quot;stylesheet&quot; href=&quot;https://cdn.jsdelivr.net/npm/bootstrap@5.2.2/dist/css/bootstrap.min.css&quot;/&gt;\n",
       "    &lt;link rel=&quot;stylesheet&quot; href=&quot;https://netdna.bootstrapcdn.com/bootstrap/3.0.0/css/bootstrap.min.css&quot;/&gt;\n",
       "    &lt;link rel=&quot;stylesheet&quot; href=&quot;https://cdn.jsdelivr.net/npm/@fortawesome/fontawesome-free@6.2.0/css/all.min.css&quot;/&gt;\n",
       "    &lt;link rel=&quot;stylesheet&quot; href=&quot;https://cdnjs.cloudflare.com/ajax/libs/Leaflet.awesome-markers/2.0.2/leaflet.awesome-markers.css&quot;/&gt;\n",
       "    &lt;link rel=&quot;stylesheet&quot; href=&quot;https://cdn.jsdelivr.net/gh/python-visualization/folium/folium/templates/leaflet.awesome.rotate.min.css&quot;/&gt;\n",
       "    \n",
       "            &lt;meta name=&quot;viewport&quot; content=&quot;width=device-width,\n",
       "                initial-scale=1.0, maximum-scale=1.0, user-scalable=no&quot; /&gt;\n",
       "            &lt;style&gt;\n",
       "                #map_d80af79c738538559d6a491e3db3dae3 {\n",
       "                    position: relative;\n",
       "                    width: 100.0%;\n",
       "                    height: 100.0%;\n",
       "                    left: 0.0%;\n",
       "                    top: 0.0%;\n",
       "                }\n",
       "                .leaflet-container { font-size: 1rem; }\n",
       "            &lt;/style&gt;\n",
       "        \n",
       "    \n",
       "                    &lt;style&gt;\n",
       "                        .foliumtooltip {\n",
       "                            \n",
       "                        }\n",
       "                       .foliumtooltip table{\n",
       "                            margin: auto;\n",
       "                        }\n",
       "                        .foliumtooltip tr{\n",
       "                            text-align: left;\n",
       "                        }\n",
       "                        .foliumtooltip th{\n",
       "                            padding: 2px; padding-right: 8px;\n",
       "                        }\n",
       "                    &lt;/style&gt;\n",
       "            \n",
       "    \n",
       "                    &lt;style&gt;\n",
       "                        .foliumpopup {\n",
       "                            margin: auto;\n",
       "                        }\n",
       "                       .foliumpopup table{\n",
       "                            margin: auto;\n",
       "                        }\n",
       "                        .foliumpopup tr{\n",
       "                            text-align: left;\n",
       "                        }\n",
       "                        .foliumpopup th{\n",
       "                            padding: 2px; padding-right: 8px;\n",
       "                        }\n",
       "                    &lt;/style&gt;\n",
       "            \n",
       "&lt;/head&gt;\n",
       "&lt;body&gt;\n",
       "    \n",
       "    \n",
       "            &lt;div class=&quot;folium-map&quot; id=&quot;map_d80af79c738538559d6a491e3db3dae3&quot; &gt;&lt;/div&gt;\n",
       "        \n",
       "&lt;/body&gt;\n",
       "&lt;script&gt;\n",
       "    \n",
       "    \n",
       "            var map_d80af79c738538559d6a491e3db3dae3 = L.map(\n",
       "                &quot;map_d80af79c738538559d6a491e3db3dae3&quot;,\n",
       "                {\n",
       "                    center: [0.0, 0.0],\n",
       "                    crs: L.CRS.EPSG3857,\n",
       "                    zoom: 1,\n",
       "                    zoomControl: true,\n",
       "                    preferCanvas: false,\n",
       "                }\n",
       "            );\n",
       "\n",
       "            \n",
       "\n",
       "        \n",
       "    \n",
       "            var tile_layer_4c4bc116ddd372013df23c899a4e0071 = L.tileLayer(\n",
       "                &quot;https://tile.openstreetmap.org/{z}/{x}/{y}.png&quot;,\n",
       "                {&quot;attribution&quot;: &quot;\\u0026copy; \\u003ca href=\\&quot;https://www.openstreetmap.org/copyright\\&quot;\\u003eOpenStreetMap\\u003c/a\\u003e contributors&quot;, &quot;detectRetina&quot;: false, &quot;maxNativeZoom&quot;: 19, &quot;maxZoom&quot;: 19, &quot;minZoom&quot;: 0, &quot;noWrap&quot;: false, &quot;opacity&quot;: 1, &quot;subdomains&quot;: &quot;abc&quot;, &quot;tms&quot;: false}\n",
       "            );\n",
       "        \n",
       "    \n",
       "            tile_layer_4c4bc116ddd372013df23c899a4e0071.addTo(map_d80af79c738538559d6a491e3db3dae3);\n",
       "        \n",
       "    \n",
       "        function geo_json_8958524bee5f87a9be34820489c44b37_pointToLayer(feature, latlng) {\n",
       "            var opts = {};\n",
       "            \n",
       "            return new L.Marker(latlng, opts)\n",
       "        }\n",
       "\n",
       "        function geo_json_8958524bee5f87a9be34820489c44b37_onEachFeature(feature, layer) {\n",
       "            layer.on({\n",
       "                click: function(e) {\n",
       "                    if (typeof e.target.getBounds === &#x27;function&#x27;) {\n",
       "                        map_d80af79c738538559d6a491e3db3dae3.fitBounds(e.target.getBounds());\n",
       "                    }\n",
       "                    else if (typeof e.target.getLatLng === &#x27;function&#x27;){\n",
       "                        let zoom = map_d80af79c738538559d6a491e3db3dae3.getZoom()\n",
       "                        zoom = zoom &gt; 12 ? zoom : zoom + 1\n",
       "                        map_d80af79c738538559d6a491e3db3dae3.flyTo(e.target.getLatLng(), zoom)\n",
       "                    }\n",
       "                }\n",
       "            });\n",
       "        };\n",
       "        var geo_json_8958524bee5f87a9be34820489c44b37 = L.geoJson(null, {\n",
       "                onEachFeature: geo_json_8958524bee5f87a9be34820489c44b37_onEachFeature,\n",
       "            \n",
       "                pointToLayer: geo_json_8958524bee5f87a9be34820489c44b37_pointToLayer,\n",
       "        });\n",
       "\n",
       "        function geo_json_8958524bee5f87a9be34820489c44b37_add (data) {\n",
       "            geo_json_8958524bee5f87a9be34820489c44b37\n",
       "                .addData(data);\n",
       "        }\n",
       "            geo_json_8958524bee5f87a9be34820489c44b37_add({&quot;bbox&quot;: [13.353, 52.465, 13.412, 52.52], &quot;features&quot;: [{&quot;bbox&quot;: [13.41, 52.469, 13.41, 52.469], &quot;geometry&quot;: {&quot;coordinates&quot;: [13.41, 52.469], &quot;type&quot;: &quot;Point&quot;}, &quot;id&quot;: &quot;0&quot;, &quot;properties&quot;: {&quot;entity_id&quot;: &quot;cow001&quot;, &quot;heartrate&quot;: 52, &quot;status&quot;: 6, &quot;time_index&quot;: &quot;2024-05-08T16:56:21Z&quot;}, &quot;type&quot;: &quot;Feature&quot;}, {&quot;bbox&quot;: [13.412, 52.468, 13.412, 52.468], &quot;geometry&quot;: {&quot;coordinates&quot;: [13.412, 52.468], &quot;type&quot;: &quot;Point&quot;}, &quot;id&quot;: &quot;1&quot;, &quot;properties&quot;: {&quot;entity_id&quot;: &quot;cow002&quot;, &quot;heartrate&quot;: 51, &quot;status&quot;: 6, &quot;time_index&quot;: &quot;2024-05-08T16:56:26Z&quot;}, &quot;type&quot;: &quot;Feature&quot;}, {&quot;bbox&quot;: [13.41, 52.469, 13.41, 52.469], &quot;geometry&quot;: {&quot;coordinates&quot;: [13.41, 52.469], &quot;type&quot;: &quot;Point&quot;}, &quot;id&quot;: &quot;2&quot;, &quot;properties&quot;: {&quot;entity_id&quot;: &quot;cow003&quot;, &quot;heartrate&quot;: 51, &quot;status&quot;: 0, &quot;time_index&quot;: &quot;2024-05-08T16:56:26Z&quot;}, &quot;type&quot;: &quot;Feature&quot;}, {&quot;bbox&quot;: [13.411, 52.465, 13.411, 52.465], &quot;geometry&quot;: {&quot;coordinates&quot;: [13.411, 52.465], &quot;type&quot;: &quot;Point&quot;}, &quot;id&quot;: &quot;3&quot;, &quot;properties&quot;: {&quot;entity_id&quot;: &quot;cow004&quot;, &quot;heartrate&quot;: 51, &quot;status&quot;: 6, &quot;time_index&quot;: &quot;2024-05-08T16:56:21Z&quot;}, &quot;type&quot;: &quot;Feature&quot;}, {&quot;bbox&quot;: [13.354, 52.517, 13.354, 52.517], &quot;geometry&quot;: {&quot;coordinates&quot;: [13.354, 52.517], &quot;type&quot;: &quot;Point&quot;}, &quot;id&quot;: &quot;4&quot;, &quot;properties&quot;: {&quot;entity_id&quot;: &quot;pig001&quot;, &quot;heartrate&quot;: 61, &quot;status&quot;: 0, &quot;time_index&quot;: &quot;2024-05-08T16:56:21Z&quot;}, &quot;type&quot;: &quot;Feature&quot;}, {&quot;bbox&quot;: [13.354, 52.514, 13.354, 52.514], &quot;geometry&quot;: {&quot;coordinates&quot;: [13.354, 52.514], &quot;type&quot;: &quot;Point&quot;}, &quot;id&quot;: &quot;5&quot;, &quot;properties&quot;: {&quot;entity_id&quot;: &quot;pig002&quot;, &quot;heartrate&quot;: 64, &quot;status&quot;: 3, &quot;time_index&quot;: &quot;2024-05-08T16:56:26Z&quot;}, &quot;type&quot;: &quot;Feature&quot;}, {&quot;bbox&quot;: [13.353, 52.52, 13.353, 52.52], &quot;geometry&quot;: {&quot;coordinates&quot;: [13.353, 52.52], &quot;type&quot;: &quot;Point&quot;}, &quot;id&quot;: &quot;6&quot;, &quot;properties&quot;: {&quot;entity_id&quot;: &quot;pig003&quot;, &quot;heartrate&quot;: 62, &quot;status&quot;: 0, &quot;time_index&quot;: &quot;2024-05-08T16:56:26Z&quot;}, &quot;type&quot;: &quot;Feature&quot;}, {&quot;bbox&quot;: [13.353, 52.515, 13.353, 52.515], &quot;geometry&quot;: {&quot;coordinates&quot;: [13.353, 52.515], &quot;type&quot;: &quot;Point&quot;}, &quot;id&quot;: &quot;7&quot;, &quot;properties&quot;: {&quot;entity_id&quot;: &quot;pig004&quot;, &quot;heartrate&quot;: 64, &quot;status&quot;: 5, &quot;time_index&quot;: &quot;2024-05-08T16:56:26Z&quot;}, &quot;type&quot;: &quot;Feature&quot;}], &quot;type&quot;: &quot;FeatureCollection&quot;});\n",
       "\n",
       "        \n",
       "    \n",
       "    geo_json_8958524bee5f87a9be34820489c44b37.bindTooltip(\n",
       "    function(layer){\n",
       "    let div = L.DomUtil.create(&#x27;div&#x27;);\n",
       "    \n",
       "    let handleObject = feature=&gt;typeof(feature)==&#x27;object&#x27; ? JSON.stringify(feature) : feature;\n",
       "    let fields = [&quot;entity_id&quot;, &quot;heartrate&quot;, &quot;status&quot;];\n",
       "    let aliases = [&quot;entity_id&quot;, &quot;heartrate&quot;, &quot;status&quot;];\n",
       "    let table = &#x27;&lt;table&gt;&#x27; +\n",
       "        String(\n",
       "        fields.map(\n",
       "        (v,i)=&gt;\n",
       "        `&lt;tr&gt;\n",
       "            &lt;th&gt;${aliases[i]}&lt;/th&gt;\n",
       "            \n",
       "            &lt;td&gt;${handleObject(layer.feature.properties[v])}&lt;/td&gt;\n",
       "        &lt;/tr&gt;`).join(&#x27;&#x27;))\n",
       "    +&#x27;&lt;/table&gt;&#x27;;\n",
       "    div.innerHTML=table;\n",
       "    \n",
       "    return div\n",
       "    }\n",
       "    ,{&quot;className&quot;: &quot;foliumtooltip&quot;, &quot;sticky&quot;: true});\n",
       "                     \n",
       "    \n",
       "    geo_json_8958524bee5f87a9be34820489c44b37.bindPopup(\n",
       "    function(layer){\n",
       "    let div = L.DomUtil.create(&#x27;div&#x27;);\n",
       "    \n",
       "    let handleObject = feature=&gt;typeof(feature)==&#x27;object&#x27; ? JSON.stringify(feature) : feature;\n",
       "    let fields = [&quot;entity_id&quot;, &quot;heartrate&quot;, &quot;status&quot;];\n",
       "    let aliases = [&quot;entity_id&quot;, &quot;heartrate&quot;, &quot;status&quot;];\n",
       "    let table = &#x27;&lt;table&gt;&#x27; +\n",
       "        String(\n",
       "        fields.map(\n",
       "        (v,i)=&gt;\n",
       "        `&lt;tr&gt;\n",
       "            &lt;th&gt;${aliases[i].toLocaleString()}&lt;/th&gt;\n",
       "            \n",
       "            &lt;td&gt;${handleObject(layer.feature.properties[v]).toLocaleString()}&lt;/td&gt;\n",
       "        &lt;/tr&gt;`).join(&#x27;&#x27;))\n",
       "    +&#x27;&lt;/table&gt;&#x27;;\n",
       "    div.innerHTML=table;\n",
       "    \n",
       "    return div\n",
       "    }\n",
       "    ,{&quot;className&quot;: &quot;foliumpopup&quot;});\n",
       "                     \n",
       "    \n",
       "            geo_json_8958524bee5f87a9be34820489c44b37.addTo(map_d80af79c738538559d6a491e3db3dae3);\n",
       "        \n",
       "&lt;/script&gt;\n",
       "&lt;/html&gt;\" style=\"position:absolute;width:100%;height:100%;left:0;top:0;border:none !important;\" allowfullscreen webkitallowfullscreen mozallowfullscreen></iframe></div></div>"
      ],
      "text/plain": [
       "<folium.folium.Map at 0x2088584da30>"
      ]
     },
     "execution_count": 220,
     "metadata": {},
     "output_type": "execute_result"
    }
   ],
   "source": [
    "m"
   ]
  },
  {
   "cell_type": "code",
   "execution_count": 253,
   "metadata": {},
   "outputs": [],
   "source": [
    "# Lista de características GeoJSON\n",
    "features = []\n",
    "for idx, row in animals_gdf.iterrows():\n",
    "    line_feature = {\n",
    "        \"type\": \"Feature\",\n",
    "        \"geometry\": {\n",
    "            \"type\": \"Point\",\n",
    "            \"coordinates\": [row[\"location\"].x, row[\"location\"].y],\n",
    "        },\n",
    "        \"properties\": {\n",
    "            \"time\": row[\"time_index\"],\n",
    "            \"style\": {\n",
    "                \"color\": \"blue\",\n",
    "                \"weight\": 5,\n",
    "            },\n",
    "        },\n",
    "    }\n",
    "    features.append(line_feature)"
   ]
  },
  {
   "cell_type": "code",
   "execution_count": 254,
   "metadata": {},
   "outputs": [
    {
     "data": {
      "text/plain": [
       "<folium.plugins.timestamped_geo_json.TimestampedGeoJson at 0x20884e965d0>"
      ]
     },
     "execution_count": 254,
     "metadata": {},
     "output_type": "execute_result"
    }
   ],
   "source": [
    "from folium.plugins import TimestampedGeoJson\n",
    "m2 = folium.Map()\n",
    "TimestampedGeoJson(\n",
    "    {\n",
    "        \"type\": \"FeatureCollection\",\n",
    "        \"features\": features,\n",
    "    },\n",
    "    period=\"P1M\",\n",
    "    add_last_point=True,\n",
    ").add_to(m2)"
   ]
  },
  {
   "cell_type": "code",
   "execution_count": 256,
   "metadata": {},
   "outputs": [
    {
     "data": {
      "text/html": [
       "<div style=\"width:100%;\"><div style=\"position:relative;width:100%;height:0;padding-bottom:60%;\"><span style=\"color:#565656\">Make this Notebook Trusted to load map: File -> Trust Notebook</span><iframe srcdoc=\"&lt;!DOCTYPE html&gt;\n",
       "&lt;html&gt;\n",
       "&lt;head&gt;\n",
       "    \n",
       "    &lt;meta http-equiv=&quot;content-type&quot; content=&quot;text/html; charset=UTF-8&quot; /&gt;\n",
       "    \n",
       "        &lt;script&gt;\n",
       "            L_NO_TOUCH = false;\n",
       "            L_DISABLE_3D = false;\n",
       "        &lt;/script&gt;\n",
       "    \n",
       "    &lt;style&gt;html, body {width: 100%;height: 100%;margin: 0;padding: 0;}&lt;/style&gt;\n",
       "    &lt;style&gt;#map {position:absolute;top:0;bottom:0;right:0;left:0;}&lt;/style&gt;\n",
       "    &lt;script src=&quot;https://cdn.jsdelivr.net/npm/leaflet@1.9.3/dist/leaflet.js&quot;&gt;&lt;/script&gt;\n",
       "    &lt;script src=&quot;https://code.jquery.com/jquery-3.7.1.min.js&quot;&gt;&lt;/script&gt;\n",
       "    &lt;script src=&quot;https://cdn.jsdelivr.net/npm/bootstrap@5.2.2/dist/js/bootstrap.bundle.min.js&quot;&gt;&lt;/script&gt;\n",
       "    &lt;script src=&quot;https://cdnjs.cloudflare.com/ajax/libs/Leaflet.awesome-markers/2.0.2/leaflet.awesome-markers.js&quot;&gt;&lt;/script&gt;\n",
       "    &lt;link rel=&quot;stylesheet&quot; href=&quot;https://cdn.jsdelivr.net/npm/leaflet@1.9.3/dist/leaflet.css&quot;/&gt;\n",
       "    &lt;link rel=&quot;stylesheet&quot; href=&quot;https://cdn.jsdelivr.net/npm/bootstrap@5.2.2/dist/css/bootstrap.min.css&quot;/&gt;\n",
       "    &lt;link rel=&quot;stylesheet&quot; href=&quot;https://netdna.bootstrapcdn.com/bootstrap/3.0.0/css/bootstrap.min.css&quot;/&gt;\n",
       "    &lt;link rel=&quot;stylesheet&quot; href=&quot;https://cdn.jsdelivr.net/npm/@fortawesome/fontawesome-free@6.2.0/css/all.min.css&quot;/&gt;\n",
       "    &lt;link rel=&quot;stylesheet&quot; href=&quot;https://cdnjs.cloudflare.com/ajax/libs/Leaflet.awesome-markers/2.0.2/leaflet.awesome-markers.css&quot;/&gt;\n",
       "    &lt;link rel=&quot;stylesheet&quot; href=&quot;https://cdn.jsdelivr.net/gh/python-visualization/folium/folium/templates/leaflet.awesome.rotate.min.css&quot;/&gt;\n",
       "    \n",
       "            &lt;meta name=&quot;viewport&quot; content=&quot;width=device-width,\n",
       "                initial-scale=1.0, maximum-scale=1.0, user-scalable=no&quot; /&gt;\n",
       "            &lt;style&gt;\n",
       "                #map_e2b4eb06e7f56ba58fc7d35fe94bfb13 {\n",
       "                    position: relative;\n",
       "                    width: 100.0%;\n",
       "                    height: 100.0%;\n",
       "                    left: 0.0%;\n",
       "                    top: 0.0%;\n",
       "                }\n",
       "                .leaflet-container { font-size: 1rem; }\n",
       "            &lt;/style&gt;\n",
       "        \n",
       "    &lt;script src=&quot;https://cdnjs.cloudflare.com/ajax/libs/jquery/3.7.1/jquery.min.js&quot;&gt;&lt;/script&gt;\n",
       "    &lt;script src=&quot;https://cdnjs.cloudflare.com/ajax/libs/jqueryui/1.10.2/jquery-ui.min.js&quot;&gt;&lt;/script&gt;\n",
       "    &lt;script src=&quot;https://cdn.jsdelivr.net/npm/iso8601-js-period@0.2.1/iso8601.min.js&quot;&gt;&lt;/script&gt;\n",
       "    &lt;script src=&quot;https://cdn.jsdelivr.net/npm/leaflet-timedimension@1.1.1/dist/leaflet.timedimension.min.js&quot;&gt;&lt;/script&gt;\n",
       "    &lt;script src=&quot;https://cdnjs.cloudflare.com/ajax/libs/moment.js/2.18.1/moment.min.js&quot;&gt;&lt;/script&gt;\n",
       "    &lt;link rel=&quot;stylesheet&quot; href=&quot;https://cdnjs.cloudflare.com/ajax/libs/highlight.js/8.4/styles/default.min.css&quot;/&gt;\n",
       "    &lt;link rel=&quot;stylesheet&quot; href=&quot;https://cdn.jsdelivr.net/npm/leaflet-timedimension@1.1.1/dist/leaflet.timedimension.control.css&quot;/&gt;\n",
       "&lt;/head&gt;\n",
       "&lt;body&gt;\n",
       "    \n",
       "    \n",
       "            &lt;div class=&quot;folium-map&quot; id=&quot;map_e2b4eb06e7f56ba58fc7d35fe94bfb13&quot; &gt;&lt;/div&gt;\n",
       "        \n",
       "&lt;/body&gt;\n",
       "&lt;script&gt;\n",
       "    \n",
       "    \n",
       "            var map_e2b4eb06e7f56ba58fc7d35fe94bfb13 = L.map(\n",
       "                &quot;map_e2b4eb06e7f56ba58fc7d35fe94bfb13&quot;,\n",
       "                {\n",
       "                    center: [0.0, 0.0],\n",
       "                    crs: L.CRS.EPSG3857,\n",
       "                    zoom: 1,\n",
       "                    zoomControl: true,\n",
       "                    preferCanvas: false,\n",
       "                }\n",
       "            );\n",
       "\n",
       "            \n",
       "\n",
       "        \n",
       "    \n",
       "            var tile_layer_1134bd8c509157d38720ff308a3649d5 = L.tileLayer(\n",
       "                &quot;https://tile.openstreetmap.org/{z}/{x}/{y}.png&quot;,\n",
       "                {&quot;attribution&quot;: &quot;\\u0026copy; \\u003ca href=\\&quot;https://www.openstreetmap.org/copyright\\&quot;\\u003eOpenStreetMap\\u003c/a\\u003e contributors&quot;, &quot;detectRetina&quot;: false, &quot;maxNativeZoom&quot;: 19, &quot;maxZoom&quot;: 19, &quot;minZoom&quot;: 0, &quot;noWrap&quot;: false, &quot;opacity&quot;: 1, &quot;subdomains&quot;: &quot;abc&quot;, &quot;tms&quot;: false}\n",
       "            );\n",
       "        \n",
       "    \n",
       "            tile_layer_1134bd8c509157d38720ff308a3649d5.addTo(map_e2b4eb06e7f56ba58fc7d35fe94bfb13);\n",
       "        \n",
       "    \n",
       "            L.Control.TimeDimensionCustom = L.Control.TimeDimension.extend({\n",
       "                _getDisplayDateFormat: function(date){\n",
       "                    var newdate = new moment(date);\n",
       "                    console.log(newdate)\n",
       "                    return newdate.format(&quot;YYYY-MM-DD HH:mm:ss&quot;);\n",
       "                }\n",
       "            });\n",
       "            map_e2b4eb06e7f56ba58fc7d35fe94bfb13.timeDimension = L.timeDimension(\n",
       "                {\n",
       "                    period: &quot;P1M&quot;,\n",
       "                }\n",
       "            );\n",
       "            var timeDimensionControl = new L.Control.TimeDimensionCustom(\n",
       "                {&quot;autoPlay&quot;: true, &quot;loopButton&quot;: false, &quot;maxSpeed&quot;: 10, &quot;minSpeed&quot;: 0.1, &quot;playerOptions&quot;: {&quot;loop&quot;: true, &quot;startOver&quot;: true, &quot;transitionTime&quot;: 200}, &quot;position&quot;: &quot;bottomleft&quot;, &quot;speedSlider&quot;: true, &quot;timeSliderDragUpdate&quot;: false}\n",
       "            );\n",
       "            map_e2b4eb06e7f56ba58fc7d35fe94bfb13.addControl(this.timeDimensionControl);\n",
       "\n",
       "            var geoJsonLayer = L.geoJson({&quot;type&quot;: &quot;FeatureCollection&quot;, &quot;features&quot;: [{&quot;type&quot;: &quot;Feature&quot;, &quot;geometry&quot;: {&quot;type&quot;: &quot;Point&quot;, &quot;coordinates&quot;: [13.354, 52.516]}, &quot;properties&quot;: {&quot;time&quot;: &quot;2024-05-08T16:53:56.866000+00:00&quot;, &quot;style&quot;: {&quot;color&quot;: &quot;blue&quot;, &quot;weight&quot;: 5}}}, {&quot;type&quot;: &quot;Feature&quot;, &quot;geometry&quot;: {&quot;type&quot;: &quot;Point&quot;, &quot;coordinates&quot;: [13.41, 52.469]}, &quot;properties&quot;: {&quot;time&quot;: &quot;2024-05-08T16:53:56.870000+00:00&quot;, &quot;style&quot;: {&quot;color&quot;: &quot;blue&quot;, &quot;weight&quot;: 5}}}, {&quot;type&quot;: &quot;Feature&quot;, &quot;geometry&quot;: {&quot;type&quot;: &quot;Point&quot;, &quot;coordinates&quot;: [13.41, 52.469]}, &quot;properties&quot;: {&quot;time&quot;: &quot;2024-05-08T16:53:56.872000+00:00&quot;, &quot;style&quot;: {&quot;color&quot;: &quot;blue&quot;, &quot;weight&quot;: 5}}}, {&quot;type&quot;: &quot;Feature&quot;, &quot;geometry&quot;: {&quot;type&quot;: &quot;Point&quot;, &quot;coordinates&quot;: [13.408, 52.468]}, &quot;properties&quot;: {&quot;time&quot;: &quot;2024-05-08T16:53:56.880000+00:00&quot;, &quot;style&quot;: {&quot;color&quot;: &quot;blue&quot;, &quot;weight&quot;: 5}}}, {&quot;type&quot;: &quot;Feature&quot;, &quot;geometry&quot;: {&quot;type&quot;: &quot;Point&quot;, &quot;coordinates&quot;: [13.356, 52.515]}, &quot;properties&quot;: {&quot;time&quot;: &quot;2024-05-08T16:53:56.884000+00:00&quot;, &quot;style&quot;: {&quot;color&quot;: &quot;blue&quot;, &quot;weight&quot;: 5}}}, {&quot;type&quot;: &quot;Feature&quot;, &quot;geometry&quot;: {&quot;type&quot;: &quot;Point&quot;, &quot;coordinates&quot;: [13.357, 52.514]}, &quot;properties&quot;: {&quot;time&quot;: &quot;2024-05-08T16:53:56.888000+00:00&quot;, &quot;style&quot;: {&quot;color&quot;: &quot;blue&quot;, &quot;weight&quot;: 5}}}, {&quot;type&quot;: &quot;Feature&quot;, &quot;geometry&quot;: {&quot;type&quot;: &quot;Point&quot;, &quot;coordinates&quot;: [13.355, 52.515]}, &quot;properties&quot;: {&quot;time&quot;: &quot;2024-05-08T16:53:56.893000+00:00&quot;, &quot;style&quot;: {&quot;color&quot;: &quot;blue&quot;, &quot;weight&quot;: 5}}}, {&quot;type&quot;: &quot;Feature&quot;, &quot;geometry&quot;: {&quot;type&quot;: &quot;Point&quot;, &quot;coordinates&quot;: [13.41, 52.468]}, &quot;properties&quot;: {&quot;time&quot;: &quot;2024-05-08T16:53:56.897000+00:00&quot;, &quot;style&quot;: {&quot;color&quot;: &quot;blue&quot;, &quot;weight&quot;: 5}}}, {&quot;type&quot;: &quot;Feature&quot;, &quot;geometry&quot;: {&quot;type&quot;: &quot;Point&quot;, &quot;coordinates&quot;: [13.356, 52.515]}, &quot;properties&quot;: {&quot;time&quot;: &quot;2024-05-08T16:54:01.776000+00:00&quot;, &quot;style&quot;: {&quot;color&quot;: &quot;blue&quot;, &quot;weight&quot;: 5}}}, {&quot;type&quot;: &quot;Feature&quot;, &quot;geometry&quot;: {&quot;type&quot;: &quot;Point&quot;, &quot;coordinates&quot;: [13.353, 52.516]}, &quot;properties&quot;: {&quot;time&quot;: &quot;2024-05-08T16:54:01.780000+00:00&quot;, &quot;style&quot;: {&quot;color&quot;: &quot;blue&quot;, &quot;weight&quot;: 5}}}, {&quot;type&quot;: &quot;Feature&quot;, &quot;geometry&quot;: {&quot;type&quot;: &quot;Point&quot;, &quot;coordinates&quot;: [13.355, 52.515]}, &quot;properties&quot;: {&quot;time&quot;: &quot;2024-05-08T16:54:01.785000+00:00&quot;, &quot;style&quot;: {&quot;color&quot;: &quot;blue&quot;, &quot;weight&quot;: 5}}}, {&quot;type&quot;: &quot;Feature&quot;, &quot;geometry&quot;: {&quot;type&quot;: &quot;Point&quot;, &quot;coordinates&quot;: [13.41, 52.469]}, &quot;properties&quot;: {&quot;time&quot;: &quot;2024-05-08T16:54:01.788000+00:00&quot;, &quot;style&quot;: {&quot;color&quot;: &quot;blue&quot;, &quot;weight&quot;: 5}}}, {&quot;type&quot;: &quot;Feature&quot;, &quot;geometry&quot;: {&quot;type&quot;: &quot;Point&quot;, &quot;coordinates&quot;: [13.356, 52.515]}, &quot;properties&quot;: {&quot;time&quot;: &quot;2024-05-08T16:54:06.820000+00:00&quot;, &quot;style&quot;: {&quot;color&quot;: &quot;blue&quot;, &quot;weight&quot;: 5}}}, {&quot;type&quot;: &quot;Feature&quot;, &quot;geometry&quot;: {&quot;type&quot;: &quot;Point&quot;, &quot;coordinates&quot;: [13.357, 52.514]}, &quot;properties&quot;: {&quot;time&quot;: &quot;2024-05-08T16:54:06.822000+00:00&quot;, &quot;style&quot;: {&quot;color&quot;: &quot;blue&quot;, &quot;weight&quot;: 5}}}, {&quot;type&quot;: &quot;Feature&quot;, &quot;geometry&quot;: {&quot;type&quot;: &quot;Point&quot;, &quot;coordinates&quot;: [13.354, 52.515]}, &quot;properties&quot;: {&quot;time&quot;: &quot;2024-05-08T16:54:06.824000+00:00&quot;, &quot;style&quot;: {&quot;color&quot;: &quot;blue&quot;, &quot;weight&quot;: 5}}}, {&quot;type&quot;: &quot;Feature&quot;, &quot;geometry&quot;: {&quot;type&quot;: &quot;Point&quot;, &quot;coordinates&quot;: [13.408, 52.468]}, &quot;properties&quot;: {&quot;time&quot;: &quot;2024-05-08T16:54:06.831000+00:00&quot;, &quot;style&quot;: {&quot;color&quot;: &quot;blue&quot;, &quot;weight&quot;: 5}}}, {&quot;type&quot;: &quot;Feature&quot;, &quot;geometry&quot;: {&quot;type&quot;: &quot;Point&quot;, &quot;coordinates&quot;: [13.41, 52.468]}, &quot;properties&quot;: {&quot;time&quot;: &quot;2024-05-08T16:54:06.834000+00:00&quot;, &quot;style&quot;: {&quot;color&quot;: &quot;blue&quot;, &quot;weight&quot;: 5}}}, {&quot;type&quot;: &quot;Feature&quot;, &quot;geometry&quot;: {&quot;type&quot;: &quot;Point&quot;, &quot;coordinates&quot;: [13.354, 52.515]}, &quot;properties&quot;: {&quot;time&quot;: &quot;2024-05-08T16:54:11.763000+00:00&quot;, &quot;style&quot;: {&quot;color&quot;: &quot;blue&quot;, &quot;weight&quot;: 5}}}, {&quot;type&quot;: &quot;Feature&quot;, &quot;geometry&quot;: {&quot;type&quot;: &quot;Point&quot;, &quot;coordinates&quot;: [13.355, 52.515]}, &quot;properties&quot;: {&quot;time&quot;: &quot;2024-05-08T16:54:11.765000+00:00&quot;, &quot;style&quot;: {&quot;color&quot;: &quot;blue&quot;, &quot;weight&quot;: 5}}}, {&quot;type&quot;: &quot;Feature&quot;, &quot;geometry&quot;: {&quot;type&quot;: &quot;Point&quot;, &quot;coordinates&quot;: [13.41, 52.469]}, &quot;properties&quot;: {&quot;time&quot;: &quot;2024-05-08T16:54:11.767000+00:00&quot;, &quot;style&quot;: {&quot;color&quot;: &quot;blue&quot;, &quot;weight&quot;: 5}}}, {&quot;type&quot;: &quot;Feature&quot;, &quot;geometry&quot;: {&quot;type&quot;: &quot;Point&quot;, &quot;coordinates&quot;: [13.408, 52.468]}, &quot;properties&quot;: {&quot;time&quot;: &quot;2024-05-08T16:54:11.769000+00:00&quot;, &quot;style&quot;: {&quot;color&quot;: &quot;blue&quot;, &quot;weight&quot;: 5}}}, {&quot;type&quot;: &quot;Feature&quot;, &quot;geometry&quot;: {&quot;type&quot;: &quot;Point&quot;, &quot;coordinates&quot;: [13.41, 52.469]}, &quot;properties&quot;: {&quot;time&quot;: &quot;2024-05-08T16:54:11.772000+00:00&quot;, &quot;style&quot;: {&quot;color&quot;: &quot;blue&quot;, &quot;weight&quot;: 5}}}, {&quot;type&quot;: &quot;Feature&quot;, &quot;geometry&quot;: {&quot;type&quot;: &quot;Point&quot;, &quot;coordinates&quot;: [13.41, 52.468]}, &quot;properties&quot;: {&quot;time&quot;: &quot;2024-05-08T16:54:11.773000+00:00&quot;, &quot;style&quot;: {&quot;color&quot;: &quot;blue&quot;, &quot;weight&quot;: 5}}}, {&quot;type&quot;: &quot;Feature&quot;, &quot;geometry&quot;: {&quot;type&quot;: &quot;Point&quot;, &quot;coordinates&quot;: [13.356, 52.515]}, &quot;properties&quot;: {&quot;time&quot;: &quot;2024-05-08T16:54:16.793000+00:00&quot;, &quot;style&quot;: {&quot;color&quot;: &quot;blue&quot;, &quot;weight&quot;: 5}}}, {&quot;type&quot;: &quot;Feature&quot;, &quot;geometry&quot;: {&quot;type&quot;: &quot;Point&quot;, &quot;coordinates&quot;: [13.357, 52.514]}, &quot;properties&quot;: {&quot;time&quot;: &quot;2024-05-08T16:54:16.796000+00:00&quot;, &quot;style&quot;: {&quot;color&quot;: &quot;blue&quot;, &quot;weight&quot;: 5}}}, {&quot;type&quot;: &quot;Feature&quot;, &quot;geometry&quot;: {&quot;type&quot;: &quot;Point&quot;, &quot;coordinates&quot;: [13.353, 52.515]}, &quot;properties&quot;: {&quot;time&quot;: &quot;2024-05-08T16:54:16.801000+00:00&quot;, &quot;style&quot;: {&quot;color&quot;: &quot;blue&quot;, &quot;weight&quot;: 5}}}, {&quot;type&quot;: &quot;Feature&quot;, &quot;geometry&quot;: {&quot;type&quot;: &quot;Point&quot;, &quot;coordinates&quot;: [13.355, 52.515]}, &quot;properties&quot;: {&quot;time&quot;: &quot;2024-05-08T16:54:16.808000+00:00&quot;, &quot;style&quot;: {&quot;color&quot;: &quot;blue&quot;, &quot;weight&quot;: 5}}}, {&quot;type&quot;: &quot;Feature&quot;, &quot;geometry&quot;: {&quot;type&quot;: &quot;Point&quot;, &quot;coordinates&quot;: [13.408, 52.468]}, &quot;properties&quot;: {&quot;time&quot;: &quot;2024-05-08T16:54:16.811000+00:00&quot;, &quot;style&quot;: {&quot;color&quot;: &quot;blue&quot;, &quot;weight&quot;: 5}}}, {&quot;type&quot;: &quot;Feature&quot;, &quot;geometry&quot;: {&quot;type&quot;: &quot;Point&quot;, &quot;coordinates&quot;: [13.41, 52.468]}, &quot;properties&quot;: {&quot;time&quot;: &quot;2024-05-08T16:54:16.816000+00:00&quot;, &quot;style&quot;: {&quot;color&quot;: &quot;blue&quot;, &quot;weight&quot;: 5}}}, {&quot;type&quot;: &quot;Feature&quot;, &quot;geometry&quot;: {&quot;type&quot;: &quot;Point&quot;, &quot;coordinates&quot;: [13.357, 52.514]}, &quot;properties&quot;: {&quot;time&quot;: &quot;2024-05-08T16:54:21.789000+00:00&quot;, &quot;style&quot;: {&quot;color&quot;: &quot;blue&quot;, &quot;weight&quot;: 5}}}, {&quot;type&quot;: &quot;Feature&quot;, &quot;geometry&quot;: {&quot;type&quot;: &quot;Point&quot;, &quot;coordinates&quot;: [13.353, 52.516]}, &quot;properties&quot;: {&quot;time&quot;: &quot;2024-05-08T16:54:21.790000+00:00&quot;, &quot;style&quot;: {&quot;color&quot;: &quot;blue&quot;, &quot;weight&quot;: 5}}}, {&quot;type&quot;: &quot;Feature&quot;, &quot;geometry&quot;: {&quot;type&quot;: &quot;Point&quot;, &quot;coordinates&quot;: [13.355, 52.515]}, &quot;properties&quot;: {&quot;time&quot;: &quot;2024-05-08T16:54:21.792000+00:00&quot;, &quot;style&quot;: {&quot;color&quot;: &quot;blue&quot;, &quot;weight&quot;: 5}}}, {&quot;type&quot;: &quot;Feature&quot;, &quot;geometry&quot;: {&quot;type&quot;: &quot;Point&quot;, &quot;coordinates&quot;: [13.41, 52.469]}, &quot;properties&quot;: {&quot;time&quot;: &quot;2024-05-08T16:54:21.794000+00:00&quot;, &quot;style&quot;: {&quot;color&quot;: &quot;blue&quot;, &quot;weight&quot;: 5}}}, {&quot;type&quot;: &quot;Feature&quot;, &quot;geometry&quot;: {&quot;type&quot;: &quot;Point&quot;, &quot;coordinates&quot;: [13.407, 52.468]}, &quot;properties&quot;: {&quot;time&quot;: &quot;2024-05-08T16:54:21.797000+00:00&quot;, &quot;style&quot;: {&quot;color&quot;: &quot;blue&quot;, &quot;weight&quot;: 5}}}, {&quot;type&quot;: &quot;Feature&quot;, &quot;geometry&quot;: {&quot;type&quot;: &quot;Point&quot;, &quot;coordinates&quot;: [13.356, 52.515]}, &quot;properties&quot;: {&quot;time&quot;: &quot;2024-05-08T16:54:21.804000+00:00&quot;, &quot;style&quot;: {&quot;color&quot;: &quot;blue&quot;, &quot;weight&quot;: 5}}}, {&quot;type&quot;: &quot;Feature&quot;, &quot;geometry&quot;: {&quot;type&quot;: &quot;Point&quot;, &quot;coordinates&quot;: [13.41, 52.468]}, &quot;properties&quot;: {&quot;time&quot;: &quot;2024-05-08T16:54:21.808000+00:00&quot;, &quot;style&quot;: {&quot;color&quot;: &quot;blue&quot;, &quot;weight&quot;: 5}}}, {&quot;type&quot;: &quot;Feature&quot;, &quot;geometry&quot;: {&quot;type&quot;: &quot;Point&quot;, &quot;coordinates&quot;: [13.41, 52.469]}, &quot;properties&quot;: {&quot;time&quot;: &quot;2024-05-08T16:54:21.809000+00:00&quot;, &quot;style&quot;: {&quot;color&quot;: &quot;blue&quot;, &quot;weight&quot;: 5}}}, {&quot;type&quot;: &quot;Feature&quot;, &quot;geometry&quot;: {&quot;type&quot;: &quot;Point&quot;, &quot;coordinates&quot;: [13.357, 52.514]}, &quot;properties&quot;: {&quot;time&quot;: &quot;2024-05-08T16:54:26.875000+00:00&quot;, &quot;style&quot;: {&quot;color&quot;: &quot;blue&quot;, &quot;weight&quot;: 5}}}, {&quot;type&quot;: &quot;Feature&quot;, &quot;geometry&quot;: {&quot;type&quot;: &quot;Point&quot;, &quot;coordinates&quot;: [13.353, 52.517]}, &quot;properties&quot;: {&quot;time&quot;: &quot;2024-05-08T16:54:26.896000+00:00&quot;, &quot;style&quot;: {&quot;color&quot;: &quot;blue&quot;, &quot;weight&quot;: 5}}}, {&quot;type&quot;: &quot;Feature&quot;, &quot;geometry&quot;: {&quot;type&quot;: &quot;Point&quot;, &quot;coordinates&quot;: [13.355, 52.515]}, &quot;properties&quot;: {&quot;time&quot;: &quot;2024-05-08T16:54:26.900000+00:00&quot;, &quot;style&quot;: {&quot;color&quot;: &quot;blue&quot;, &quot;weight&quot;: 5}}}, {&quot;type&quot;: &quot;Feature&quot;, &quot;geometry&quot;: {&quot;type&quot;: &quot;Point&quot;, &quot;coordinates&quot;: [13.41, 52.469]}, &quot;properties&quot;: {&quot;time&quot;: &quot;2024-05-08T16:54:26.912000+00:00&quot;, &quot;style&quot;: {&quot;color&quot;: &quot;blue&quot;, &quot;weight&quot;: 5}}}, {&quot;type&quot;: &quot;Feature&quot;, &quot;geometry&quot;: {&quot;type&quot;: &quot;Point&quot;, &quot;coordinates&quot;: [13.406, 52.468]}, &quot;properties&quot;: {&quot;time&quot;: &quot;2024-05-08T16:54:26.914000+00:00&quot;, &quot;style&quot;: {&quot;color&quot;: &quot;blue&quot;, &quot;weight&quot;: 5}}}, {&quot;type&quot;: &quot;Feature&quot;, &quot;geometry&quot;: {&quot;type&quot;: &quot;Point&quot;, &quot;coordinates&quot;: [13.41, 52.469]}, &quot;properties&quot;: {&quot;time&quot;: &quot;2024-05-08T16:54:26.927000+00:00&quot;, &quot;style&quot;: {&quot;color&quot;: &quot;blue&quot;, &quot;weight&quot;: 5}}}, {&quot;type&quot;: &quot;Feature&quot;, &quot;geometry&quot;: {&quot;type&quot;: &quot;Point&quot;, &quot;coordinates&quot;: [13.353, 52.517]}, &quot;properties&quot;: {&quot;time&quot;: &quot;2024-05-08T16:54:31.797000+00:00&quot;, &quot;style&quot;: {&quot;color&quot;: &quot;blue&quot;, &quot;weight&quot;: 5}}}, {&quot;type&quot;: &quot;Feature&quot;, &quot;geometry&quot;: {&quot;type&quot;: &quot;Point&quot;, &quot;coordinates&quot;: [13.407, 52.468]}, &quot;properties&quot;: {&quot;time&quot;: &quot;2024-05-08T16:54:31.808000+00:00&quot;, &quot;style&quot;: {&quot;color&quot;: &quot;blue&quot;, &quot;weight&quot;: 5}}}, {&quot;type&quot;: &quot;Feature&quot;, &quot;geometry&quot;: {&quot;type&quot;: &quot;Point&quot;, &quot;coordinates&quot;: [13.41, 52.468]}, &quot;properties&quot;: {&quot;time&quot;: &quot;2024-05-08T16:54:31.826000+00:00&quot;, &quot;style&quot;: {&quot;color&quot;: &quot;blue&quot;, &quot;weight&quot;: 5}}}, {&quot;type&quot;: &quot;Feature&quot;, &quot;geometry&quot;: {&quot;type&quot;: &quot;Point&quot;, &quot;coordinates&quot;: [13.356, 52.515]}, &quot;properties&quot;: {&quot;time&quot;: &quot;2024-05-08T16:54:36.967000+00:00&quot;, &quot;style&quot;: {&quot;color&quot;: &quot;blue&quot;, &quot;weight&quot;: 5}}}, {&quot;type&quot;: &quot;Feature&quot;, &quot;geometry&quot;: {&quot;type&quot;: &quot;Point&quot;, &quot;coordinates&quot;: [13.357, 52.514]}, &quot;properties&quot;: {&quot;time&quot;: &quot;2024-05-08T16:54:36.972000+00:00&quot;, &quot;style&quot;: {&quot;color&quot;: &quot;blue&quot;, &quot;weight&quot;: 5}}}, {&quot;type&quot;: &quot;Feature&quot;, &quot;geometry&quot;: {&quot;type&quot;: &quot;Point&quot;, &quot;coordinates&quot;: [13.352, 52.518]}, &quot;properties&quot;: {&quot;time&quot;: &quot;2024-05-08T16:54:36.977000+00:00&quot;, &quot;style&quot;: {&quot;color&quot;: &quot;blue&quot;, &quot;weight&quot;: 5}}}, {&quot;type&quot;: &quot;Feature&quot;, &quot;geometry&quot;: {&quot;type&quot;: &quot;Point&quot;, &quot;coordinates&quot;: [13.355, 52.515]}, &quot;properties&quot;: {&quot;time&quot;: &quot;2024-05-08T16:54:36.988000+00:00&quot;, &quot;style&quot;: {&quot;color&quot;: &quot;blue&quot;, &quot;weight&quot;: 5}}}, {&quot;type&quot;: &quot;Feature&quot;, &quot;geometry&quot;: {&quot;type&quot;: &quot;Point&quot;, &quot;coordinates&quot;: [13.41, 52.469]}, &quot;properties&quot;: {&quot;time&quot;: &quot;2024-05-08T16:54:36.993000+00:00&quot;, &quot;style&quot;: {&quot;color&quot;: &quot;blue&quot;, &quot;weight&quot;: 5}}}, {&quot;type&quot;: &quot;Feature&quot;, &quot;geometry&quot;: {&quot;type&quot;: &quot;Point&quot;, &quot;coordinates&quot;: [13.408, 52.468]}, &quot;properties&quot;: {&quot;time&quot;: &quot;2024-05-08T16:54:37.026000+00:00&quot;, &quot;style&quot;: {&quot;color&quot;: &quot;blue&quot;, &quot;weight&quot;: 5}}}, {&quot;type&quot;: &quot;Feature&quot;, &quot;geometry&quot;: {&quot;type&quot;: &quot;Point&quot;, &quot;coordinates&quot;: [13.41, 52.469]}, &quot;properties&quot;: {&quot;time&quot;: &quot;2024-05-08T16:54:37.032000+00:00&quot;, &quot;style&quot;: {&quot;color&quot;: &quot;blue&quot;, &quot;weight&quot;: 5}}}, {&quot;type&quot;: &quot;Feature&quot;, &quot;geometry&quot;: {&quot;type&quot;: &quot;Point&quot;, &quot;coordinates&quot;: [13.41, 52.468]}, &quot;properties&quot;: {&quot;time&quot;: &quot;2024-05-08T16:54:37.089000+00:00&quot;, &quot;style&quot;: {&quot;color&quot;: &quot;blue&quot;, &quot;weight&quot;: 5}}}, {&quot;type&quot;: &quot;Feature&quot;, &quot;geometry&quot;: {&quot;type&quot;: &quot;Point&quot;, &quot;coordinates&quot;: [13.356, 52.515]}, &quot;properties&quot;: {&quot;time&quot;: &quot;2024-05-08T16:54:41.846000+00:00&quot;, &quot;style&quot;: {&quot;color&quot;: &quot;blue&quot;, &quot;weight&quot;: 5}}}, {&quot;type&quot;: &quot;Feature&quot;, &quot;geometry&quot;: {&quot;type&quot;: &quot;Point&quot;, &quot;coordinates&quot;: [13.41, 52.468]}, &quot;properties&quot;: {&quot;time&quot;: &quot;2024-05-08T16:54:41.866000+00:00&quot;, &quot;style&quot;: {&quot;color&quot;: &quot;blue&quot;, &quot;weight&quot;: 5}}}, {&quot;type&quot;: &quot;Feature&quot;, &quot;geometry&quot;: {&quot;type&quot;: &quot;Point&quot;, &quot;coordinates&quot;: [13.357, 52.515]}, &quot;properties&quot;: {&quot;time&quot;: &quot;2024-05-08T16:54:41.868000+00:00&quot;, &quot;style&quot;: {&quot;color&quot;: &quot;blue&quot;, &quot;weight&quot;: 5}}}, {&quot;type&quot;: &quot;Feature&quot;, &quot;geometry&quot;: {&quot;type&quot;: &quot;Point&quot;, &quot;coordinates&quot;: [13.353, 52.518]}, &quot;properties&quot;: {&quot;time&quot;: &quot;2024-05-08T16:54:41.871000+00:00&quot;, &quot;style&quot;: {&quot;color&quot;: &quot;blue&quot;, &quot;weight&quot;: 5}}}, {&quot;type&quot;: &quot;Feature&quot;, &quot;geometry&quot;: {&quot;type&quot;: &quot;Point&quot;, &quot;coordinates&quot;: [13.41, 52.469]}, &quot;properties&quot;: {&quot;time&quot;: &quot;2024-05-08T16:54:41.879000+00:00&quot;, &quot;style&quot;: {&quot;color&quot;: &quot;blue&quot;, &quot;weight&quot;: 5}}}, {&quot;type&quot;: &quot;Feature&quot;, &quot;geometry&quot;: {&quot;type&quot;: &quot;Point&quot;, &quot;coordinates&quot;: [13.356, 52.515]}, &quot;properties&quot;: {&quot;time&quot;: &quot;2024-05-08T16:54:46.774000+00:00&quot;, &quot;style&quot;: {&quot;color&quot;: &quot;blue&quot;, &quot;weight&quot;: 5}}}, {&quot;type&quot;: &quot;Feature&quot;, &quot;geometry&quot;: {&quot;type&quot;: &quot;Point&quot;, &quot;coordinates&quot;: [13.356, 52.514]}, &quot;properties&quot;: {&quot;time&quot;: &quot;2024-05-08T16:54:46.776000+00:00&quot;, &quot;style&quot;: {&quot;color&quot;: &quot;blue&quot;, &quot;weight&quot;: 5}}}, {&quot;type&quot;: &quot;Feature&quot;, &quot;geometry&quot;: {&quot;type&quot;: &quot;Point&quot;, &quot;coordinates&quot;: [13.353, 52.519]}, &quot;properties&quot;: {&quot;time&quot;: &quot;2024-05-08T16:54:46.780000+00:00&quot;, &quot;style&quot;: {&quot;color&quot;: &quot;blue&quot;, &quot;weight&quot;: 5}}}, {&quot;type&quot;: &quot;Feature&quot;, &quot;geometry&quot;: {&quot;type&quot;: &quot;Point&quot;, &quot;coordinates&quot;: [13.409, 52.467]}, &quot;properties&quot;: {&quot;time&quot;: &quot;2024-05-08T16:54:46.782000+00:00&quot;, &quot;style&quot;: {&quot;color&quot;: &quot;blue&quot;, &quot;weight&quot;: 5}}}, {&quot;type&quot;: &quot;Feature&quot;, &quot;geometry&quot;: {&quot;type&quot;: &quot;Point&quot;, &quot;coordinates&quot;: [13.41, 52.468]}, &quot;properties&quot;: {&quot;time&quot;: &quot;2024-05-08T16:54:46.784000+00:00&quot;, &quot;style&quot;: {&quot;color&quot;: &quot;blue&quot;, &quot;weight&quot;: 5}}}, {&quot;type&quot;: &quot;Feature&quot;, &quot;geometry&quot;: {&quot;type&quot;: &quot;Point&quot;, &quot;coordinates&quot;: [13.356, 52.515]}, &quot;properties&quot;: {&quot;time&quot;: &quot;2024-05-08T16:54:51.784000+00:00&quot;, &quot;style&quot;: {&quot;color&quot;: &quot;blue&quot;, &quot;weight&quot;: 5}}}, {&quot;type&quot;: &quot;Feature&quot;, &quot;geometry&quot;: {&quot;type&quot;: &quot;Point&quot;, &quot;coordinates&quot;: [13.355, 52.513]}, &quot;properties&quot;: {&quot;time&quot;: &quot;2024-05-08T16:54:51.790000+00:00&quot;, &quot;style&quot;: {&quot;color&quot;: &quot;blue&quot;, &quot;weight&quot;: 5}}}, {&quot;type&quot;: &quot;Feature&quot;, &quot;geometry&quot;: {&quot;type&quot;: &quot;Point&quot;, &quot;coordinates&quot;: [13.353, 52.519]}, &quot;properties&quot;: {&quot;time&quot;: &quot;2024-05-08T16:54:51.792000+00:00&quot;, &quot;style&quot;: {&quot;color&quot;: &quot;blue&quot;, &quot;weight&quot;: 5}}}, {&quot;type&quot;: &quot;Feature&quot;, &quot;geometry&quot;: {&quot;type&quot;: &quot;Point&quot;, &quot;coordinates&quot;: [13.41, 52.469]}, &quot;properties&quot;: {&quot;time&quot;: &quot;2024-05-08T16:54:51.796000+00:00&quot;, &quot;style&quot;: {&quot;color&quot;: &quot;blue&quot;, &quot;weight&quot;: 5}}}, {&quot;type&quot;: &quot;Feature&quot;, &quot;geometry&quot;: {&quot;type&quot;: &quot;Point&quot;, &quot;coordinates&quot;: [13.41, 52.468]}, &quot;properties&quot;: {&quot;time&quot;: &quot;2024-05-08T16:54:51.800000+00:00&quot;, &quot;style&quot;: {&quot;color&quot;: &quot;blue&quot;, &quot;weight&quot;: 5}}}, {&quot;type&quot;: &quot;Feature&quot;, &quot;geometry&quot;: {&quot;type&quot;: &quot;Point&quot;, &quot;coordinates&quot;: [13.356, 52.515]}, &quot;properties&quot;: {&quot;time&quot;: &quot;2024-05-08T16:54:56.853000+00:00&quot;, &quot;style&quot;: {&quot;color&quot;: &quot;blue&quot;, &quot;weight&quot;: 5}}}, {&quot;type&quot;: &quot;Feature&quot;, &quot;geometry&quot;: {&quot;type&quot;: &quot;Point&quot;, &quot;coordinates&quot;: [13.355, 52.512]}, &quot;properties&quot;: {&quot;time&quot;: &quot;2024-05-08T16:54:56.880000+00:00&quot;, &quot;style&quot;: {&quot;color&quot;: &quot;blue&quot;, &quot;weight&quot;: 5}}}, {&quot;type&quot;: &quot;Feature&quot;, &quot;geometry&quot;: {&quot;type&quot;: &quot;Point&quot;, &quot;coordinates&quot;: [13.353, 52.52]}, &quot;properties&quot;: {&quot;time&quot;: &quot;2024-05-08T16:54:56.887000+00:00&quot;, &quot;style&quot;: {&quot;color&quot;: &quot;blue&quot;, &quot;weight&quot;: 5}}}, {&quot;type&quot;: &quot;Feature&quot;, &quot;geometry&quot;: {&quot;type&quot;: &quot;Point&quot;, &quot;coordinates&quot;: [13.355, 52.515]}, &quot;properties&quot;: {&quot;time&quot;: &quot;2024-05-08T16:54:56.890000+00:00&quot;, &quot;style&quot;: {&quot;color&quot;: &quot;blue&quot;, &quot;weight&quot;: 5}}}, {&quot;type&quot;: &quot;Feature&quot;, &quot;geometry&quot;: {&quot;type&quot;: &quot;Point&quot;, &quot;coordinates&quot;: [13.41, 52.468]}, &quot;properties&quot;: {&quot;time&quot;: &quot;2024-05-08T16:54:56.892000+00:00&quot;, &quot;style&quot;: {&quot;color&quot;: &quot;blue&quot;, &quot;weight&quot;: 5}}}, {&quot;type&quot;: &quot;Feature&quot;, &quot;geometry&quot;: {&quot;type&quot;: &quot;Point&quot;, &quot;coordinates&quot;: [13.41, 52.468]}, &quot;properties&quot;: {&quot;time&quot;: &quot;2024-05-08T16:54:56.894000+00:00&quot;, &quot;style&quot;: {&quot;color&quot;: &quot;blue&quot;, &quot;weight&quot;: 5}}}, {&quot;type&quot;: &quot;Feature&quot;, &quot;geometry&quot;: {&quot;type&quot;: &quot;Point&quot;, &quot;coordinates&quot;: [13.41, 52.469]}, &quot;properties&quot;: {&quot;time&quot;: &quot;2024-05-08T16:55:01.829000+00:00&quot;, &quot;style&quot;: {&quot;color&quot;: &quot;blue&quot;, &quot;weight&quot;: 5}}}, {&quot;type&quot;: &quot;Feature&quot;, &quot;geometry&quot;: {&quot;type&quot;: &quot;Point&quot;, &quot;coordinates&quot;: [13.41, 52.468]}, &quot;properties&quot;: {&quot;time&quot;: &quot;2024-05-08T16:55:01.832000+00:00&quot;, &quot;style&quot;: {&quot;color&quot;: &quot;blue&quot;, &quot;weight&quot;: 5}}}, {&quot;type&quot;: &quot;Feature&quot;, &quot;geometry&quot;: {&quot;type&quot;: &quot;Point&quot;, &quot;coordinates&quot;: [13.41, 52.469]}, &quot;properties&quot;: {&quot;time&quot;: &quot;2024-05-08T16:55:01.835000+00:00&quot;, &quot;style&quot;: {&quot;color&quot;: &quot;blue&quot;, &quot;weight&quot;: 5}}}, {&quot;type&quot;: &quot;Feature&quot;, &quot;geometry&quot;: {&quot;type&quot;: &quot;Point&quot;, &quot;coordinates&quot;: [13.41, 52.468]}, &quot;properties&quot;: {&quot;time&quot;: &quot;2024-05-08T16:55:01.840000+00:00&quot;, &quot;style&quot;: {&quot;color&quot;: &quot;blue&quot;, &quot;weight&quot;: 5}}}, {&quot;type&quot;: &quot;Feature&quot;, &quot;geometry&quot;: {&quot;type&quot;: &quot;Point&quot;, &quot;coordinates&quot;: [13.354, 52.513]}, &quot;properties&quot;: {&quot;time&quot;: &quot;2024-05-08T16:55:01.843000+00:00&quot;, &quot;style&quot;: {&quot;color&quot;: &quot;blue&quot;, &quot;weight&quot;: 5}}}, {&quot;type&quot;: &quot;Feature&quot;, &quot;geometry&quot;: {&quot;type&quot;: &quot;Point&quot;, &quot;coordinates&quot;: [13.356, 52.515]}, &quot;properties&quot;: {&quot;time&quot;: &quot;2024-05-08T16:55:01.851000+00:00&quot;, &quot;style&quot;: {&quot;color&quot;: &quot;blue&quot;, &quot;weight&quot;: 5}}}, {&quot;type&quot;: &quot;Feature&quot;, &quot;geometry&quot;: {&quot;type&quot;: &quot;Point&quot;, &quot;coordinates&quot;: [13.353, 52.521]}, &quot;properties&quot;: {&quot;time&quot;: &quot;2024-05-08T16:55:01.865000+00:00&quot;, &quot;style&quot;: {&quot;color&quot;: &quot;blue&quot;, &quot;weight&quot;: 5}}}, {&quot;type&quot;: &quot;Feature&quot;, &quot;geometry&quot;: {&quot;type&quot;: &quot;Point&quot;, &quot;coordinates&quot;: [13.41, 52.469]}, &quot;properties&quot;: {&quot;time&quot;: &quot;2024-05-08T16:55:06.907000+00:00&quot;, &quot;style&quot;: {&quot;color&quot;: &quot;blue&quot;, &quot;weight&quot;: 5}}}, {&quot;type&quot;: &quot;Feature&quot;, &quot;geometry&quot;: {&quot;type&quot;: &quot;Point&quot;, &quot;coordinates&quot;: [13.411, 52.468]}, &quot;properties&quot;: {&quot;time&quot;: &quot;2024-05-08T16:55:06.928000+00:00&quot;, &quot;style&quot;: {&quot;color&quot;: &quot;blue&quot;, &quot;weight&quot;: 5}}}, {&quot;type&quot;: &quot;Feature&quot;, &quot;geometry&quot;: {&quot;type&quot;: &quot;Point&quot;, &quot;coordinates&quot;: [13.354, 52.513]}, &quot;properties&quot;: {&quot;time&quot;: &quot;2024-05-08T16:55:06.939000+00:00&quot;, &quot;style&quot;: {&quot;color&quot;: &quot;blue&quot;, &quot;weight&quot;: 5}}}, {&quot;type&quot;: &quot;Feature&quot;, &quot;geometry&quot;: {&quot;type&quot;: &quot;Point&quot;, &quot;coordinates&quot;: [13.353, 52.52]}, &quot;properties&quot;: {&quot;time&quot;: &quot;2024-05-08T16:55:06.941000+00:00&quot;, &quot;style&quot;: {&quot;color&quot;: &quot;blue&quot;, &quot;weight&quot;: 5}}}, {&quot;type&quot;: &quot;Feature&quot;, &quot;geometry&quot;: {&quot;type&quot;: &quot;Point&quot;, &quot;coordinates&quot;: [13.41, 52.468]}, &quot;properties&quot;: {&quot;time&quot;: &quot;2024-05-08T16:55:06.947000+00:00&quot;, &quot;style&quot;: {&quot;color&quot;: &quot;blue&quot;, &quot;weight&quot;: 5}}}, {&quot;type&quot;: &quot;Feature&quot;, &quot;geometry&quot;: {&quot;type&quot;: &quot;Point&quot;, &quot;coordinates&quot;: [13.41, 52.469]}, &quot;properties&quot;: {&quot;time&quot;: &quot;2024-05-08T16:55:06.953000+00:00&quot;, &quot;style&quot;: {&quot;color&quot;: &quot;blue&quot;, &quot;weight&quot;: 5}}}, {&quot;type&quot;: &quot;Feature&quot;, &quot;geometry&quot;: {&quot;type&quot;: &quot;Point&quot;, &quot;coordinates&quot;: [13.356, 52.515]}, &quot;properties&quot;: {&quot;time&quot;: &quot;2024-05-08T16:55:06.980000+00:00&quot;, &quot;style&quot;: {&quot;color&quot;: &quot;blue&quot;, &quot;weight&quot;: 5}}}, {&quot;type&quot;: &quot;Feature&quot;, &quot;geometry&quot;: {&quot;type&quot;: &quot;Point&quot;, &quot;coordinates&quot;: [13.354, 52.513]}, &quot;properties&quot;: {&quot;time&quot;: &quot;2024-05-08T16:55:11.774000+00:00&quot;, &quot;style&quot;: {&quot;color&quot;: &quot;blue&quot;, &quot;weight&quot;: 5}}}, {&quot;type&quot;: &quot;Feature&quot;, &quot;geometry&quot;: {&quot;type&quot;: &quot;Point&quot;, &quot;coordinates&quot;: [13.353, 52.521]}, &quot;properties&quot;: {&quot;time&quot;: &quot;2024-05-08T16:55:11.779000+00:00&quot;, &quot;style&quot;: {&quot;color&quot;: &quot;blue&quot;, &quot;weight&quot;: 5}}}, {&quot;type&quot;: &quot;Feature&quot;, &quot;geometry&quot;: {&quot;type&quot;: &quot;Point&quot;, &quot;coordinates&quot;: [13.356, 52.515]}, &quot;properties&quot;: {&quot;time&quot;: &quot;2024-05-08T16:55:11.781000+00:00&quot;, &quot;style&quot;: {&quot;color&quot;: &quot;blue&quot;, &quot;weight&quot;: 5}}}, {&quot;type&quot;: &quot;Feature&quot;, &quot;geometry&quot;: {&quot;type&quot;: &quot;Point&quot;, &quot;coordinates&quot;: [13.41, 52.469]}, &quot;properties&quot;: {&quot;time&quot;: &quot;2024-05-08T16:55:11.783000+00:00&quot;, &quot;style&quot;: {&quot;color&quot;: &quot;blue&quot;, &quot;weight&quot;: 5}}}, {&quot;type&quot;: &quot;Feature&quot;, &quot;geometry&quot;: {&quot;type&quot;: &quot;Point&quot;, &quot;coordinates&quot;: [13.411, 52.468]}, &quot;properties&quot;: {&quot;time&quot;: &quot;2024-05-08T16:55:11.785000+00:00&quot;, &quot;style&quot;: {&quot;color&quot;: &quot;blue&quot;, &quot;weight&quot;: 5}}}, {&quot;type&quot;: &quot;Feature&quot;, &quot;geometry&quot;: {&quot;type&quot;: &quot;Point&quot;, &quot;coordinates&quot;: [13.41, 52.468]}, &quot;properties&quot;: {&quot;time&quot;: &quot;2024-05-08T16:55:11.787000+00:00&quot;, &quot;style&quot;: {&quot;color&quot;: &quot;blue&quot;, &quot;weight&quot;: 5}}}, {&quot;type&quot;: &quot;Feature&quot;, &quot;geometry&quot;: {&quot;type&quot;: &quot;Point&quot;, &quot;coordinates&quot;: [13.356, 52.515]}, &quot;properties&quot;: {&quot;time&quot;: &quot;2024-05-08T16:55:16.779000+00:00&quot;, &quot;style&quot;: {&quot;color&quot;: &quot;blue&quot;, &quot;weight&quot;: 5}}}, {&quot;type&quot;: &quot;Feature&quot;, &quot;geometry&quot;: {&quot;type&quot;: &quot;Point&quot;, &quot;coordinates&quot;: [13.354, 52.513]}, &quot;properties&quot;: {&quot;time&quot;: &quot;2024-05-08T16:55:16.780000+00:00&quot;, &quot;style&quot;: {&quot;color&quot;: &quot;blue&quot;, &quot;weight&quot;: 5}}}, {&quot;type&quot;: &quot;Feature&quot;, &quot;geometry&quot;: {&quot;type&quot;: &quot;Point&quot;, &quot;coordinates&quot;: [13.356, 52.515]}, &quot;properties&quot;: {&quot;time&quot;: &quot;2024-05-08T16:55:16.782000+00:00&quot;, &quot;style&quot;: {&quot;color&quot;: &quot;blue&quot;, &quot;weight&quot;: 5}}}, {&quot;type&quot;: &quot;Feature&quot;, &quot;geometry&quot;: {&quot;type&quot;: &quot;Point&quot;, &quot;coordinates&quot;: [13.41, 52.469]}, &quot;properties&quot;: {&quot;time&quot;: &quot;2024-05-08T16:55:16.784000+00:00&quot;, &quot;style&quot;: {&quot;color&quot;: &quot;blue&quot;, &quot;weight&quot;: 5}}}, {&quot;type&quot;: &quot;Feature&quot;, &quot;geometry&quot;: {&quot;type&quot;: &quot;Point&quot;, &quot;coordinates&quot;: [13.353, 52.521]}, &quot;properties&quot;: {&quot;time&quot;: &quot;2024-05-08T16:55:16.791000+00:00&quot;, &quot;style&quot;: {&quot;color&quot;: &quot;blue&quot;, &quot;weight&quot;: 5}}}, {&quot;type&quot;: &quot;Feature&quot;, &quot;geometry&quot;: {&quot;type&quot;: &quot;Point&quot;, &quot;coordinates&quot;: [13.411, 52.467]}, &quot;properties&quot;: {&quot;time&quot;: &quot;2024-05-08T16:55:16.794000+00:00&quot;, &quot;style&quot;: {&quot;color&quot;: &quot;blue&quot;, &quot;weight&quot;: 5}}}, {&quot;type&quot;: &quot;Feature&quot;, &quot;geometry&quot;: {&quot;type&quot;: &quot;Point&quot;, &quot;coordinates&quot;: [13.41, 52.469]}, &quot;properties&quot;: {&quot;time&quot;: &quot;2024-05-08T16:55:16.797000+00:00&quot;, &quot;style&quot;: {&quot;color&quot;: &quot;blue&quot;, &quot;weight&quot;: 5}}}, {&quot;type&quot;: &quot;Feature&quot;, &quot;geometry&quot;: {&quot;type&quot;: &quot;Point&quot;, &quot;coordinates&quot;: [13.353, 52.52]}, &quot;properties&quot;: {&quot;time&quot;: &quot;2024-05-08T16:55:21.897000+00:00&quot;, &quot;style&quot;: {&quot;color&quot;: &quot;blue&quot;, &quot;weight&quot;: 5}}}, {&quot;type&quot;: &quot;Feature&quot;, &quot;geometry&quot;: {&quot;type&quot;: &quot;Point&quot;, &quot;coordinates&quot;: [13.356, 52.515]}, &quot;properties&quot;: {&quot;time&quot;: &quot;2024-05-08T16:55:21.902000+00:00&quot;, &quot;style&quot;: {&quot;color&quot;: &quot;blue&quot;, &quot;weight&quot;: 5}}}, {&quot;type&quot;: &quot;Feature&quot;, &quot;geometry&quot;: {&quot;type&quot;: &quot;Point&quot;, &quot;coordinates&quot;: [13.41, 52.469]}, &quot;properties&quot;: {&quot;time&quot;: &quot;2024-05-08T16:55:21.906000+00:00&quot;, &quot;style&quot;: {&quot;color&quot;: &quot;blue&quot;, &quot;weight&quot;: 5}}}, {&quot;type&quot;: &quot;Feature&quot;, &quot;geometry&quot;: {&quot;type&quot;: &quot;Point&quot;, &quot;coordinates&quot;: [13.411, 52.467]}, &quot;properties&quot;: {&quot;time&quot;: &quot;2024-05-08T16:55:21.910000+00:00&quot;, &quot;style&quot;: {&quot;color&quot;: &quot;blue&quot;, &quot;weight&quot;: 5}}}, {&quot;type&quot;: &quot;Feature&quot;, &quot;geometry&quot;: {&quot;type&quot;: &quot;Point&quot;, &quot;coordinates&quot;: [13.355, 52.516]}, &quot;properties&quot;: {&quot;time&quot;: &quot;2024-05-08T16:55:21.949000+00:00&quot;, &quot;style&quot;: {&quot;color&quot;: &quot;blue&quot;, &quot;weight&quot;: 5}}}, {&quot;type&quot;: &quot;Feature&quot;, &quot;geometry&quot;: {&quot;type&quot;: &quot;Point&quot;, &quot;coordinates&quot;: [13.354, 52.513]}, &quot;properties&quot;: {&quot;time&quot;: &quot;2024-05-08T16:55:21.954000+00:00&quot;, &quot;style&quot;: {&quot;color&quot;: &quot;blue&quot;, &quot;weight&quot;: 5}}}, {&quot;type&quot;: &quot;Feature&quot;, &quot;geometry&quot;: {&quot;type&quot;: &quot;Point&quot;, &quot;coordinates&quot;: [13.41, 52.468]}, &quot;properties&quot;: {&quot;time&quot;: &quot;2024-05-08T16:55:21.972000+00:00&quot;, &quot;style&quot;: {&quot;color&quot;: &quot;blue&quot;, &quot;weight&quot;: 5}}}, {&quot;type&quot;: &quot;Feature&quot;, &quot;geometry&quot;: {&quot;type&quot;: &quot;Point&quot;, &quot;coordinates&quot;: [13.41, 52.469]}, &quot;properties&quot;: {&quot;time&quot;: &quot;2024-05-08T16:55:21.984000+00:00&quot;, &quot;style&quot;: {&quot;color&quot;: &quot;blue&quot;, &quot;weight&quot;: 5}}}, {&quot;type&quot;: &quot;Feature&quot;, &quot;geometry&quot;: {&quot;type&quot;: &quot;Point&quot;, &quot;coordinates&quot;: [13.354, 52.516]}, &quot;properties&quot;: {&quot;time&quot;: &quot;2024-05-08T16:55:26.817000+00:00&quot;, &quot;style&quot;: {&quot;color&quot;: &quot;blue&quot;, &quot;weight&quot;: 5}}}, {&quot;type&quot;: &quot;Feature&quot;, &quot;geometry&quot;: {&quot;type&quot;: &quot;Point&quot;, &quot;coordinates&quot;: [13.353, 52.52]}, &quot;properties&quot;: {&quot;time&quot;: &quot;2024-05-08T16:55:26.819000+00:00&quot;, &quot;style&quot;: {&quot;color&quot;: &quot;blue&quot;, &quot;weight&quot;: 5}}}, {&quot;type&quot;: &quot;Feature&quot;, &quot;geometry&quot;: {&quot;type&quot;: &quot;Point&quot;, &quot;coordinates&quot;: [13.356, 52.515]}, &quot;properties&quot;: {&quot;time&quot;: &quot;2024-05-08T16:55:26.822000+00:00&quot;, &quot;style&quot;: {&quot;color&quot;: &quot;blue&quot;, &quot;weight&quot;: 5}}}, {&quot;type&quot;: &quot;Feature&quot;, &quot;geometry&quot;: {&quot;type&quot;: &quot;Point&quot;, &quot;coordinates&quot;: [13.41, 52.468]}, &quot;properties&quot;: {&quot;time&quot;: &quot;2024-05-08T16:55:26.825000+00:00&quot;, &quot;style&quot;: {&quot;color&quot;: &quot;blue&quot;, &quot;weight&quot;: 5}}}, {&quot;type&quot;: &quot;Feature&quot;, &quot;geometry&quot;: {&quot;type&quot;: &quot;Point&quot;, &quot;coordinates&quot;: [13.41, 52.469]}, &quot;properties&quot;: {&quot;time&quot;: &quot;2024-05-08T16:55:26.827000+00:00&quot;, &quot;style&quot;: {&quot;color&quot;: &quot;blue&quot;, &quot;weight&quot;: 5}}}, {&quot;type&quot;: &quot;Feature&quot;, &quot;geometry&quot;: {&quot;type&quot;: &quot;Point&quot;, &quot;coordinates&quot;: [13.354, 52.513]}, &quot;properties&quot;: {&quot;time&quot;: &quot;2024-05-08T16:55:26.829000+00:00&quot;, &quot;style&quot;: {&quot;color&quot;: &quot;blue&quot;, &quot;weight&quot;: 5}}}, {&quot;type&quot;: &quot;Feature&quot;, &quot;geometry&quot;: {&quot;type&quot;: &quot;Point&quot;, &quot;coordinates&quot;: [13.411, 52.466]}, &quot;properties&quot;: {&quot;time&quot;: &quot;2024-05-08T16:55:26.830000+00:00&quot;, &quot;style&quot;: {&quot;color&quot;: &quot;blue&quot;, &quot;weight&quot;: 5}}}, {&quot;type&quot;: &quot;Feature&quot;, &quot;geometry&quot;: {&quot;type&quot;: &quot;Point&quot;, &quot;coordinates&quot;: [13.41, 52.469]}, &quot;properties&quot;: {&quot;time&quot;: &quot;2024-05-08T16:55:26.832000+00:00&quot;, &quot;style&quot;: {&quot;color&quot;: &quot;blue&quot;, &quot;weight&quot;: 5}}}, {&quot;type&quot;: &quot;Feature&quot;, &quot;geometry&quot;: {&quot;type&quot;: &quot;Point&quot;, &quot;coordinates&quot;: [13.353, 52.52]}, &quot;properties&quot;: {&quot;time&quot;: &quot;2024-05-08T16:55:31.786000+00:00&quot;, &quot;style&quot;: {&quot;color&quot;: &quot;blue&quot;, &quot;weight&quot;: 5}}}, {&quot;type&quot;: &quot;Feature&quot;, &quot;geometry&quot;: {&quot;type&quot;: &quot;Point&quot;, &quot;coordinates&quot;: [13.357, 52.514]}, &quot;properties&quot;: {&quot;time&quot;: &quot;2024-05-08T16:55:31.791000+00:00&quot;, &quot;style&quot;: {&quot;color&quot;: &quot;blue&quot;, &quot;weight&quot;: 5}}}, {&quot;type&quot;: &quot;Feature&quot;, &quot;geometry&quot;: {&quot;type&quot;: &quot;Point&quot;, &quot;coordinates&quot;: [13.411, 52.467]}, &quot;properties&quot;: {&quot;time&quot;: &quot;2024-05-08T16:55:31.793000+00:00&quot;, &quot;style&quot;: {&quot;color&quot;: &quot;blue&quot;, &quot;weight&quot;: 5}}}, {&quot;type&quot;: &quot;Feature&quot;, &quot;geometry&quot;: {&quot;type&quot;: &quot;Point&quot;, &quot;coordinates&quot;: [13.41, 52.469]}, &quot;properties&quot;: {&quot;time&quot;: &quot;2024-05-08T16:55:31.797000+00:00&quot;, &quot;style&quot;: {&quot;color&quot;: &quot;blue&quot;, &quot;weight&quot;: 5}}}, {&quot;type&quot;: &quot;Feature&quot;, &quot;geometry&quot;: {&quot;type&quot;: &quot;Point&quot;, &quot;coordinates&quot;: [13.41, 52.468]}, &quot;properties&quot;: {&quot;time&quot;: &quot;2024-05-08T16:55:31.805000+00:00&quot;, &quot;style&quot;: {&quot;color&quot;: &quot;blue&quot;, &quot;weight&quot;: 5}}}, {&quot;type&quot;: &quot;Feature&quot;, &quot;geometry&quot;: {&quot;type&quot;: &quot;Point&quot;, &quot;coordinates&quot;: [13.354, 52.517]}, &quot;properties&quot;: {&quot;time&quot;: &quot;2024-05-08T16:55:36.819000+00:00&quot;, &quot;style&quot;: {&quot;color&quot;: &quot;blue&quot;, &quot;weight&quot;: 5}}}, {&quot;type&quot;: &quot;Feature&quot;, &quot;geometry&quot;: {&quot;type&quot;: &quot;Point&quot;, &quot;coordinates&quot;: [13.354, 52.513]}, &quot;properties&quot;: {&quot;time&quot;: &quot;2024-05-08T16:55:36.822000+00:00&quot;, &quot;style&quot;: {&quot;color&quot;: &quot;blue&quot;, &quot;weight&quot;: 5}}}, {&quot;type&quot;: &quot;Feature&quot;, &quot;geometry&quot;: {&quot;type&quot;: &quot;Point&quot;, &quot;coordinates&quot;: [13.356, 52.513]}, &quot;properties&quot;: {&quot;time&quot;: &quot;2024-05-08T16:55:36.825000+00:00&quot;, &quot;style&quot;: {&quot;color&quot;: &quot;blue&quot;, &quot;weight&quot;: 5}}}, {&quot;type&quot;: &quot;Feature&quot;, &quot;geometry&quot;: {&quot;type&quot;: &quot;Point&quot;, &quot;coordinates&quot;: [13.412, 52.467]}, &quot;properties&quot;: {&quot;time&quot;: &quot;2024-05-08T16:55:36.828000+00:00&quot;, &quot;style&quot;: {&quot;color&quot;: &quot;blue&quot;, &quot;weight&quot;: 5}}}, {&quot;type&quot;: &quot;Feature&quot;, &quot;geometry&quot;: {&quot;type&quot;: &quot;Point&quot;, &quot;coordinates&quot;: [13.353, 52.52]}, &quot;properties&quot;: {&quot;time&quot;: &quot;2024-05-08T16:55:36.912000+00:00&quot;, &quot;style&quot;: {&quot;color&quot;: &quot;blue&quot;, &quot;weight&quot;: 5}}}, {&quot;type&quot;: &quot;Feature&quot;, &quot;geometry&quot;: {&quot;type&quot;: &quot;Point&quot;, &quot;coordinates&quot;: [13.41, 52.469]}, &quot;properties&quot;: {&quot;time&quot;: &quot;2024-05-08T16:55:36.914000+00:00&quot;, &quot;style&quot;: {&quot;color&quot;: &quot;blue&quot;, &quot;weight&quot;: 5}}}, {&quot;type&quot;: &quot;Feature&quot;, &quot;geometry&quot;: {&quot;type&quot;: &quot;Point&quot;, &quot;coordinates&quot;: [13.41, 52.468]}, &quot;properties&quot;: {&quot;time&quot;: &quot;2024-05-08T16:55:36.926000+00:00&quot;, &quot;style&quot;: {&quot;color&quot;: &quot;blue&quot;, &quot;weight&quot;: 5}}}, {&quot;type&quot;: &quot;Feature&quot;, &quot;geometry&quot;: {&quot;type&quot;: &quot;Point&quot;, &quot;coordinates&quot;: [13.355, 52.517]}, &quot;properties&quot;: {&quot;time&quot;: &quot;2024-05-08T16:55:41.946000+00:00&quot;, &quot;style&quot;: {&quot;color&quot;: &quot;blue&quot;, &quot;weight&quot;: 5}}}, {&quot;type&quot;: &quot;Feature&quot;, &quot;geometry&quot;: {&quot;type&quot;: &quot;Point&quot;, &quot;coordinates&quot;: [13.354, 52.513]}, &quot;properties&quot;: {&quot;time&quot;: &quot;2024-05-08T16:55:41.956000+00:00&quot;, &quot;style&quot;: {&quot;color&quot;: &quot;blue&quot;, &quot;weight&quot;: 5}}}, {&quot;type&quot;: &quot;Feature&quot;, &quot;geometry&quot;: {&quot;type&quot;: &quot;Point&quot;, &quot;coordinates&quot;: [13.353, 52.52]}, &quot;properties&quot;: {&quot;time&quot;: &quot;2024-05-08T16:55:41.960000+00:00&quot;, &quot;style&quot;: {&quot;color&quot;: &quot;blue&quot;, &quot;weight&quot;: 5}}}, {&quot;type&quot;: &quot;Feature&quot;, &quot;geometry&quot;: {&quot;type&quot;: &quot;Point&quot;, &quot;coordinates&quot;: [13.356, 52.513]}, &quot;properties&quot;: {&quot;time&quot;: &quot;2024-05-08T16:55:41.962000+00:00&quot;, &quot;style&quot;: {&quot;color&quot;: &quot;blue&quot;, &quot;weight&quot;: 5}}}, {&quot;type&quot;: &quot;Feature&quot;, &quot;geometry&quot;: {&quot;type&quot;: &quot;Point&quot;, &quot;coordinates&quot;: [13.41, 52.469]}, &quot;properties&quot;: {&quot;time&quot;: &quot;2024-05-08T16:55:41.964000+00:00&quot;, &quot;style&quot;: {&quot;color&quot;: &quot;blue&quot;, &quot;weight&quot;: 5}}}, {&quot;type&quot;: &quot;Feature&quot;, &quot;geometry&quot;: {&quot;type&quot;: &quot;Point&quot;, &quot;coordinates&quot;: [13.412, 52.467]}, &quot;properties&quot;: {&quot;time&quot;: &quot;2024-05-08T16:55:41.965000+00:00&quot;, &quot;style&quot;: {&quot;color&quot;: &quot;blue&quot;, &quot;weight&quot;: 5}}}, {&quot;type&quot;: &quot;Feature&quot;, &quot;geometry&quot;: {&quot;type&quot;: &quot;Point&quot;, &quot;coordinates&quot;: [13.41, 52.469]}, &quot;properties&quot;: {&quot;time&quot;: &quot;2024-05-08T16:55:41.967000+00:00&quot;, &quot;style&quot;: {&quot;color&quot;: &quot;blue&quot;, &quot;weight&quot;: 5}}}, {&quot;type&quot;: &quot;Feature&quot;, &quot;geometry&quot;: {&quot;type&quot;: &quot;Point&quot;, &quot;coordinates&quot;: [13.41, 52.468]}, &quot;properties&quot;: {&quot;time&quot;: &quot;2024-05-08T16:55:41.968000+00:00&quot;, &quot;style&quot;: {&quot;color&quot;: &quot;blue&quot;, &quot;weight&quot;: 5}}}, {&quot;type&quot;: &quot;Feature&quot;, &quot;geometry&quot;: {&quot;type&quot;: &quot;Point&quot;, &quot;coordinates&quot;: [13.354, 52.518]}, &quot;properties&quot;: {&quot;time&quot;: &quot;2024-05-08T16:55:46.791000+00:00&quot;, &quot;style&quot;: {&quot;color&quot;: &quot;blue&quot;, &quot;weight&quot;: 5}}}, {&quot;type&quot;: &quot;Feature&quot;, &quot;geometry&quot;: {&quot;type&quot;: &quot;Point&quot;, &quot;coordinates&quot;: [13.354, 52.513]}, &quot;properties&quot;: {&quot;time&quot;: &quot;2024-05-08T16:55:46.792000+00:00&quot;, &quot;style&quot;: {&quot;color&quot;: &quot;blue&quot;, &quot;weight&quot;: 5}}}, {&quot;type&quot;: &quot;Feature&quot;, &quot;geometry&quot;: {&quot;type&quot;: &quot;Point&quot;, &quot;coordinates&quot;: [13.355, 52.512]}, &quot;properties&quot;: {&quot;time&quot;: &quot;2024-05-08T16:55:46.794000+00:00&quot;, &quot;style&quot;: {&quot;color&quot;: &quot;blue&quot;, &quot;weight&quot;: 5}}}, {&quot;type&quot;: &quot;Feature&quot;, &quot;geometry&quot;: {&quot;type&quot;: &quot;Point&quot;, &quot;coordinates&quot;: [13.41, 52.469]}, &quot;properties&quot;: {&quot;time&quot;: &quot;2024-05-08T16:55:46.796000+00:00&quot;, &quot;style&quot;: {&quot;color&quot;: &quot;blue&quot;, &quot;weight&quot;: 5}}}, {&quot;type&quot;: &quot;Feature&quot;, &quot;geometry&quot;: {&quot;type&quot;: &quot;Point&quot;, &quot;coordinates&quot;: [13.353, 52.52]}, &quot;properties&quot;: {&quot;time&quot;: &quot;2024-05-08T16:55:46.799000+00:00&quot;, &quot;style&quot;: {&quot;color&quot;: &quot;blue&quot;, &quot;weight&quot;: 5}}}, {&quot;type&quot;: &quot;Feature&quot;, &quot;geometry&quot;: {&quot;type&quot;: &quot;Point&quot;, &quot;coordinates&quot;: [13.412, 52.467]}, &quot;properties&quot;: {&quot;time&quot;: &quot;2024-05-08T16:55:46.801000+00:00&quot;, &quot;style&quot;: {&quot;color&quot;: &quot;blue&quot;, &quot;weight&quot;: 5}}}, {&quot;type&quot;: &quot;Feature&quot;, &quot;geometry&quot;: {&quot;type&quot;: &quot;Point&quot;, &quot;coordinates&quot;: [13.41, 52.468]}, &quot;properties&quot;: {&quot;time&quot;: &quot;2024-05-08T16:55:46.805000+00:00&quot;, &quot;style&quot;: {&quot;color&quot;: &quot;blue&quot;, &quot;weight&quot;: 5}}}, {&quot;type&quot;: &quot;Feature&quot;, &quot;geometry&quot;: {&quot;type&quot;: &quot;Point&quot;, &quot;coordinates&quot;: [13.355, 52.512]}, &quot;properties&quot;: {&quot;time&quot;: &quot;2024-05-08T16:55:51.792000+00:00&quot;, &quot;style&quot;: {&quot;color&quot;: &quot;blue&quot;, &quot;weight&quot;: 5}}}, {&quot;type&quot;: &quot;Feature&quot;, &quot;geometry&quot;: {&quot;type&quot;: &quot;Point&quot;, &quot;coordinates&quot;: [13.353, 52.52]}, &quot;properties&quot;: {&quot;time&quot;: &quot;2024-05-08T16:55:51.798000+00:00&quot;, &quot;style&quot;: {&quot;color&quot;: &quot;blue&quot;, &quot;weight&quot;: 5}}}, {&quot;type&quot;: &quot;Feature&quot;, &quot;geometry&quot;: {&quot;type&quot;: &quot;Point&quot;, &quot;coordinates&quot;: [13.354, 52.512]}, &quot;properties&quot;: {&quot;time&quot;: &quot;2024-05-08T16:55:51.800000+00:00&quot;, &quot;style&quot;: {&quot;color&quot;: &quot;blue&quot;, &quot;weight&quot;: 5}}}, {&quot;type&quot;: &quot;Feature&quot;, &quot;geometry&quot;: {&quot;type&quot;: &quot;Point&quot;, &quot;coordinates&quot;: [13.41, 52.469]}, &quot;properties&quot;: {&quot;time&quot;: &quot;2024-05-08T16:55:51.804000+00:00&quot;, &quot;style&quot;: {&quot;color&quot;: &quot;blue&quot;, &quot;weight&quot;: 5}}}, {&quot;type&quot;: &quot;Feature&quot;, &quot;geometry&quot;: {&quot;type&quot;: &quot;Point&quot;, &quot;coordinates&quot;: [13.411, 52.468]}, &quot;properties&quot;: {&quot;time&quot;: &quot;2024-05-08T16:55:51.809000+00:00&quot;, &quot;style&quot;: {&quot;color&quot;: &quot;blue&quot;, &quot;weight&quot;: 5}}}, {&quot;type&quot;: &quot;Feature&quot;, &quot;geometry&quot;: {&quot;type&quot;: &quot;Point&quot;, &quot;coordinates&quot;: [13.411, 52.467]}, &quot;properties&quot;: {&quot;time&quot;: &quot;2024-05-08T16:55:51.812000+00:00&quot;, &quot;style&quot;: {&quot;color&quot;: &quot;blue&quot;, &quot;weight&quot;: 5}}}, {&quot;type&quot;: &quot;Feature&quot;, &quot;geometry&quot;: {&quot;type&quot;: &quot;Point&quot;, &quot;coordinates&quot;: [13.353, 52.518]}, &quot;properties&quot;: {&quot;time&quot;: &quot;2024-05-08T16:55:56.817000+00:00&quot;, &quot;style&quot;: {&quot;color&quot;: &quot;blue&quot;, &quot;weight&quot;: 5}}}, {&quot;type&quot;: &quot;Feature&quot;, &quot;geometry&quot;: {&quot;type&quot;: &quot;Point&quot;, &quot;coordinates&quot;: [13.355, 52.512]}, &quot;properties&quot;: {&quot;time&quot;: &quot;2024-05-08T16:55:56.820000+00:00&quot;, &quot;style&quot;: {&quot;color&quot;: &quot;blue&quot;, &quot;weight&quot;: 5}}}, {&quot;type&quot;: &quot;Feature&quot;, &quot;geometry&quot;: {&quot;type&quot;: &quot;Point&quot;, &quot;coordinates&quot;: [13.353, 52.52]}, &quot;properties&quot;: {&quot;time&quot;: &quot;2024-05-08T16:55:56.821000+00:00&quot;, &quot;style&quot;: {&quot;color&quot;: &quot;blue&quot;, &quot;weight&quot;: 5}}}, {&quot;type&quot;: &quot;Feature&quot;, &quot;geometry&quot;: {&quot;type&quot;: &quot;Point&quot;, &quot;coordinates&quot;: [13.41, 52.469]}, &quot;properties&quot;: {&quot;time&quot;: &quot;2024-05-08T16:55:56.822000+00:00&quot;, &quot;style&quot;: {&quot;color&quot;: &quot;blue&quot;, &quot;weight&quot;: 5}}}, {&quot;type&quot;: &quot;Feature&quot;, &quot;geometry&quot;: {&quot;type&quot;: &quot;Point&quot;, &quot;coordinates&quot;: [13.411, 52.469]}, &quot;properties&quot;: {&quot;time&quot;: &quot;2024-05-08T16:55:56.824000+00:00&quot;, &quot;style&quot;: {&quot;color&quot;: &quot;blue&quot;, &quot;weight&quot;: 5}}}, {&quot;type&quot;: &quot;Feature&quot;, &quot;geometry&quot;: {&quot;type&quot;: &quot;Point&quot;, &quot;coordinates&quot;: [13.411, 52.466]}, &quot;properties&quot;: {&quot;time&quot;: &quot;2024-05-08T16:55:56.825000+00:00&quot;, &quot;style&quot;: {&quot;color&quot;: &quot;blue&quot;, &quot;weight&quot;: 5}}}, {&quot;type&quot;: &quot;Feature&quot;, &quot;geometry&quot;: {&quot;type&quot;: &quot;Point&quot;, &quot;coordinates&quot;: [13.354, 52.517]}, &quot;properties&quot;: {&quot;time&quot;: &quot;2024-05-08T16:56:01.806000+00:00&quot;, &quot;style&quot;: {&quot;color&quot;: &quot;blue&quot;, &quot;weight&quot;: 5}}}, {&quot;type&quot;: &quot;Feature&quot;, &quot;geometry&quot;: {&quot;type&quot;: &quot;Point&quot;, &quot;coordinates&quot;: [13.356, 52.513]}, &quot;properties&quot;: {&quot;time&quot;: &quot;2024-05-08T16:56:01.808000+00:00&quot;, &quot;style&quot;: {&quot;color&quot;: &quot;blue&quot;, &quot;weight&quot;: 5}}}, {&quot;type&quot;: &quot;Feature&quot;, &quot;geometry&quot;: {&quot;type&quot;: &quot;Point&quot;, &quot;coordinates&quot;: [13.354, 52.513]}, &quot;properties&quot;: {&quot;time&quot;: &quot;2024-05-08T16:56:01.810000+00:00&quot;, &quot;style&quot;: {&quot;color&quot;: &quot;blue&quot;, &quot;weight&quot;: 5}}}, {&quot;type&quot;: &quot;Feature&quot;, &quot;geometry&quot;: {&quot;type&quot;: &quot;Point&quot;, &quot;coordinates&quot;: [13.411, 52.469]}, &quot;properties&quot;: {&quot;time&quot;: &quot;2024-05-08T16:56:01.812000+00:00&quot;, &quot;style&quot;: {&quot;color&quot;: &quot;blue&quot;, &quot;weight&quot;: 5}}}, {&quot;type&quot;: &quot;Feature&quot;, &quot;geometry&quot;: {&quot;type&quot;: &quot;Point&quot;, &quot;coordinates&quot;: [13.353, 52.52]}, &quot;properties&quot;: {&quot;time&quot;: &quot;2024-05-08T16:56:01.815000+00:00&quot;, &quot;style&quot;: {&quot;color&quot;: &quot;blue&quot;, &quot;weight&quot;: 5}}}, {&quot;type&quot;: &quot;Feature&quot;, &quot;geometry&quot;: {&quot;type&quot;: &quot;Point&quot;, &quot;coordinates&quot;: [13.41, 52.469]}, &quot;properties&quot;: {&quot;time&quot;: &quot;2024-05-08T16:56:01.817000+00:00&quot;, &quot;style&quot;: {&quot;color&quot;: &quot;blue&quot;, &quot;weight&quot;: 5}}}, {&quot;type&quot;: &quot;Feature&quot;, &quot;geometry&quot;: {&quot;type&quot;: &quot;Point&quot;, &quot;coordinates&quot;: [13.412, 52.466]}, &quot;properties&quot;: {&quot;time&quot;: &quot;2024-05-08T16:56:01.819000+00:00&quot;, &quot;style&quot;: {&quot;color&quot;: &quot;blue&quot;, &quot;weight&quot;: 5}}}, {&quot;type&quot;: &quot;Feature&quot;, &quot;geometry&quot;: {&quot;type&quot;: &quot;Point&quot;, &quot;coordinates&quot;: [13.354, 52.517]}, &quot;properties&quot;: {&quot;time&quot;: &quot;2024-05-08T16:56:06.890000+00:00&quot;, &quot;style&quot;: {&quot;color&quot;: &quot;blue&quot;, &quot;weight&quot;: 5}}}, {&quot;type&quot;: &quot;Feature&quot;, &quot;geometry&quot;: {&quot;type&quot;: &quot;Point&quot;, &quot;coordinates&quot;: [13.355, 52.513]}, &quot;properties&quot;: {&quot;time&quot;: &quot;2024-05-08T16:56:06.892000+00:00&quot;, &quot;style&quot;: {&quot;color&quot;: &quot;blue&quot;, &quot;weight&quot;: 5}}}, {&quot;type&quot;: &quot;Feature&quot;, &quot;geometry&quot;: {&quot;type&quot;: &quot;Point&quot;, &quot;coordinates&quot;: [13.353, 52.52]}, &quot;properties&quot;: {&quot;time&quot;: &quot;2024-05-08T16:56:06.897000+00:00&quot;, &quot;style&quot;: {&quot;color&quot;: &quot;blue&quot;, &quot;weight&quot;: 5}}}, {&quot;type&quot;: &quot;Feature&quot;, &quot;geometry&quot;: {&quot;type&quot;: &quot;Point&quot;, &quot;coordinates&quot;: [13.354, 52.514]}, &quot;properties&quot;: {&quot;time&quot;: &quot;2024-05-08T16:56:06.899000+00:00&quot;, &quot;style&quot;: {&quot;color&quot;: &quot;blue&quot;, &quot;weight&quot;: 5}}}, {&quot;type&quot;: &quot;Feature&quot;, &quot;geometry&quot;: {&quot;type&quot;: &quot;Point&quot;, &quot;coordinates&quot;: [13.41, 52.469]}, &quot;properties&quot;: {&quot;time&quot;: &quot;2024-05-08T16:56:06.902000+00:00&quot;, &quot;style&quot;: {&quot;color&quot;: &quot;blue&quot;, &quot;weight&quot;: 5}}}, {&quot;type&quot;: &quot;Feature&quot;, &quot;geometry&quot;: {&quot;type&quot;: &quot;Point&quot;, &quot;coordinates&quot;: [13.411, 52.468]}, &quot;properties&quot;: {&quot;time&quot;: &quot;2024-05-08T16:56:06.904000+00:00&quot;, &quot;style&quot;: {&quot;color&quot;: &quot;blue&quot;, &quot;weight&quot;: 5}}}, {&quot;type&quot;: &quot;Feature&quot;, &quot;geometry&quot;: {&quot;type&quot;: &quot;Point&quot;, &quot;coordinates&quot;: [13.411, 52.465]}, &quot;properties&quot;: {&quot;time&quot;: &quot;2024-05-08T16:56:06.905000+00:00&quot;, &quot;style&quot;: {&quot;color&quot;: &quot;blue&quot;, &quot;weight&quot;: 5}}}, {&quot;type&quot;: &quot;Feature&quot;, &quot;geometry&quot;: {&quot;type&quot;: &quot;Point&quot;, &quot;coordinates&quot;: [13.354, 52.517]}, &quot;properties&quot;: {&quot;time&quot;: &quot;2024-05-08T16:56:11.829000+00:00&quot;, &quot;style&quot;: {&quot;color&quot;: &quot;blue&quot;, &quot;weight&quot;: 5}}}, {&quot;type&quot;: &quot;Feature&quot;, &quot;geometry&quot;: {&quot;type&quot;: &quot;Point&quot;, &quot;coordinates&quot;: [13.354, 52.513]}, &quot;properties&quot;: {&quot;time&quot;: &quot;2024-05-08T16:56:11.830000+00:00&quot;, &quot;style&quot;: {&quot;color&quot;: &quot;blue&quot;, &quot;weight&quot;: 5}}}, {&quot;type&quot;: &quot;Feature&quot;, &quot;geometry&quot;: {&quot;type&quot;: &quot;Point&quot;, &quot;coordinates&quot;: [13.41, 52.469]}, &quot;properties&quot;: {&quot;time&quot;: &quot;2024-05-08T16:56:11.833000+00:00&quot;, &quot;style&quot;: {&quot;color&quot;: &quot;blue&quot;, &quot;weight&quot;: 5}}}, {&quot;type&quot;: &quot;Feature&quot;, &quot;geometry&quot;: {&quot;type&quot;: &quot;Point&quot;, &quot;coordinates&quot;: [13.353, 52.513]}, &quot;properties&quot;: {&quot;time&quot;: &quot;2024-05-08T16:56:11.841000+00:00&quot;, &quot;style&quot;: {&quot;color&quot;: &quot;blue&quot;, &quot;weight&quot;: 5}}}, {&quot;type&quot;: &quot;Feature&quot;, &quot;geometry&quot;: {&quot;type&quot;: &quot;Point&quot;, &quot;coordinates&quot;: [13.41, 52.469]}, &quot;properties&quot;: {&quot;time&quot;: &quot;2024-05-08T16:56:11.844000+00:00&quot;, &quot;style&quot;: {&quot;color&quot;: &quot;blue&quot;, &quot;weight&quot;: 5}}}, {&quot;type&quot;: &quot;Feature&quot;, &quot;geometry&quot;: {&quot;type&quot;: &quot;Point&quot;, &quot;coordinates&quot;: [13.411, 52.466]}, &quot;properties&quot;: {&quot;time&quot;: &quot;2024-05-08T16:56:11.847000+00:00&quot;, &quot;style&quot;: {&quot;color&quot;: &quot;blue&quot;, &quot;weight&quot;: 5}}}, {&quot;type&quot;: &quot;Feature&quot;, &quot;geometry&quot;: {&quot;type&quot;: &quot;Point&quot;, &quot;coordinates&quot;: [13.352, 52.514]}, &quot;properties&quot;: {&quot;time&quot;: &quot;2024-05-08T16:56:16.817000+00:00&quot;, &quot;style&quot;: {&quot;color&quot;: &quot;blue&quot;, &quot;weight&quot;: 5}}}, {&quot;type&quot;: &quot;Feature&quot;, &quot;geometry&quot;: {&quot;type&quot;: &quot;Point&quot;, &quot;coordinates&quot;: [13.354, 52.517]}, &quot;properties&quot;: {&quot;time&quot;: &quot;2024-05-08T16:56:16.818000+00:00&quot;, &quot;style&quot;: {&quot;color&quot;: &quot;blue&quot;, &quot;weight&quot;: 5}}}, {&quot;type&quot;: &quot;Feature&quot;, &quot;geometry&quot;: {&quot;type&quot;: &quot;Point&quot;, &quot;coordinates&quot;: [13.411, 52.468]}, &quot;properties&quot;: {&quot;time&quot;: &quot;2024-05-08T16:56:16.820000+00:00&quot;, &quot;style&quot;: {&quot;color&quot;: &quot;blue&quot;, &quot;weight&quot;: 5}}}, {&quot;type&quot;: &quot;Feature&quot;, &quot;geometry&quot;: {&quot;type&quot;: &quot;Point&quot;, &quot;coordinates&quot;: [13.411, 52.465]}, &quot;properties&quot;: {&quot;time&quot;: &quot;2024-05-08T16:56:16.822000+00:00&quot;, &quot;style&quot;: {&quot;color&quot;: &quot;blue&quot;, &quot;weight&quot;: 5}}}, {&quot;type&quot;: &quot;Feature&quot;, &quot;geometry&quot;: {&quot;type&quot;: &quot;Point&quot;, &quot;coordinates&quot;: [13.354, 52.514]}, &quot;properties&quot;: {&quot;time&quot;: &quot;2024-05-08T16:56:16.824000+00:00&quot;, &quot;style&quot;: {&quot;color&quot;: &quot;blue&quot;, &quot;weight&quot;: 5}}}, {&quot;type&quot;: &quot;Feature&quot;, &quot;geometry&quot;: {&quot;type&quot;: &quot;Point&quot;, &quot;coordinates&quot;: [13.41, 52.469]}, &quot;properties&quot;: {&quot;time&quot;: &quot;2024-05-08T16:56:16.826000+00:00&quot;, &quot;style&quot;: {&quot;color&quot;: &quot;blue&quot;, &quot;weight&quot;: 5}}}, {&quot;type&quot;: &quot;Feature&quot;, &quot;geometry&quot;: {&quot;type&quot;: &quot;Point&quot;, &quot;coordinates&quot;: [13.354, 52.517]}, &quot;properties&quot;: {&quot;time&quot;: &quot;2024-05-08T16:56:21.852000+00:00&quot;, &quot;style&quot;: {&quot;color&quot;: &quot;blue&quot;, &quot;weight&quot;: 5}}}, {&quot;type&quot;: &quot;Feature&quot;, &quot;geometry&quot;: {&quot;type&quot;: &quot;Point&quot;, &quot;coordinates&quot;: [13.354, 52.514]}, &quot;properties&quot;: {&quot;time&quot;: &quot;2024-05-08T16:56:21.868000+00:00&quot;, &quot;style&quot;: {&quot;color&quot;: &quot;blue&quot;, &quot;weight&quot;: 5}}}, {&quot;type&quot;: &quot;Feature&quot;, &quot;geometry&quot;: {&quot;type&quot;: &quot;Point&quot;, &quot;coordinates&quot;: [13.352, 52.514]}, &quot;properties&quot;: {&quot;time&quot;: &quot;2024-05-08T16:56:21.871000+00:00&quot;, &quot;style&quot;: {&quot;color&quot;: &quot;blue&quot;, &quot;weight&quot;: 5}}}, {&quot;type&quot;: &quot;Feature&quot;, &quot;geometry&quot;: {&quot;type&quot;: &quot;Point&quot;, &quot;coordinates&quot;: [13.41, 52.469]}, &quot;properties&quot;: {&quot;time&quot;: &quot;2024-05-08T16:56:21.873000+00:00&quot;, &quot;style&quot;: {&quot;color&quot;: &quot;blue&quot;, &quot;weight&quot;: 5}}}, {&quot;type&quot;: &quot;Feature&quot;, &quot;geometry&quot;: {&quot;type&quot;: &quot;Point&quot;, &quot;coordinates&quot;: [13.41, 52.469]}, &quot;properties&quot;: {&quot;time&quot;: &quot;2024-05-08T16:56:21.877000+00:00&quot;, &quot;style&quot;: {&quot;color&quot;: &quot;blue&quot;, &quot;weight&quot;: 5}}}, {&quot;type&quot;: &quot;Feature&quot;, &quot;geometry&quot;: {&quot;type&quot;: &quot;Point&quot;, &quot;coordinates&quot;: [13.411, 52.465]}, &quot;properties&quot;: {&quot;time&quot;: &quot;2024-05-08T16:56:21.889000+00:00&quot;, &quot;style&quot;: {&quot;color&quot;: &quot;blue&quot;, &quot;weight&quot;: 5}}}, {&quot;type&quot;: &quot;Feature&quot;, &quot;geometry&quot;: {&quot;type&quot;: &quot;Point&quot;, &quot;coordinates&quot;: [13.412, 52.468]}, &quot;properties&quot;: {&quot;time&quot;: &quot;2024-05-08T16:56:26.827000+00:00&quot;, &quot;style&quot;: {&quot;color&quot;: &quot;blue&quot;, &quot;weight&quot;: 5}}}, {&quot;type&quot;: &quot;Feature&quot;, &quot;geometry&quot;: {&quot;type&quot;: &quot;Point&quot;, &quot;coordinates&quot;: [13.353, 52.52]}, &quot;properties&quot;: {&quot;time&quot;: &quot;2024-05-08T16:56:26.832000+00:00&quot;, &quot;style&quot;: {&quot;color&quot;: &quot;blue&quot;, &quot;weight&quot;: 5}}}, {&quot;type&quot;: &quot;Feature&quot;, &quot;geometry&quot;: {&quot;type&quot;: &quot;Point&quot;, &quot;coordinates&quot;: [13.353, 52.515]}, &quot;properties&quot;: {&quot;time&quot;: &quot;2024-05-08T16:56:26.833000+00:00&quot;, &quot;style&quot;: {&quot;color&quot;: &quot;blue&quot;, &quot;weight&quot;: 5}}}, {&quot;type&quot;: &quot;Feature&quot;, &quot;geometry&quot;: {&quot;type&quot;: &quot;Point&quot;, &quot;coordinates&quot;: [13.354, 52.514]}, &quot;properties&quot;: {&quot;time&quot;: &quot;2024-05-08T16:56:26.836000+00:00&quot;, &quot;style&quot;: {&quot;color&quot;: &quot;blue&quot;, &quot;weight&quot;: 5}}}, {&quot;type&quot;: &quot;Feature&quot;, &quot;geometry&quot;: {&quot;type&quot;: &quot;Point&quot;, &quot;coordinates&quot;: [13.41, 52.469]}, &quot;properties&quot;: {&quot;time&quot;: &quot;2024-05-08T16:56:26.839000+00:00&quot;, &quot;style&quot;: {&quot;color&quot;: &quot;blue&quot;, &quot;weight&quot;: 5}}}]}, {\n",
       "                    pointToLayer: function (feature, latLng) {\n",
       "                        if (feature.properties.icon == &#x27;marker&#x27;) {\n",
       "                            if(feature.properties.iconstyle){\n",
       "                                return new L.Marker(latLng, {\n",
       "                                    icon: L.icon(feature.properties.iconstyle)});\n",
       "                            }\n",
       "                            //else\n",
       "                            return new L.Marker(latLng);\n",
       "                        }\n",
       "                        if (feature.properties.icon == &#x27;circle&#x27;) {\n",
       "                            if (feature.properties.iconstyle) {\n",
       "                                return new L.circleMarker(latLng, feature.properties.iconstyle)\n",
       "                                };\n",
       "                            //else\n",
       "                            return new L.circleMarker(latLng);\n",
       "                        }\n",
       "                        //else\n",
       "\n",
       "                        return new L.Marker(latLng);\n",
       "                    },\n",
       "                    style: function (feature) {\n",
       "                        return feature.properties.style;\n",
       "                    },\n",
       "                    onEachFeature: function(feature, layer) {\n",
       "                        if (feature.properties.popup) {\n",
       "                        layer.bindPopup(feature.properties.popup);\n",
       "                        }\n",
       "                        if (feature.properties.tooltip) {\n",
       "                        layer.bindTooltip(feature.properties.tooltip);\n",
       "                        }\n",
       "                    }\n",
       "                })\n",
       "\n",
       "            var timestamped_geo_json_d6bc04059e5e7299456b0e9090d39134 = L.timeDimension.layer.geoJson(\n",
       "                geoJsonLayer,\n",
       "                {\n",
       "                    updateTimeDimension: true,\n",
       "                    addlastPoint: true,\n",
       "                    duration: undefined,\n",
       "                }\n",
       "            ).addTo(map_e2b4eb06e7f56ba58fc7d35fe94bfb13);\n",
       "        \n",
       "&lt;/script&gt;\n",
       "&lt;/html&gt;\" style=\"position:absolute;width:100%;height:100%;left:0;top:0;border:none !important;\" allowfullscreen webkitallowfullscreen mozallowfullscreen></iframe></div></div>"
      ],
      "text/plain": [
       "<folium.folium.Map at 0x20884488500>"
      ]
     },
     "execution_count": 256,
     "metadata": {},
     "output_type": "execute_result"
    }
   ],
   "source": [
    "m2"
   ]
  }
 ],
 "metadata": {
  "kernelspec": {
   "display_name": ".venv",
   "language": "python",
   "name": "python3"
  },
  "language_info": {
   "codemirror_mode": {
    "name": "ipython",
    "version": 3
   },
   "file_extension": ".py",
   "mimetype": "text/x-python",
   "name": "python",
   "nbconvert_exporter": "python",
   "pygments_lexer": "ipython3",
   "version": "3.12.3"
  }
 },
 "nbformat": 4,
 "nbformat_minor": 2
}
